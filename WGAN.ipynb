{
  "nbformat": 4,
  "nbformat_minor": 0,
  "metadata": {
    "accelerator": "GPU",
    "colab": {
      "name": "WGAN.ipynb",
      "provenance": [],
      "collapsed_sections": []
    },
    "kernelspec": {
      "display_name": "Python 3",
      "language": "python",
      "name": "python3"
    },
    "language_info": {
      "codemirror_mode": {
        "name": "ipython",
        "version": 3
      },
      "file_extension": ".py",
      "mimetype": "text/x-python",
      "name": "python",
      "nbconvert_exporter": "python",
      "pygments_lexer": "ipython3",
      "version": "3.8.5"
    },
    "toc": {
      "base_numbering": 1,
      "nav_menu": {},
      "number_sections": true,
      "sideBar": true,
      "skip_h1_title": false,
      "title_cell": "Table of Contents",
      "title_sidebar": "Contents",
      "toc_cell": false,
      "toc_position": {},
      "toc_section_display": true,
      "toc_window_display": false
    },
    "widgets": {
      "application/vnd.jupyter.widget-state+json": {
        "62da5e35bc57447bb5c05fde0e8bed32": {
          "model_module": "@jupyter-widgets/controls",
          "model_name": "HBoxModel",
          "state": {
            "_view_name": "HBoxView",
            "_dom_classes": [],
            "_model_name": "HBoxModel",
            "_view_module": "@jupyter-widgets/controls",
            "_model_module_version": "1.5.0",
            "_view_count": null,
            "_view_module_version": "1.5.0",
            "box_style": "",
            "layout": "IPY_MODEL_eb9c6751738a47b88cce199070c88160",
            "_model_module": "@jupyter-widgets/controls",
            "children": [
              "IPY_MODEL_296fd9fb2afe4f788d43796633214c8a",
              "IPY_MODEL_8ba7fb1be15549c0b1ed40e761948552"
            ]
          }
        },
        "eb9c6751738a47b88cce199070c88160": {
          "model_module": "@jupyter-widgets/base",
          "model_name": "LayoutModel",
          "state": {
            "_view_name": "LayoutView",
            "grid_template_rows": null,
            "right": null,
            "justify_content": null,
            "_view_module": "@jupyter-widgets/base",
            "overflow": null,
            "_model_module_version": "1.2.0",
            "_view_count": null,
            "flex_flow": null,
            "width": null,
            "min_width": null,
            "border": null,
            "align_items": null,
            "bottom": null,
            "_model_module": "@jupyter-widgets/base",
            "top": null,
            "grid_column": null,
            "overflow_y": null,
            "overflow_x": null,
            "grid_auto_flow": null,
            "grid_area": null,
            "grid_template_columns": null,
            "flex": null,
            "_model_name": "LayoutModel",
            "justify_items": null,
            "grid_row": null,
            "max_height": null,
            "align_content": null,
            "visibility": null,
            "align_self": null,
            "height": null,
            "min_height": null,
            "padding": null,
            "grid_auto_rows": null,
            "grid_gap": null,
            "max_width": null,
            "order": null,
            "_view_module_version": "1.2.0",
            "grid_template_areas": null,
            "object_position": null,
            "object_fit": null,
            "grid_auto_columns": null,
            "margin": null,
            "display": null,
            "left": null
          }
        },
        "296fd9fb2afe4f788d43796633214c8a": {
          "model_module": "@jupyter-widgets/controls",
          "model_name": "FloatProgressModel",
          "state": {
            "_view_name": "ProgressView",
            "style": "IPY_MODEL_881140c759d746b6b5937c27527578d4",
            "_dom_classes": [],
            "description": "",
            "_model_name": "FloatProgressModel",
            "bar_style": "info",
            "max": 1,
            "_view_module": "@jupyter-widgets/controls",
            "_model_module_version": "1.5.0",
            "value": 1,
            "_view_count": null,
            "_view_module_version": "1.5.0",
            "orientation": "horizontal",
            "min": 0,
            "description_tooltip": null,
            "_model_module": "@jupyter-widgets/controls",
            "layout": "IPY_MODEL_b4aa3c2f36254cf6bc44e950a0dcf996"
          }
        },
        "8ba7fb1be15549c0b1ed40e761948552": {
          "model_module": "@jupyter-widgets/controls",
          "model_name": "HTMLModel",
          "state": {
            "_view_name": "HTMLView",
            "style": "IPY_MODEL_fe6154e51b8e44f2b04af60eac96439c",
            "_dom_classes": [],
            "description": "",
            "_model_name": "HTMLModel",
            "placeholder": "​",
            "_view_module": "@jupyter-widgets/controls",
            "_model_module_version": "1.5.0",
            "value": " 9920512/? [00:20&lt;00:00, 24326327.74it/s]",
            "_view_count": null,
            "_view_module_version": "1.5.0",
            "description_tooltip": null,
            "_model_module": "@jupyter-widgets/controls",
            "layout": "IPY_MODEL_805be91ed1424bf8b73e1db813242070"
          }
        },
        "881140c759d746b6b5937c27527578d4": {
          "model_module": "@jupyter-widgets/controls",
          "model_name": "ProgressStyleModel",
          "state": {
            "_view_name": "StyleView",
            "_model_name": "ProgressStyleModel",
            "description_width": "initial",
            "_view_module": "@jupyter-widgets/base",
            "_model_module_version": "1.5.0",
            "_view_count": null,
            "_view_module_version": "1.2.0",
            "bar_color": null,
            "_model_module": "@jupyter-widgets/controls"
          }
        },
        "b4aa3c2f36254cf6bc44e950a0dcf996": {
          "model_module": "@jupyter-widgets/base",
          "model_name": "LayoutModel",
          "state": {
            "_view_name": "LayoutView",
            "grid_template_rows": null,
            "right": null,
            "justify_content": null,
            "_view_module": "@jupyter-widgets/base",
            "overflow": null,
            "_model_module_version": "1.2.0",
            "_view_count": null,
            "flex_flow": null,
            "width": null,
            "min_width": null,
            "border": null,
            "align_items": null,
            "bottom": null,
            "_model_module": "@jupyter-widgets/base",
            "top": null,
            "grid_column": null,
            "overflow_y": null,
            "overflow_x": null,
            "grid_auto_flow": null,
            "grid_area": null,
            "grid_template_columns": null,
            "flex": null,
            "_model_name": "LayoutModel",
            "justify_items": null,
            "grid_row": null,
            "max_height": null,
            "align_content": null,
            "visibility": null,
            "align_self": null,
            "height": null,
            "min_height": null,
            "padding": null,
            "grid_auto_rows": null,
            "grid_gap": null,
            "max_width": null,
            "order": null,
            "_view_module_version": "1.2.0",
            "grid_template_areas": null,
            "object_position": null,
            "object_fit": null,
            "grid_auto_columns": null,
            "margin": null,
            "display": null,
            "left": null
          }
        },
        "fe6154e51b8e44f2b04af60eac96439c": {
          "model_module": "@jupyter-widgets/controls",
          "model_name": "DescriptionStyleModel",
          "state": {
            "_view_name": "StyleView",
            "_model_name": "DescriptionStyleModel",
            "description_width": "",
            "_view_module": "@jupyter-widgets/base",
            "_model_module_version": "1.5.0",
            "_view_count": null,
            "_view_module_version": "1.2.0",
            "_model_module": "@jupyter-widgets/controls"
          }
        },
        "805be91ed1424bf8b73e1db813242070": {
          "model_module": "@jupyter-widgets/base",
          "model_name": "LayoutModel",
          "state": {
            "_view_name": "LayoutView",
            "grid_template_rows": null,
            "right": null,
            "justify_content": null,
            "_view_module": "@jupyter-widgets/base",
            "overflow": null,
            "_model_module_version": "1.2.0",
            "_view_count": null,
            "flex_flow": null,
            "width": null,
            "min_width": null,
            "border": null,
            "align_items": null,
            "bottom": null,
            "_model_module": "@jupyter-widgets/base",
            "top": null,
            "grid_column": null,
            "overflow_y": null,
            "overflow_x": null,
            "grid_auto_flow": null,
            "grid_area": null,
            "grid_template_columns": null,
            "flex": null,
            "_model_name": "LayoutModel",
            "justify_items": null,
            "grid_row": null,
            "max_height": null,
            "align_content": null,
            "visibility": null,
            "align_self": null,
            "height": null,
            "min_height": null,
            "padding": null,
            "grid_auto_rows": null,
            "grid_gap": null,
            "max_width": null,
            "order": null,
            "_view_module_version": "1.2.0",
            "grid_template_areas": null,
            "object_position": null,
            "object_fit": null,
            "grid_auto_columns": null,
            "margin": null,
            "display": null,
            "left": null
          }
        },
        "b5c53d54e2324865b93b474ca3c61a88": {
          "model_module": "@jupyter-widgets/controls",
          "model_name": "HBoxModel",
          "state": {
            "_view_name": "HBoxView",
            "_dom_classes": [],
            "_model_name": "HBoxModel",
            "_view_module": "@jupyter-widgets/controls",
            "_model_module_version": "1.5.0",
            "_view_count": null,
            "_view_module_version": "1.5.0",
            "box_style": "",
            "layout": "IPY_MODEL_5d7b7a40d72440be93d9f6ba4fed8c7d",
            "_model_module": "@jupyter-widgets/controls",
            "children": [
              "IPY_MODEL_e99dec86384b491b8555125bfbbe33d7",
              "IPY_MODEL_450bef64a8af4c7da033abd87a9ef5c9"
            ]
          }
        },
        "5d7b7a40d72440be93d9f6ba4fed8c7d": {
          "model_module": "@jupyter-widgets/base",
          "model_name": "LayoutModel",
          "state": {
            "_view_name": "LayoutView",
            "grid_template_rows": null,
            "right": null,
            "justify_content": null,
            "_view_module": "@jupyter-widgets/base",
            "overflow": null,
            "_model_module_version": "1.2.0",
            "_view_count": null,
            "flex_flow": null,
            "width": null,
            "min_width": null,
            "border": null,
            "align_items": null,
            "bottom": null,
            "_model_module": "@jupyter-widgets/base",
            "top": null,
            "grid_column": null,
            "overflow_y": null,
            "overflow_x": null,
            "grid_auto_flow": null,
            "grid_area": null,
            "grid_template_columns": null,
            "flex": null,
            "_model_name": "LayoutModel",
            "justify_items": null,
            "grid_row": null,
            "max_height": null,
            "align_content": null,
            "visibility": null,
            "align_self": null,
            "height": null,
            "min_height": null,
            "padding": null,
            "grid_auto_rows": null,
            "grid_gap": null,
            "max_width": null,
            "order": null,
            "_view_module_version": "1.2.0",
            "grid_template_areas": null,
            "object_position": null,
            "object_fit": null,
            "grid_auto_columns": null,
            "margin": null,
            "display": null,
            "left": null
          }
        },
        "e99dec86384b491b8555125bfbbe33d7": {
          "model_module": "@jupyter-widgets/controls",
          "model_name": "FloatProgressModel",
          "state": {
            "_view_name": "ProgressView",
            "style": "IPY_MODEL_8117b72897b041e9bda51c80ae385fa2",
            "_dom_classes": [],
            "description": "",
            "_model_name": "FloatProgressModel",
            "bar_style": "info",
            "max": 1,
            "_view_module": "@jupyter-widgets/controls",
            "_model_module_version": "1.5.0",
            "value": 0,
            "_view_count": null,
            "_view_module_version": "1.5.0",
            "orientation": "horizontal",
            "min": 0,
            "description_tooltip": null,
            "_model_module": "@jupyter-widgets/controls",
            "layout": "IPY_MODEL_e235069324d04c508cb41677f9bdb724"
          }
        },
        "450bef64a8af4c7da033abd87a9ef5c9": {
          "model_module": "@jupyter-widgets/controls",
          "model_name": "HTMLModel",
          "state": {
            "_view_name": "HTMLView",
            "style": "IPY_MODEL_dcafd73334f44e54a12048ef0f8ecc94",
            "_dom_classes": [],
            "description": "",
            "_model_name": "HTMLModel",
            "placeholder": "​",
            "_view_module": "@jupyter-widgets/controls",
            "_model_module_version": "1.5.0",
            "value": " 0/? [00:00&lt;?, ?it/s]",
            "_view_count": null,
            "_view_module_version": "1.5.0",
            "description_tooltip": null,
            "_model_module": "@jupyter-widgets/controls",
            "layout": "IPY_MODEL_c60dc3ad209c4e6b8a9ec3f281dbb387"
          }
        },
        "8117b72897b041e9bda51c80ae385fa2": {
          "model_module": "@jupyter-widgets/controls",
          "model_name": "ProgressStyleModel",
          "state": {
            "_view_name": "StyleView",
            "_model_name": "ProgressStyleModel",
            "description_width": "initial",
            "_view_module": "@jupyter-widgets/base",
            "_model_module_version": "1.5.0",
            "_view_count": null,
            "_view_module_version": "1.2.0",
            "bar_color": null,
            "_model_module": "@jupyter-widgets/controls"
          }
        },
        "e235069324d04c508cb41677f9bdb724": {
          "model_module": "@jupyter-widgets/base",
          "model_name": "LayoutModel",
          "state": {
            "_view_name": "LayoutView",
            "grid_template_rows": null,
            "right": null,
            "justify_content": null,
            "_view_module": "@jupyter-widgets/base",
            "overflow": null,
            "_model_module_version": "1.2.0",
            "_view_count": null,
            "flex_flow": null,
            "width": null,
            "min_width": null,
            "border": null,
            "align_items": null,
            "bottom": null,
            "_model_module": "@jupyter-widgets/base",
            "top": null,
            "grid_column": null,
            "overflow_y": null,
            "overflow_x": null,
            "grid_auto_flow": null,
            "grid_area": null,
            "grid_template_columns": null,
            "flex": null,
            "_model_name": "LayoutModel",
            "justify_items": null,
            "grid_row": null,
            "max_height": null,
            "align_content": null,
            "visibility": null,
            "align_self": null,
            "height": null,
            "min_height": null,
            "padding": null,
            "grid_auto_rows": null,
            "grid_gap": null,
            "max_width": null,
            "order": null,
            "_view_module_version": "1.2.0",
            "grid_template_areas": null,
            "object_position": null,
            "object_fit": null,
            "grid_auto_columns": null,
            "margin": null,
            "display": null,
            "left": null
          }
        },
        "dcafd73334f44e54a12048ef0f8ecc94": {
          "model_module": "@jupyter-widgets/controls",
          "model_name": "DescriptionStyleModel",
          "state": {
            "_view_name": "StyleView",
            "_model_name": "DescriptionStyleModel",
            "description_width": "",
            "_view_module": "@jupyter-widgets/base",
            "_model_module_version": "1.5.0",
            "_view_count": null,
            "_view_module_version": "1.2.0",
            "_model_module": "@jupyter-widgets/controls"
          }
        },
        "c60dc3ad209c4e6b8a9ec3f281dbb387": {
          "model_module": "@jupyter-widgets/base",
          "model_name": "LayoutModel",
          "state": {
            "_view_name": "LayoutView",
            "grid_template_rows": null,
            "right": null,
            "justify_content": null,
            "_view_module": "@jupyter-widgets/base",
            "overflow": null,
            "_model_module_version": "1.2.0",
            "_view_count": null,
            "flex_flow": null,
            "width": null,
            "min_width": null,
            "border": null,
            "align_items": null,
            "bottom": null,
            "_model_module": "@jupyter-widgets/base",
            "top": null,
            "grid_column": null,
            "overflow_y": null,
            "overflow_x": null,
            "grid_auto_flow": null,
            "grid_area": null,
            "grid_template_columns": null,
            "flex": null,
            "_model_name": "LayoutModel",
            "justify_items": null,
            "grid_row": null,
            "max_height": null,
            "align_content": null,
            "visibility": null,
            "align_self": null,
            "height": null,
            "min_height": null,
            "padding": null,
            "grid_auto_rows": null,
            "grid_gap": null,
            "max_width": null,
            "order": null,
            "_view_module_version": "1.2.0",
            "grid_template_areas": null,
            "object_position": null,
            "object_fit": null,
            "grid_auto_columns": null,
            "margin": null,
            "display": null,
            "left": null
          }
        },
        "e65f99de120847e399d9b0add12e24bc": {
          "model_module": "@jupyter-widgets/controls",
          "model_name": "HBoxModel",
          "state": {
            "_view_name": "HBoxView",
            "_dom_classes": [],
            "_model_name": "HBoxModel",
            "_view_module": "@jupyter-widgets/controls",
            "_model_module_version": "1.5.0",
            "_view_count": null,
            "_view_module_version": "1.5.0",
            "box_style": "",
            "layout": "IPY_MODEL_99f95ce4e59245cbad8ea16e466d1149",
            "_model_module": "@jupyter-widgets/controls",
            "children": [
              "IPY_MODEL_917920796c3f4a05a62378989d39327c",
              "IPY_MODEL_4d071d1e399e49ffa98be5b5744bf79f"
            ]
          }
        },
        "99f95ce4e59245cbad8ea16e466d1149": {
          "model_module": "@jupyter-widgets/base",
          "model_name": "LayoutModel",
          "state": {
            "_view_name": "LayoutView",
            "grid_template_rows": null,
            "right": null,
            "justify_content": null,
            "_view_module": "@jupyter-widgets/base",
            "overflow": null,
            "_model_module_version": "1.2.0",
            "_view_count": null,
            "flex_flow": null,
            "width": null,
            "min_width": null,
            "border": null,
            "align_items": null,
            "bottom": null,
            "_model_module": "@jupyter-widgets/base",
            "top": null,
            "grid_column": null,
            "overflow_y": null,
            "overflow_x": null,
            "grid_auto_flow": null,
            "grid_area": null,
            "grid_template_columns": null,
            "flex": null,
            "_model_name": "LayoutModel",
            "justify_items": null,
            "grid_row": null,
            "max_height": null,
            "align_content": null,
            "visibility": null,
            "align_self": null,
            "height": null,
            "min_height": null,
            "padding": null,
            "grid_auto_rows": null,
            "grid_gap": null,
            "max_width": null,
            "order": null,
            "_view_module_version": "1.2.0",
            "grid_template_areas": null,
            "object_position": null,
            "object_fit": null,
            "grid_auto_columns": null,
            "margin": null,
            "display": null,
            "left": null
          }
        },
        "917920796c3f4a05a62378989d39327c": {
          "model_module": "@jupyter-widgets/controls",
          "model_name": "FloatProgressModel",
          "state": {
            "_view_name": "ProgressView",
            "style": "IPY_MODEL_c83b465756b74286a5c02df5363531da",
            "_dom_classes": [],
            "description": "",
            "_model_name": "FloatProgressModel",
            "bar_style": "success",
            "max": 1,
            "_view_module": "@jupyter-widgets/controls",
            "_model_module_version": "1.5.0",
            "value": 1,
            "_view_count": null,
            "_view_module_version": "1.5.0",
            "orientation": "horizontal",
            "min": 0,
            "description_tooltip": null,
            "_model_module": "@jupyter-widgets/controls",
            "layout": "IPY_MODEL_c236d79667324f92af0316a0912864cc"
          }
        },
        "4d071d1e399e49ffa98be5b5744bf79f": {
          "model_module": "@jupyter-widgets/controls",
          "model_name": "HTMLModel",
          "state": {
            "_view_name": "HTMLView",
            "style": "IPY_MODEL_db39365144b8406984d51f3032741f0b",
            "_dom_classes": [],
            "description": "",
            "_model_name": "HTMLModel",
            "placeholder": "​",
            "_view_module": "@jupyter-widgets/controls",
            "_model_module_version": "1.5.0",
            "value": " 1654784/? [00:00&lt;00:00, 3514217.36it/s]",
            "_view_count": null,
            "_view_module_version": "1.5.0",
            "description_tooltip": null,
            "_model_module": "@jupyter-widgets/controls",
            "layout": "IPY_MODEL_631479a1b611438dbeb14d8661e188b5"
          }
        },
        "c83b465756b74286a5c02df5363531da": {
          "model_module": "@jupyter-widgets/controls",
          "model_name": "ProgressStyleModel",
          "state": {
            "_view_name": "StyleView",
            "_model_name": "ProgressStyleModel",
            "description_width": "initial",
            "_view_module": "@jupyter-widgets/base",
            "_model_module_version": "1.5.0",
            "_view_count": null,
            "_view_module_version": "1.2.0",
            "bar_color": null,
            "_model_module": "@jupyter-widgets/controls"
          }
        },
        "c236d79667324f92af0316a0912864cc": {
          "model_module": "@jupyter-widgets/base",
          "model_name": "LayoutModel",
          "state": {
            "_view_name": "LayoutView",
            "grid_template_rows": null,
            "right": null,
            "justify_content": null,
            "_view_module": "@jupyter-widgets/base",
            "overflow": null,
            "_model_module_version": "1.2.0",
            "_view_count": null,
            "flex_flow": null,
            "width": null,
            "min_width": null,
            "border": null,
            "align_items": null,
            "bottom": null,
            "_model_module": "@jupyter-widgets/base",
            "top": null,
            "grid_column": null,
            "overflow_y": null,
            "overflow_x": null,
            "grid_auto_flow": null,
            "grid_area": null,
            "grid_template_columns": null,
            "flex": null,
            "_model_name": "LayoutModel",
            "justify_items": null,
            "grid_row": null,
            "max_height": null,
            "align_content": null,
            "visibility": null,
            "align_self": null,
            "height": null,
            "min_height": null,
            "padding": null,
            "grid_auto_rows": null,
            "grid_gap": null,
            "max_width": null,
            "order": null,
            "_view_module_version": "1.2.0",
            "grid_template_areas": null,
            "object_position": null,
            "object_fit": null,
            "grid_auto_columns": null,
            "margin": null,
            "display": null,
            "left": null
          }
        },
        "db39365144b8406984d51f3032741f0b": {
          "model_module": "@jupyter-widgets/controls",
          "model_name": "DescriptionStyleModel",
          "state": {
            "_view_name": "StyleView",
            "_model_name": "DescriptionStyleModel",
            "description_width": "",
            "_view_module": "@jupyter-widgets/base",
            "_model_module_version": "1.5.0",
            "_view_count": null,
            "_view_module_version": "1.2.0",
            "_model_module": "@jupyter-widgets/controls"
          }
        },
        "631479a1b611438dbeb14d8661e188b5": {
          "model_module": "@jupyter-widgets/base",
          "model_name": "LayoutModel",
          "state": {
            "_view_name": "LayoutView",
            "grid_template_rows": null,
            "right": null,
            "justify_content": null,
            "_view_module": "@jupyter-widgets/base",
            "overflow": null,
            "_model_module_version": "1.2.0",
            "_view_count": null,
            "flex_flow": null,
            "width": null,
            "min_width": null,
            "border": null,
            "align_items": null,
            "bottom": null,
            "_model_module": "@jupyter-widgets/base",
            "top": null,
            "grid_column": null,
            "overflow_y": null,
            "overflow_x": null,
            "grid_auto_flow": null,
            "grid_area": null,
            "grid_template_columns": null,
            "flex": null,
            "_model_name": "LayoutModel",
            "justify_items": null,
            "grid_row": null,
            "max_height": null,
            "align_content": null,
            "visibility": null,
            "align_self": null,
            "height": null,
            "min_height": null,
            "padding": null,
            "grid_auto_rows": null,
            "grid_gap": null,
            "max_width": null,
            "order": null,
            "_view_module_version": "1.2.0",
            "grid_template_areas": null,
            "object_position": null,
            "object_fit": null,
            "grid_auto_columns": null,
            "margin": null,
            "display": null,
            "left": null
          }
        },
        "0c97b2e21b954a9681c7e47584fc8283": {
          "model_module": "@jupyter-widgets/controls",
          "model_name": "HBoxModel",
          "state": {
            "_view_name": "HBoxView",
            "_dom_classes": [],
            "_model_name": "HBoxModel",
            "_view_module": "@jupyter-widgets/controls",
            "_model_module_version": "1.5.0",
            "_view_count": null,
            "_view_module_version": "1.5.0",
            "box_style": "",
            "layout": "IPY_MODEL_25534c6119b8441cb7df7a64573cd1ec",
            "_model_module": "@jupyter-widgets/controls",
            "children": [
              "IPY_MODEL_b74235b42caf4c3bbd2d51a7df359ac8",
              "IPY_MODEL_15220dfa441c4ca59d9a55020d686e06"
            ]
          }
        },
        "25534c6119b8441cb7df7a64573cd1ec": {
          "model_module": "@jupyter-widgets/base",
          "model_name": "LayoutModel",
          "state": {
            "_view_name": "LayoutView",
            "grid_template_rows": null,
            "right": null,
            "justify_content": null,
            "_view_module": "@jupyter-widgets/base",
            "overflow": null,
            "_model_module_version": "1.2.0",
            "_view_count": null,
            "flex_flow": null,
            "width": null,
            "min_width": null,
            "border": null,
            "align_items": null,
            "bottom": null,
            "_model_module": "@jupyter-widgets/base",
            "top": null,
            "grid_column": null,
            "overflow_y": null,
            "overflow_x": null,
            "grid_auto_flow": null,
            "grid_area": null,
            "grid_template_columns": null,
            "flex": null,
            "_model_name": "LayoutModel",
            "justify_items": null,
            "grid_row": null,
            "max_height": null,
            "align_content": null,
            "visibility": null,
            "align_self": null,
            "height": null,
            "min_height": null,
            "padding": null,
            "grid_auto_rows": null,
            "grid_gap": null,
            "max_width": null,
            "order": null,
            "_view_module_version": "1.2.0",
            "grid_template_areas": null,
            "object_position": null,
            "object_fit": null,
            "grid_auto_columns": null,
            "margin": null,
            "display": null,
            "left": null
          }
        },
        "b74235b42caf4c3bbd2d51a7df359ac8": {
          "model_module": "@jupyter-widgets/controls",
          "model_name": "FloatProgressModel",
          "state": {
            "_view_name": "ProgressView",
            "style": "IPY_MODEL_9c4ef397c30546b39e42ef3bc266fd97",
            "_dom_classes": [],
            "description": "",
            "_model_name": "FloatProgressModel",
            "bar_style": "success",
            "max": 1,
            "_view_module": "@jupyter-widgets/controls",
            "_model_module_version": "1.5.0",
            "value": 1,
            "_view_count": null,
            "_view_module_version": "1.5.0",
            "orientation": "horizontal",
            "min": 0,
            "description_tooltip": null,
            "_model_module": "@jupyter-widgets/controls",
            "layout": "IPY_MODEL_8fbd33d6dcf84034ae11fc4181d16570"
          }
        },
        "15220dfa441c4ca59d9a55020d686e06": {
          "model_module": "@jupyter-widgets/controls",
          "model_name": "HTMLModel",
          "state": {
            "_view_name": "HTMLView",
            "style": "IPY_MODEL_41e0991a7efa4328af43790891e87d22",
            "_dom_classes": [],
            "description": "",
            "_model_name": "HTMLModel",
            "placeholder": "​",
            "_view_module": "@jupyter-widgets/controls",
            "_model_module_version": "1.5.0",
            "value": " 8192/? [00:00&lt;00:00, 32635.20it/s]",
            "_view_count": null,
            "_view_module_version": "1.5.0",
            "description_tooltip": null,
            "_model_module": "@jupyter-widgets/controls",
            "layout": "IPY_MODEL_477770af33344d61a7e054b8b18de25b"
          }
        },
        "9c4ef397c30546b39e42ef3bc266fd97": {
          "model_module": "@jupyter-widgets/controls",
          "model_name": "ProgressStyleModel",
          "state": {
            "_view_name": "StyleView",
            "_model_name": "ProgressStyleModel",
            "description_width": "initial",
            "_view_module": "@jupyter-widgets/base",
            "_model_module_version": "1.5.0",
            "_view_count": null,
            "_view_module_version": "1.2.0",
            "bar_color": null,
            "_model_module": "@jupyter-widgets/controls"
          }
        },
        "8fbd33d6dcf84034ae11fc4181d16570": {
          "model_module": "@jupyter-widgets/base",
          "model_name": "LayoutModel",
          "state": {
            "_view_name": "LayoutView",
            "grid_template_rows": null,
            "right": null,
            "justify_content": null,
            "_view_module": "@jupyter-widgets/base",
            "overflow": null,
            "_model_module_version": "1.2.0",
            "_view_count": null,
            "flex_flow": null,
            "width": null,
            "min_width": null,
            "border": null,
            "align_items": null,
            "bottom": null,
            "_model_module": "@jupyter-widgets/base",
            "top": null,
            "grid_column": null,
            "overflow_y": null,
            "overflow_x": null,
            "grid_auto_flow": null,
            "grid_area": null,
            "grid_template_columns": null,
            "flex": null,
            "_model_name": "LayoutModel",
            "justify_items": null,
            "grid_row": null,
            "max_height": null,
            "align_content": null,
            "visibility": null,
            "align_self": null,
            "height": null,
            "min_height": null,
            "padding": null,
            "grid_auto_rows": null,
            "grid_gap": null,
            "max_width": null,
            "order": null,
            "_view_module_version": "1.2.0",
            "grid_template_areas": null,
            "object_position": null,
            "object_fit": null,
            "grid_auto_columns": null,
            "margin": null,
            "display": null,
            "left": null
          }
        },
        "41e0991a7efa4328af43790891e87d22": {
          "model_module": "@jupyter-widgets/controls",
          "model_name": "DescriptionStyleModel",
          "state": {
            "_view_name": "StyleView",
            "_model_name": "DescriptionStyleModel",
            "description_width": "",
            "_view_module": "@jupyter-widgets/base",
            "_model_module_version": "1.5.0",
            "_view_count": null,
            "_view_module_version": "1.2.0",
            "_model_module": "@jupyter-widgets/controls"
          }
        },
        "477770af33344d61a7e054b8b18de25b": {
          "model_module": "@jupyter-widgets/base",
          "model_name": "LayoutModel",
          "state": {
            "_view_name": "LayoutView",
            "grid_template_rows": null,
            "right": null,
            "justify_content": null,
            "_view_module": "@jupyter-widgets/base",
            "overflow": null,
            "_model_module_version": "1.2.0",
            "_view_count": null,
            "flex_flow": null,
            "width": null,
            "min_width": null,
            "border": null,
            "align_items": null,
            "bottom": null,
            "_model_module": "@jupyter-widgets/base",
            "top": null,
            "grid_column": null,
            "overflow_y": null,
            "overflow_x": null,
            "grid_auto_flow": null,
            "grid_area": null,
            "grid_template_columns": null,
            "flex": null,
            "_model_name": "LayoutModel",
            "justify_items": null,
            "grid_row": null,
            "max_height": null,
            "align_content": null,
            "visibility": null,
            "align_self": null,
            "height": null,
            "min_height": null,
            "padding": null,
            "grid_auto_rows": null,
            "grid_gap": null,
            "max_width": null,
            "order": null,
            "_view_module_version": "1.2.0",
            "grid_template_areas": null,
            "object_position": null,
            "object_fit": null,
            "grid_auto_columns": null,
            "margin": null,
            "display": null,
            "left": null
          }
        }
      }
    }
  },
  "cells": [
    {
      "cell_type": "code",
      "metadata": {
        "id": "AoX3p78BNFwx"
      },
      "source": [
        "import torch\n",
        "import torch.optim as optim\n",
        "import torch.nn as nn\n",
        "import torch.nn.functional as F\n",
        "\n",
        "import torchvision\n",
        "\n",
        "from IPython import display\n",
        "from torch.autograd.variable import Variable\n",
        "import matplotlib.pyplot as plt\n",
        "import numpy as np"
      ],
      "execution_count": 1,
      "outputs": []
    },
    {
      "cell_type": "code",
      "metadata": {
        "id": "fss8rw0ZC2TY"
      },
      "source": [
        "device = \"cuda\" if torch.cuda.is_available() else \"cpu\""
      ],
      "execution_count": 2,
      "outputs": []
    },
    {
      "cell_type": "code",
      "metadata": {
        "id": "XRULv_wyNFwz",
        "colab": {
          "base_uri": "https://localhost:8080/",
          "height": 369,
          "referenced_widgets": [
            "62da5e35bc57447bb5c05fde0e8bed32",
            "eb9c6751738a47b88cce199070c88160",
            "296fd9fb2afe4f788d43796633214c8a",
            "8ba7fb1be15549c0b1ed40e761948552",
            "881140c759d746b6b5937c27527578d4",
            "b4aa3c2f36254cf6bc44e950a0dcf996",
            "fe6154e51b8e44f2b04af60eac96439c",
            "805be91ed1424bf8b73e1db813242070",
            "b5c53d54e2324865b93b474ca3c61a88",
            "5d7b7a40d72440be93d9f6ba4fed8c7d",
            "e99dec86384b491b8555125bfbbe33d7",
            "450bef64a8af4c7da033abd87a9ef5c9",
            "8117b72897b041e9bda51c80ae385fa2",
            "e235069324d04c508cb41677f9bdb724",
            "dcafd73334f44e54a12048ef0f8ecc94",
            "c60dc3ad209c4e6b8a9ec3f281dbb387",
            "e65f99de120847e399d9b0add12e24bc",
            "99f95ce4e59245cbad8ea16e466d1149",
            "917920796c3f4a05a62378989d39327c",
            "4d071d1e399e49ffa98be5b5744bf79f",
            "c83b465756b74286a5c02df5363531da",
            "c236d79667324f92af0316a0912864cc",
            "db39365144b8406984d51f3032741f0b",
            "631479a1b611438dbeb14d8661e188b5",
            "0c97b2e21b954a9681c7e47584fc8283",
            "25534c6119b8441cb7df7a64573cd1ec",
            "b74235b42caf4c3bbd2d51a7df359ac8",
            "15220dfa441c4ca59d9a55020d686e06",
            "9c4ef397c30546b39e42ef3bc266fd97",
            "8fbd33d6dcf84034ae11fc4181d16570",
            "41e0991a7efa4328af43790891e87d22",
            "477770af33344d61a7e054b8b18de25b"
          ]
        },
        "outputId": "4a9c640c-3637-4692-dbb7-281b9ef4814c"
      },
      "source": [
        "transform = torchvision.transforms.Compose([\n",
        "                torchvision.transforms.ToTensor(),\n",
        "                torchvision.transforms.Normalize((0.5,), (0.5,))\n",
        "    ])\n",
        "\n",
        "train_dataset = torchvision.datasets.MNIST(\n",
        "    root=\"~/torch_datasets\", train=True, transform=transform, download=True\n",
        ")\n",
        "\n",
        "test_dataset = torchvision.datasets.MNIST(\n",
        "    root=\"~/torch_datasets\", train=False, transform=transform, download=True\n",
        ")\n",
        "\n",
        "train_loader = torch.utils.data.DataLoader(\n",
        "    train_dataset, batch_size=128, shuffle=True, num_workers=4, pin_memory=True\n",
        ")\n",
        "\n",
        "test_loader = torch.utils.data.DataLoader(\n",
        "    test_dataset, batch_size=32, shuffle=False, num_workers=4\n",
        ")"
      ],
      "execution_count": 3,
      "outputs": [
        {
          "output_type": "stream",
          "text": [
            "Downloading http://yann.lecun.com/exdb/mnist/train-images-idx3-ubyte.gz to /root/torch_datasets/MNIST/raw/train-images-idx3-ubyte.gz\n"
          ],
          "name": "stdout"
        },
        {
          "output_type": "display_data",
          "data": {
            "application/vnd.jupyter.widget-view+json": {
              "model_id": "62da5e35bc57447bb5c05fde0e8bed32",
              "version_minor": 0,
              "version_major": 2
            },
            "text/plain": [
              "HBox(children=(FloatProgress(value=1.0, bar_style='info', max=1.0), HTML(value='')))"
            ]
          },
          "metadata": {
            "tags": []
          }
        },
        {
          "output_type": "stream",
          "text": [
            "Extracting /root/torch_datasets/MNIST/raw/train-images-idx3-ubyte.gz to /root/torch_datasets/MNIST/raw\n",
            "Downloading http://yann.lecun.com/exdb/mnist/train-labels-idx1-ubyte.gz to /root/torch_datasets/MNIST/raw/train-labels-idx1-ubyte.gz\n"
          ],
          "name": "stdout"
        },
        {
          "output_type": "display_data",
          "data": {
            "application/vnd.jupyter.widget-view+json": {
              "model_id": "b5c53d54e2324865b93b474ca3c61a88",
              "version_minor": 0,
              "version_major": 2
            },
            "text/plain": [
              "HBox(children=(FloatProgress(value=1.0, bar_style='info', max=1.0), HTML(value='')))"
            ]
          },
          "metadata": {
            "tags": []
          }
        },
        {
          "output_type": "stream",
          "text": [
            "Extracting /root/torch_datasets/MNIST/raw/train-labels-idx1-ubyte.gz to /root/torch_datasets/MNIST/raw\n",
            "Downloading http://yann.lecun.com/exdb/mnist/t10k-images-idx3-ubyte.gz to /root/torch_datasets/MNIST/raw/t10k-images-idx3-ubyte.gz\n"
          ],
          "name": "stdout"
        },
        {
          "output_type": "display_data",
          "data": {
            "application/vnd.jupyter.widget-view+json": {
              "model_id": "e65f99de120847e399d9b0add12e24bc",
              "version_minor": 0,
              "version_major": 2
            },
            "text/plain": [
              "HBox(children=(FloatProgress(value=1.0, bar_style='info', max=1.0), HTML(value='')))"
            ]
          },
          "metadata": {
            "tags": []
          }
        },
        {
          "output_type": "stream",
          "text": [
            "Extracting /root/torch_datasets/MNIST/raw/t10k-images-idx3-ubyte.gz to /root/torch_datasets/MNIST/raw\n",
            "Downloading http://yann.lecun.com/exdb/mnist/t10k-labels-idx1-ubyte.gz to /root/torch_datasets/MNIST/raw/t10k-labels-idx1-ubyte.gz\n"
          ],
          "name": "stdout"
        },
        {
          "output_type": "display_data",
          "data": {
            "application/vnd.jupyter.widget-view+json": {
              "model_id": "0c97b2e21b954a9681c7e47584fc8283",
              "version_minor": 0,
              "version_major": 2
            },
            "text/plain": [
              "HBox(children=(FloatProgress(value=1.0, bar_style='info', max=1.0), HTML(value='')))"
            ]
          },
          "metadata": {
            "tags": []
          }
        },
        {
          "output_type": "stream",
          "text": [
            "Extracting /root/torch_datasets/MNIST/raw/t10k-labels-idx1-ubyte.gz to /root/torch_datasets/MNIST/raw\n",
            "Processing...\n",
            "Done!\n"
          ],
          "name": "stdout"
        },
        {
          "output_type": "stream",
          "text": [
            "/usr/local/lib/python3.6/dist-packages/torchvision/datasets/mnist.py:480: UserWarning: The given NumPy array is not writeable, and PyTorch does not support non-writeable tensors. This means you can write to the underlying (supposedly non-writeable) NumPy array using the tensor. You may want to copy the array to protect its data or make it writeable before converting it to a tensor. This type of warning will be suppressed for the rest of this program. (Triggered internally at  /pytorch/torch/csrc/utils/tensor_numpy.cpp:141.)\n",
            "  return torch.from_numpy(parsed.astype(m[2], copy=False)).view(*s)\n"
          ],
          "name": "stderr"
        }
      ]
    },
    {
      "cell_type": "code",
      "metadata": {
        "id": "pNS7E6qKNFw7",
        "colab": {
          "base_uri": "https://localhost:8080/"
        },
        "outputId": "67972d99-8f2d-492c-9ad0-9126b79494b3"
      },
      "source": [
        "class DiscriminatorNet(nn.Module):\n",
        "    def __init__(self, d=10):\n",
        "        super().__init__()\n",
        "        self.flatten = nn.Flatten()\n",
        "        self.dense = nn.Linear(28*28,512)\n",
        "        self.dense2 = nn.Linear(512,256)\n",
        "        self.dense3 = nn.Linear(256,1)\n",
        "        self.sigmoid = nn.Sigmoid()\n",
        "        \n",
        "    def forward(self, x):\n",
        "        z = self.flatten(x)\n",
        "        z = F.leaky_relu(self.dense(z),0.2)\n",
        "        z = F.dropout(z, 0.3)\n",
        "        z = F.leaky_relu(self.dense2(z),0.2)\n",
        "        z = F.dropout(z, 0.3)\n",
        "        z = F.leaky_relu(self.dense3(z),0.2)\n",
        "        z = F.dropout(z, 0.3)\n",
        "        z = self.sigmoid(z)\n",
        "        return z\n",
        "    \n",
        "\n",
        "class GeneratorNet(nn.Module):\n",
        "    def __init__(self, d):\n",
        "        super().__init__()\n",
        "        self.dense = nn.Linear(d,256)\n",
        "        self.dense2 = nn.Linear(256,512)\n",
        "        self.dense3 = nn.Linear(512,784)\n",
        "    \n",
        "    def forward(self, z):\n",
        "        x = F.leaky_relu(self.dense(z),0.2)\n",
        "        x = F.leaky_relu(self.dense2(x),0.2)\n",
        "        x = torch.tanh(self.dense3(x))\n",
        "        return x"
      ],
      "execution_count": 4,
      "outputs": [
        {
          "output_type": "stream",
          "text": [
            "\n",
            "\n"
          ],
          "name": "stdout"
        }
      ]
    },
    {
      "cell_type": "code",
      "metadata": {
        "id": "n9-Y-9h0NFw4"
      },
      "source": [
        "def train_discriminator(optimizer, real_data, fake_data):\n",
        "    optimizer.zero_grad()\n",
        "    \n",
        "    prediction_real = discriminator(real_data)\n",
        "    prediction_fake = discriminator(fake_data)\n",
        "\n",
        "    loss = -(torch.mean(prediction_real)-torch.mean(prediction_fake))\n",
        "    loss.backward()\n",
        "\n",
        "    optimizer.step()\n",
        "    \n",
        "    for p in discriminator.parameters():\n",
        "        p.data.clamp_(-clip_value, clip_value)\n",
        "\n",
        "    return -loss\n",
        "\n",
        "def train_generator(optimizer, fake_data):\n",
        "    optimizer.zero_grad()\n",
        "\n",
        "    prediction = discriminator(fake_data)\n",
        "    loss = -torch.mean(prediction)\n",
        "    loss.backward()\n",
        "\n",
        "    optimizer.step()\n",
        "\n",
        "    return loss"
      ],
      "execution_count": 5,
      "outputs": []
    },
    {
      "cell_type": "code",
      "metadata": {
        "id": "NWw0JkET-q3z"
      },
      "source": [
        "def val():\n",
        "    d = 10\n",
        "    torch.manual_seed(42)\n",
        "    r,c = 5,5\n",
        "    z_random = torch.randn(r,c,d,device=device)\n",
        "    gen_imgs = generator(z_random).view(-1,28,28)\n",
        "\n",
        "    cpt = 0\n",
        "    fig,ax = plt.subplots(r,c)\n",
        "    for i in range(r):\n",
        "        for j in range(c):\n",
        "            ax[i,j].imshow(gen_imgs.detach().cpu()[cpt],\"gray\")\n",
        "            cpt += 1\n",
        "    plt.show()"
      ],
      "execution_count": 6,
      "outputs": []
    },
    {
      "cell_type": "code",
      "metadata": {
        "id": "CuJpr5gCC5qj"
      },
      "source": [
        "discriminator = DiscriminatorNet().to(device)\n",
        "generator = GeneratorNet(d=10).to(device)\n",
        "\n",
        "# Optimizers\n",
        "d_optimizer = optim.RMSprop(discriminator.parameters(), lr=0.00005)\n",
        "g_optimizer = optim.RMSprop(generator.parameters(), lr=0.00005)\n",
        "\n",
        "# Number of steps to apply to the discriminator\n",
        "d_steps = 5  # In Arjovsky et. al 2017 this variable is assigned to 5\n",
        "# Number of epochs\n",
        "num_epochs = 201\n",
        "\n",
        "clip_value = 0.01"
      ],
      "execution_count": 7,
      "outputs": []
    },
    {
      "cell_type": "code",
      "metadata": {
        "colab": {
          "base_uri": "https://localhost:8080/",
          "height": 1000
        },
        "id": "0JWDYHsVb08H",
        "outputId": "a8d83fb2-c51b-4543-9d92-32df9f3b51d9"
      },
      "source": [
        "gen_loss = []\n",
        "dis_loss = []\n",
        "\n",
        "for epoch in range(num_epochs):\n",
        "    g_loss = []\n",
        "    d_loss = []\n",
        "\n",
        "    for n_batch, (real_batch,_) in enumerate(train_loader):\n",
        "        for k in range(d_steps):\n",
        "            # Train Discriminator\n",
        "            real_data = real_batch.view(-1,28*28).to(device)\n",
        "            fake_data = generator(torch.randn(real_data.size(0), 10, device=device)).detach()        \n",
        "            l_d = train_discriminator(d_optimizer, real_data, fake_data)\n",
        "\n",
        "            d_loss.append(l_d.item())\n",
        "\n",
        "        # Train Generator\n",
        "        fake_data = generator(torch.randn(real_batch.size(0), 10, device=device)) #, requires_grad=True))\n",
        "        l_g = train_generator(g_optimizer, fake_data)\n",
        "\n",
        "        g_loss.append(l_g.item())\n",
        "\n",
        "    print(epoch, \"D:\", np.mean(d_loss), \"G:\", np.mean(g_loss))\n",
        "    gen_loss.append(np.mean(g_loss))\n",
        "    dis_loss.append(np.mean(d_loss))\n",
        "\n",
        "    if epoch % 50 == 0:\n",
        "        val()\n"
      ],
      "execution_count": 8,
      "outputs": [
        {
          "output_type": "stream",
          "text": [
            "0 D: 0.08064280694990016 G: -0.5662490231141861\n"
          ],
          "name": "stdout"
        },
        {
          "output_type": "display_data",
          "data": {
            "image/png": "[encoded data removed]",
            "text/plain": [
              "<Figure size 432x288 with 25 Axes>"
            ]
          },
          "metadata": {
            "tags": [],
            "needs_background": "light"
          }
        },
        {
          "output_type": "stream",
          "text": [
            "1 D: 0.07488107216129425 G: -0.5534523088794782\n",
            "2 D: 0.07816401745464756 G: -0.5384576762917199\n",
            "3 D: 0.0793988086775676 G: -0.5358804674036721\n",
            "4 D: 0.07869024421614625 G: -0.5365172989332854\n",
            "5 D: 0.07564248100780983 G: -0.5366234671332435\n",
            "6 D: 0.07185984529666047 G: -0.5392629985870329\n",
            "7 D: 0.06863306987006018 G: -0.5392256844272492\n",
            "8 D: 0.06533872905824739 G: -0.5384730465376555\n",
            "9 D: 0.06307422298866548 G: -0.5399549514500063\n",
            "10 D: 0.06111572007380569 G: -0.5398390978129942\n",
            "11 D: 0.058786258361995344 G: -0.5398778909050834\n",
            "12 D: 0.05647334800854421 G: -0.5412827332390905\n",
            "13 D: 0.05468645230539318 G: -0.5410458017259773\n",
            "14 D: 0.05294916833133331 G: -0.5419968878155323\n",
            "15 D: 0.05154949347855948 G: -0.5420358956241405\n",
            "16 D: 0.04968823730818498 G: -0.5403534002395581\n",
            "17 D: 0.048825195603279165 G: -0.5423808386330919\n",
            "18 D: 0.0475585730599442 G: -0.5439423219735688\n",
            "19 D: 0.04627149549882804 G: -0.5444828165111257\n",
            "20 D: 0.044419136433713216 G: -0.5436658424609251\n",
            "21 D: 0.04267712923001125 G: -0.5459260110661928\n",
            "22 D: 0.041537360240147314 G: -0.5453769480749997\n",
            "23 D: 0.04062399921386735 G: -0.5446553673825538\n",
            "24 D: 0.04004691440159324 G: -0.5460011037682165\n",
            "25 D: 0.039390830800477374 G: -0.5445747571205025\n",
            "26 D: 0.03865236375631808 G: -0.5466109976839664\n",
            "27 D: 0.03804488082938611 G: -0.5457984378088766\n",
            "28 D: 0.037408860304208195 G: -0.5453689815138957\n",
            "29 D: 0.03655132937278829 G: -0.5479288163469799\n",
            "30 D: 0.03577014426432693 G: -0.5475318674593846\n",
            "31 D: 0.03520883718279125 G: -0.545989912201855\n",
            "32 D: 0.03438662473580985 G: -0.547468497427796\n",
            "33 D: 0.033800934093084926 G: -0.5479810380223972\n",
            "34 D: 0.032974226617101414 G: -0.5470225325525443\n",
            "35 D: 0.03249323022390988 G: -0.5501749917134039\n",
            "36 D: 0.031809420422958666 G: -0.549173897136249\n",
            "37 D: 0.031035315177079713 G: -0.548707545057797\n",
            "38 D: 0.030668219676149935 G: -0.5498458860017089\n",
            "39 D: 0.02998909474944255 G: -0.5500928099984045\n",
            "40 D: 0.029705498480339293 G: -0.5504802936938271\n",
            "41 D: 0.02927388578081436 G: -0.5492161302678367\n",
            "42 D: 0.028770742817982427 G: -0.5504161505810996\n",
            "43 D: 0.02888718154638815 G: -0.5544812868653076\n",
            "44 D: 0.028185444320442832 G: -0.551567779929399\n",
            "45 D: 0.027670168292039492 G: -0.5506690053034947\n",
            "46 D: 0.027282582925580966 G: -0.5516564610924548\n",
            "47 D: 0.027179347299563606 G: -0.5501366194123144\n",
            "48 D: 0.026768718269079735 G: -0.5517378774787317\n",
            "49 D: 0.026573078515433043 G: -0.5546998404490668\n",
            "50 D: 0.0262715037697668 G: -0.5517002804192908\n"
          ],
          "name": "stdout"
        },
        {
          "output_type": "display_data",
          "data": {
            "image/png": "[encoded data removed]",
            "text/plain": [
              "<Figure size 432x288 with 25 Axes>"
            ]
          },
          "metadata": {
            "tags": [],
            "needs_background": "light"
          }
        },
        {
          "output_type": "stream",
          "text": [
            "51 D: 0.02598040607183981 G: -0.5527132111571745\n",
            "52 D: 0.025468156891845183 G: -0.5520296223890553\n",
            "53 D: 0.025629326427923337 G: -0.5531472648893084\n",
            "54 D: 0.02515422609060812 G: -0.5520832006102686\n",
            "55 D: 0.024763279047602022 G: -0.5526388922988225\n",
            "56 D: 0.02466166764180035 G: -0.5568339290903576\n",
            "57 D: 0.024441258434547797 G: -0.5558173686964933\n",
            "58 D: 0.02410742227456717 G: -0.5556295605610683\n",
            "59 D: 0.02371288118586103 G: -0.5531739460379839\n",
            "60 D: 0.02366881680641093 G: -0.5561477788475785\n",
            "61 D: 0.023486696580833973 G: -0.5544607453763104\n",
            "62 D: 0.023327583722722554 G: -0.5543610065984828\n",
            "63 D: 0.02315650794551825 G: -0.5558547971091037\n",
            "64 D: 0.022825515435448588 G: -0.5566055874453425\n",
            "65 D: 0.02269804933940424 G: -0.5571111627479097\n",
            "66 D: 0.022200637916003716 G: -0.5528703795821428\n",
            "67 D: 0.022339306635134764 G: -0.5554375165561115\n",
            "68 D: 0.022164813694415062 G: -0.5561997598168184\n",
            "69 D: 0.022223930241965027 G: -0.5581339255833169\n",
            "70 D: 0.021556620633424218 G: -0.5568088679425498\n",
            "71 D: 0.02141257877797206 G: -0.5573330039917025\n",
            "72 D: 0.021407075553560563 G: -0.5572564688318574\n",
            "73 D: 0.021067445606056816 G: -0.5553142672408619\n",
            "74 D: 0.02110060056897877 G: -0.5580005729630557\n",
            "75 D: 0.020864879449547482 G: -0.5584158489444871\n",
            "76 D: 0.020385214260646274 G: -0.5595744431400096\n",
            "77 D: 0.02026478723168119 G: -0.5581947472303915\n",
            "78 D: 0.020216489549893052 G: -0.5588529833090077\n",
            "79 D: 0.020055149231892406 G: -0.5598312631598922\n",
            "80 D: 0.019829037194567193 G: -0.559960668910541\n",
            "81 D: 0.019713691124783904 G: -0.5593394987872923\n",
            "82 D: 0.019338683660096452 G: -0.5601630956887691\n",
            "83 D: 0.019394325320400408 G: -0.5604872032523409\n",
            "84 D: 0.018951188450428976 G: -0.5586700252632597\n",
            "85 D: 0.018942282753966765 G: -0.5630568497216524\n",
            "86 D: 0.018862936517068826 G: -0.5602413781924542\n",
            "87 D: 0.0187988556270152 G: -0.5610978735535384\n",
            "88 D: 0.018973627298879726 G: -0.5613466788456638\n",
            "89 D: 0.018610096231960794 G: -0.5616852805050198\n",
            "90 D: 0.018833576768700247 G: -0.5635591754272803\n",
            "91 D: 0.018728066456597497 G: -0.5607280817621553\n",
            "92 D: 0.018668387337788337 G: -0.562579088500822\n",
            "93 D: 0.01876539942552286 G: -0.5695359840321896\n",
            "94 D: 0.018504688200920123 G: -0.5650285153246638\n",
            "95 D: 0.018400118066303765 G: -0.563350313507926\n",
            "96 D: 0.018143517427098778 G: -0.5633251603478308\n",
            "97 D: 0.01845508455467631 G: -0.5613902174333519\n",
            "98 D: 0.0182870798019458 G: -0.5634506914153028\n",
            "99 D: 0.0182890488521885 G: -0.5681323135839597\n",
            "100 D: 0.018258128974483465 G: -0.5643748009382789\n"
          ],
          "name": "stdout"
        },
        {
          "output_type": "display_data",
          "data": {
            "image/png": "[encoded data removed]",
            "text/plain": [
              "<Figure size 432x288 with 25 Axes>"
            ]
          },
          "metadata": {
            "tags": [],
            "needs_background": "light"
          }
        },
        {
          "output_type": "stream",
          "text": [
            "101 D: 0.018225205224205943 G: -0.5641681277421492\n",
            "102 D: 0.018019941951166085 G: -0.5635535095546291\n",
            "103 D: 0.018146692816890887 G: -0.5662824420024083\n",
            "104 D: 0.017866856558744842 G: -0.5637857592436296\n",
            "105 D: 0.01790149087336526 G: -0.5629568534619265\n",
            "106 D: 0.018122918976903723 G: -0.568026273362418\n",
            "107 D: 0.018056472799162875 G: -0.5673238802820381\n",
            "108 D: 0.01775206439276494 G: -0.5680567523055493\n",
            "109 D: 0.017577031985528943 G: -0.5639986611886828\n",
            "110 D: 0.01771933231780778 G: -0.5676485392838907\n",
            "111 D: 0.01766125558535936 G: -0.5654005629421551\n",
            "112 D: 0.017511445093256577 G: -0.5645308654699752\n",
            "113 D: 0.017764624273344905 G: -0.5655786265442366\n",
            "114 D: 0.01762121890399502 G: -0.5672149046906022\n",
            "115 D: 0.017509197578755523 G: -0.5691811560567762\n",
            "116 D: 0.016933588610529137 G: -0.5639775305160327\n",
            "117 D: 0.017357210970636625 G: -0.5673411205125007\n",
            "118 D: 0.017348287329236583 G: -0.5674823691595846\n",
            "119 D: 0.01754443546348035 G: -0.569408709687719\n",
            "120 D: 0.01728330583714727 G: -0.5672160211656647\n",
            "121 D: 0.01740417330503972 G: -0.5681359518819781\n",
            "122 D: 0.017446808494738678 G: -0.5680318272698408\n",
            "123 D: 0.017208714246241524 G: -0.5655707010963579\n",
            "124 D: 0.01721991245934704 G: -0.5692773048303275\n",
            "125 D: 0.017389476642425634 G: -0.568835265092504\n",
            "126 D: 0.017096351026726176 G: -0.5691967558250752\n",
            "127 D: 0.017029731588831334 G: -0.5693356130423068\n",
            "128 D: 0.01715616704558513 G: -0.5701125400152796\n",
            "129 D: 0.017123976978920163 G: -0.5710516840155954\n",
            "130 D: 0.01706637485957603 G: -0.5700928942481084\n",
            "131 D: 0.01725424111270701 G: -0.5680947681225693\n",
            "132 D: 0.017004587629964867 G: -0.5690329663280739\n",
            "133 D: 0.016967693613027968 G: -0.5702744818953817\n",
            "134 D: 0.016690851935445627 G: -0.5667973379336441\n",
            "135 D: 0.016859135775169586 G: -0.5719282564832203\n",
            "136 D: 0.016589309589695067 G: -0.5686742407935006\n",
            "137 D: 0.0166576568760089 G: -0.5695022605121263\n",
            "138 D: 0.016745122078893535 G: -0.5700696382695424\n",
            "139 D: 0.016386975484616213 G: -0.5700462849409595\n",
            "140 D: 0.016635163862313798 G: -0.5720385490958371\n",
            "141 D: 0.016205945769861056 G: -0.5699201631647691\n",
            "142 D: 0.01639332860263426 G: -0.5716133965358042\n",
            "143 D: 0.016826840250222668 G: -0.5782965272982746\n",
            "144 D: 0.016539911852716638 G: -0.5742390368030523\n",
            "145 D: 0.0161985141636212 G: -0.5724636974619396\n",
            "146 D: 0.016020969515924514 G: -0.5715961180516144\n",
            "147 D: 0.016297829405331154 G: -0.5708327159952762\n",
            "148 D: 0.015989844936297647 G: -0.572527204495249\n",
            "149 D: 0.016304657886277385 G: -0.5773535628816975\n",
            "150 D: 0.016257791414952226 G: -0.573226311440661\n"
          ],
          "name": "stdout"
        },
        {
          "output_type": "display_data",
          "data": {
            "image/png": "[encoded data removed]",
            "text/plain": [
              "<Figure size 432x288 with 25 Axes>"
            ]
          },
          "metadata": {
            "tags": [],
            "needs_background": "light"
          }
        },
        {
          "output_type": "stream",
          "text": [
            "151 D: 0.016144864798100518 G: -0.5732699281244136\n",
            "152 D: 0.015938904366767738 G: -0.5716613315061719\n",
            "153 D: 0.016067476465757975 G: -0.5745151358118443\n",
            "154 D: 0.015574316963203935 G: -0.5729648085799552\n",
            "155 D: 0.015601429578337843 G: -0.5713738378431243\n",
            "156 D: 0.015824504015542296 G: -0.5779900267434273\n",
            "157 D: 0.015759662219456263 G: -0.5762052222101419\n",
            "158 D: 0.01577555169937199 G: -0.5760873652724569\n",
            "159 D: 0.015385810830699865 G: -0.5717085252946882\n",
            "160 D: 0.015571489847545177 G: -0.5757149891304308\n",
            "161 D: 0.015575894872262788 G: -0.5734463646721992\n",
            "162 D: 0.015396860235535513 G: -0.5719754492550262\n",
            "163 D: 0.015697602117493718 G: -0.5736280566593731\n",
            "164 D: 0.015457968594931336 G: -0.5746648822511945\n",
            "165 D: 0.015588904583632057 G: -0.5751959075297374\n",
            "166 D: 0.015220753495881298 G: -0.5710783710103553\n",
            "167 D: 0.015549844414440553 G: -0.5747010321505288\n",
            "168 D: 0.015556548500874403 G: -0.5729826753581765\n",
            "169 D: 0.015582831429520142 G: -0.5756861056600299\n",
            "170 D: 0.015162998984363288 G: -0.573177507564203\n",
            "171 D: 0.01521888462973556 G: -0.5749219755119861\n",
            "172 D: 0.015359902305643696 G: -0.574836718121063\n",
            "173 D: 0.014961058473282022 G: -0.570710749260144\n",
            "174 D: 0.014993106276750056 G: -0.5756656582167408\n",
            "175 D: 0.015072057712306854 G: -0.5751152438903923\n",
            "176 D: 0.014970785722549536 G: -0.5764517565525925\n",
            "177 D: 0.014969407164974254 G: -0.5767476784903357\n",
            "178 D: 0.014496750541841552 G: -0.5780658788010001\n",
            "179 D: 0.014814093956815154 G: -0.5776358152757576\n",
            "180 D: 0.014476207235474577 G: -0.5771259327433003\n",
            "181 D: 0.014579579342148706 G: -0.576242920178086\n",
            "182 D: 0.014402567349008914 G: -0.5756840098387143\n",
            "183 D: 0.014366414297872514 G: -0.5764497850241184\n",
            "184 D: 0.014046702684878285 G: -0.5737037591334345\n",
            "185 D: 0.014264407010474947 G: -0.5802649023182103\n",
            "186 D: 0.01405017081100041 G: -0.5747741636182708\n",
            "187 D: 0.013955193491124396 G: -0.5764367646499992\n",
            "188 D: 0.014076632070643053 G: -0.5770126928144427\n",
            "189 D: 0.01408778551036615 G: -0.5746587103109624\n",
            "190 D: 0.014694346255585074 G: -0.5777192669890837\n",
            "191 D: 0.014119597208271148 G: -0.574462110172711\n",
            "192 D: 0.014064398121986307 G: -0.577278630438644\n",
            "193 D: 0.01442001240848224 G: -0.5850194798095394\n",
            "194 D: 0.013969622619116485 G: -0.5806558091503217\n",
            "195 D: 0.013788080215454102 G: -0.5757974993699649\n",
            "196 D: 0.01370208576035652 G: -0.5765147828089912\n",
            "197 D: 0.01383233297862478 G: -0.5752209492329595\n",
            "198 D: 0.01376238220027769 G: -0.575330830077881\n",
            "199 D: 0.013683426774132734 G: -0.5842269136707412\n",
            "200 D: 0.013099121411980342 G: -0.5797123517563094\n"
          ],
          "name": "stdout"
        },
        {
          "output_type": "display_data",
          "data": {
            "image/png": "[encoded data removed]",
            "text/plain": [
              "<Figure size 432x288 with 25 Axes>"
            ]
          },
          "metadata": {
            "tags": [],
            "needs_background": "light"
          }
        }
      ]
    },
    {
      "cell_type": "code",
      "metadata": {
        "colab": {
          "base_uri": "https://localhost:8080/",
          "height": 265
        },
        "id": "C9pWQYDmb2iD",
        "outputId": "df7a6a05-3dc8-4a9a-9393-f63e0574722b"
      },
      "source": [
        "plt.plot(gen_loss, label=\"Generator\")\n",
        "plt.plot(dis_loss, label=\"Discriminator\")\n",
        "plt.legend()\n",
        "plt.show()"
      ],
      "execution_count": 9,
      "outputs": [
        {
          "output_type": "display_data",
          "data": {
            "image/png": "[encoded data removed]",
            "text/plain": [
              "<Figure size 432x288 with 1 Axes>"
            ]
          },
          "metadata": {
            "tags": [],
            "needs_background": "light"
          }
        }
      ]
    },
    {
      "cell_type": "markdown",
      "metadata": {
        "id": "riy4XdG8CCAJ"
      },
      "source": [
        "To do:\n",
        "- Quantitative Measures"
      ]
    },
    {
      "cell_type": "code",
      "metadata": {
        "id": "0Ew1PV-YCA6b"
      },
      "source": [
        ""
      ],
      "execution_count": 9,
      "outputs": []
    }
  ]
}