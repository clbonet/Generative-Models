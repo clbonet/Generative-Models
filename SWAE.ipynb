{
 "cells": [
  {
   "cell_type": "code",
   "execution_count": 1,
   "metadata": {},
   "outputs": [],
   "source": [
    "import torch\n",
    "import torch.nn as nn\n",
    "import torch.nn.functional as F\n",
    "import torchvision\n",
    "import matplotlib.pyplot as plt\n",
    "\n",
    "from tqdm.auto import trange\n",
    "\n",
    "from sw import sliced_wasserstein"
   ]
  },
  {
   "cell_type": "code",
   "execution_count": 2,
   "metadata": {},
   "outputs": [],
   "source": [
    "device = \"cuda\" if torch.cuda.is_available() else \"cpu\""
   ]
  },
  {
   "cell_type": "markdown",
   "metadata": {},
   "source": [
    "### MNIST"
   ]
  },
  {
   "cell_type": "code",
   "execution_count": 3,
   "metadata": {},
   "outputs": [],
   "source": [
    "transform = torchvision.transforms.Compose([\n",
    "                torchvision.transforms.ToTensor()#,\n",
    "                # torchvision.transforms.Normalize((0.5,), (0.5,))\n",
    "    ])\n",
    "\n",
    "train_dataset = torchvision.datasets.MNIST(\n",
    "    root=\"~/torch_datasets\", train=True, transform=transform, download=True\n",
    ")\n",
    "\n",
    "test_dataset = torchvision.datasets.MNIST(\n",
    "    root=\"~/torch_datasets\", train=False, transform=transform, download=True\n",
    ")\n",
    "\n",
    "train_loader = torch.utils.data.DataLoader(\n",
    "    train_dataset, batch_size=128, shuffle=True, num_workers=4, pin_memory=True\n",
    ")\n",
    "\n",
    "test_loader = torch.utils.data.DataLoader(\n",
    "    test_dataset, batch_size=32, shuffle=False, num_workers=4\n",
    ")"
   ]
  },
  {
   "cell_type": "markdown",
   "metadata": {},
   "source": [
    "### AutoEncoder"
   ]
  },
  {
   "cell_type": "code",
   "execution_count": 4,
   "metadata": {},
   "outputs": [],
   "source": [
    "class Encoder(nn.Module):\n",
    "    def __init__(self, input_shape, d=48):\n",
    "        super().__init__()\n",
    "        self.input_shape = input_shape\n",
    "        self.conv1 = nn.Conv2d(input_shape[0], 3, \n",
    "                               kernel_size=3, stride=1, padding=1)\n",
    "        self.conv2 = nn.Conv2d(3, input_shape[-1], \n",
    "                               kernel_size=2, stride=2, padding=0)\n",
    "        self.conv3 = nn.Conv2d(input_shape[-1], input_shape[-1],\n",
    "                               kernel_size=3, stride=1, padding=1)\n",
    "        self.conv4 = nn.Conv2d(input_shape[-1], input_shape[-1],\n",
    "                               kernel_size=3, stride=1, padding=1)\n",
    "        self.fc1 = nn.Linear(int(input_shape[-1]**3/4), d)\n",
    "        \n",
    "        \n",
    "    def forward(self, x):\n",
    "        if len(x.shape) == 3:\n",
    "            x = x[None, ...]\n",
    "\n",
    "        out = torch.relu(self.conv1(x))\n",
    "        out = torch.relu(self.conv2(out))\n",
    "        out = torch.relu(self.conv3(out))\n",
    "        out = torch.relu(self.conv4(out))\n",
    "        out = out.view(out.size(0), -1)\n",
    "        return torch.relu(self.fc1(out))\n",
    "\n",
    "\n",
    "class Decoder(nn.Module):\n",
    "    def __init__(self, input_shape, bottleneck_size=48):\n",
    "        super().__init__()\n",
    "        self.input_shape = input_shape\n",
    "        d = input_shape[-1]\n",
    "\n",
    "        self.fc4 = nn.Linear(bottleneck_size, int(d/2 * d/2 * d))\n",
    "        self.deconv1 = nn.ConvTranspose2d(d, d,\n",
    "                                          kernel_size=3, stride=1, padding=1)\n",
    "        self.deconv2 = nn.ConvTranspose2d(d, d,\n",
    "                                          kernel_size=3, stride=1, padding=1)\n",
    "        self.deconv3 = nn.ConvTranspose2d(d, d,\n",
    "                                          kernel_size=2, stride=2, padding=0)\n",
    "        self.conv5 = nn.Conv2d(d, self.input_shape[0],\n",
    "                               kernel_size=3, stride=1, padding=1)\n",
    "    \n",
    "    def forward(self, x):\n",
    "        d = self.input_shape[-1]\n",
    "        out = torch.relu(self.fc4(x))\n",
    "        out = out.view(-1, d, int(d/2), int(d/2))\n",
    "        out = torch.relu(self.deconv1(out))\n",
    "        out = torch.relu(self.deconv2(out))\n",
    "        out = torch.relu(self.deconv3(out))\n",
    "        return torch.sigmoid(self.conv5(out))\n",
    "\n",
    "\n",
    "class AE(nn.Module):\n",
    "    def __init__(self, input_shape, d=48):\n",
    "        super().__init__()\n",
    "        self.encoder = Encoder(input_shape, d)\n",
    "        self.decoder = Decoder(input_shape, d)\n",
    "    \n",
    "    def forward(self, x):\n",
    "        z = self.encoder(x)        \n",
    "        y = self.decoder(z)\n",
    "        return y"
   ]
  },
  {
   "cell_type": "code",
   "execution_count": 5,
   "metadata": {},
   "outputs": [],
   "source": [
    "class Encoder(nn.Module):\n",
    "    def __init__(self, input_shape, d=48):\n",
    "        super().__init__()\n",
    "        self.input_shape = input_shape\n",
    "        self.conv1 = nn.Conv2d(input_shape[0], 3, \n",
    "                               kernel_size=3, padding=1)\n",
    "        self.conv2 = nn.Conv2d(3, input_shape[-1], \n",
    "                               kernel_size=3, padding=1)\n",
    "        self.pool1 = nn.AvgPool2d(kernel_size=2, padding=0)\n",
    "        self.conv3 = nn.Conv2d(input_shape[-1], input_shape[-1]*2,\n",
    "                               kernel_size=3, padding=1)\n",
    "        self.conv4 = nn.Conv2d(input_shape[-1]*2, input_shape[-1]*2,\n",
    "                               kernel_size=3, padding=1)\n",
    "        self.pool2 = nn.AvgPool2d(kernel_size=2, padding=0)\n",
    "        self.conv5 = nn.Conv2d(input_shape[-1]*2, input_shape[-1]*4, \n",
    "                               kernel_size=3, padding=1)\n",
    "        self.conv6 = nn.Conv2d(input_shape[-1]*4, input_shape[-1]*4,\n",
    "                               kernel_size=3, padding=1)\n",
    "        self.pool3 = nn.AvgPool2d(kernel_size=2, padding=1)        \n",
    "        \n",
    "        self.fc1 = nn.Linear(int(input_shape[-1]*4*4*4), 128)\n",
    "        self.fc2 = nn.Linear(128, d)\n",
    "                \n",
    "        \n",
    "    def forward(self, x):\n",
    "        if len(x.shape) == 3:\n",
    "            x = x[None, ...]\n",
    "\n",
    "        out = F.leaky_relu(self.conv1(x), 0.2)\n",
    "#         print(out.size(), self.conv2(out).size(), F.leaky_relu(self.conv2(out), 0.2).size())\n",
    "#         print(self.pool1(F.leaky_relu(self.conv2(out), 0.2)).size())\n",
    "        out = self.pool1(F.leaky_relu(self.conv2(out), 0.2))\n",
    "        out = F.leaky_relu(self.conv3(out), 0.2)\n",
    "        out = self.pool2(F.leaky_relu(self.conv4(out), 0.2))\n",
    "        out = F.leaky_relu(self.conv5(out), 0.2)\n",
    "        out = self.pool3(F.leaky_relu(self.conv6(out), 0.2))\n",
    "        out = out.view(out.size(0), -1)\n",
    "        out = torch.relu(self.fc1(out))\n",
    "        return self.fc2(out)\n",
    "    \n",
    "\n",
    "class Decoder(nn.Module):\n",
    "    def __init__(self, input_shape, bottleneck_size=48):\n",
    "        super().__init__()\n",
    "        self.input_shape = input_shape\n",
    "        d = input_shape[-1]\n",
    "\n",
    "        self.fc4 = nn.Linear(bottleneck_size, 128)\n",
    "        self.fc5 = nn.Linear(128, d*4*4*4)\n",
    "        \n",
    "        self.upsample = nn.Upsample(scale_factor=2)\n",
    "        self.conv1 = nn.Conv2d(d*4, d*4, kernel_size=3, padding=1)\n",
    "        self.conv2 = nn.Conv2d(d*4, d*4, kernel_size=3, padding=1)\n",
    "        self.conv3 = nn.Conv2d(d*4, d*4, kernel_size=3, padding=0)\n",
    "        self.conv4 = nn.Conv2d(d*4, d*2, kernel_size=3, padding=1)\n",
    "        self.conv5 = nn.Conv2d(d*2, d*2, kernel_size=3, padding=1)\n",
    "        self.conv6 = nn.Conv2d(d*2, d*2, kernel_size=3, padding=1)\n",
    "        self.conv7 = nn.Conv2d(d*2, 1, kernel_size=3, padding=1)\n",
    "    \n",
    "    def forward(self, x):\n",
    "        d = self.input_shape[-1]\n",
    "        out = torch.relu(self.fc5(self.fc4(x)))\n",
    "        out = out.view(-1, 4*d, 4, 4)\n",
    "        \n",
    "        out = F.leaky_relu(self.conv1(self.upsample(out)), 0.2)\n",
    "        out = F.leaky_relu(self.conv2(out), 0.2)\n",
    "        out = F.leaky_relu(self.conv3(self.upsample(out)), 0.2)\n",
    "        out = F.leaky_relu(self.conv4(out), 0.2)\n",
    "        out = F.leaky_relu(self.conv5(self.upsample(out)), 0.2)\n",
    "        out = F.leaky_relu(self.conv6(out), 0.2)\n",
    "        \n",
    "        out = torch.sigmoid(self.conv7(out))\n",
    "        return out"
   ]
  },
  {
   "cell_type": "markdown",
   "metadata": {},
   "source": [
    "### SWAE"
   ]
  },
  {
   "cell_type": "code",
   "execution_count": 6,
   "metadata": {},
   "outputs": [],
   "source": [
    "criterion = nn.BCELoss(reduction='sum')\n",
    "\n",
    "def ae_loss(x, y, z):\n",
    "    n, d = z.size()\n",
    "    target_latent = -1+2*torch.rand(n, d, device=device)\n",
    "    sw = sliced_wasserstein(z, target_latent, 1000, device, p=2)\n",
    "    l1 = F.l1_loss(y, x) # torch.mean(torch.abs(x-y))\n",
    "    reconstruction_loss = criterion(y, x)\n",
    "    \n",
    "#     print(\"SW\", sw.item(), \"BCE\", reconstruction_loss.item(), \"L1\", l1.item())\n",
    "#     fig, ax = plt.subplots(1,2,figsize=(15,7))\n",
    "#     ax[0].scatter(target_latent[:,0].cpu(), target_latent[:,1].cpu())\n",
    "#     ax[1].scatter(z[:,0].detach().cpu(), z[:,1].detach().cpu())\n",
    "#     plt.show()\n",
    "    \n",
    "    return reconstruction_loss+l1+10.0*sw"
   ]
  },
  {
   "cell_type": "code",
   "execution_count": 7,
   "metadata": {},
   "outputs": [],
   "source": [
    "model = AE(train_loader.dataset[0][0].shape, 2).to(device)\n",
    "optimizer = torch.optim.Adam(model.parameters(), lr=1e-3)\n",
    "optimizer = torch.optim.RMSprop(model.parameters(), lr=1e-3, alpha=0.9)"
   ]
  },
  {
   "cell_type": "code",
   "execution_count": null,
   "metadata": {},
   "outputs": [
    {
     "data": {
      "application/vnd.jupyter.widget-view+json": {
       "model_id": "fb88fb204466472ba7a7e21fbb786119",
       "version_major": 2,
       "version_minor": 0
      },
      "text/plain": [
       "HBox(children=(FloatProgress(value=0.0, max=50.0), HTML(value='')))"
      ]
     },
     "metadata": {},
     "output_type": "display_data"
    },
    {
     "name": "stdout",
     "output_type": "stream",
     "text": [
      "0 538.3682369836781 157.37307666132625\n"
     ]
    },
    {
     "data": {
      "image/png": "[encoded data removed]",
      "text/plain": [
       "<Figure size 720x720 with 2 Axes>"
      ]
     },
     "metadata": {
      "needs_background": "light"
     },
     "output_type": "display_data"
    },
    {
     "data": {
      "image/png": "[encoded data removed]",
      "text/plain": [
       "<Figure size 432x288 with 1 Axes>"
      ]
     },
     "metadata": {
      "needs_background": "light"
     },
     "output_type": "display_data"
    },
    {
     "name": "stdout",
     "output_type": "stream",
     "text": [
      "1 154.27556532566314 146.53900690048266\n"
     ]
    }
   ],
   "source": [
    "n_epochs = 50\n",
    "\n",
    "pbar = trange(n_epochs)\n",
    "\n",
    "losses = []\n",
    "val_losses = []\n",
    "\n",
    "for e in pbar:\n",
    "    loss_epoch = 0\n",
    "    cpt_batch = 0\n",
    "    \n",
    "    for x_batch, _ in train_loader:\n",
    "        x_batch = x_batch.to(device)\n",
    "        \n",
    "        model.train()\n",
    "        \n",
    "        z_hat = model.encoder(x_batch)\n",
    "        y_hat = model.decoder(z_hat)\n",
    "        \n",
    "        l = ae_loss(x_batch, y_hat, z_hat)\n",
    "        l.backward()\n",
    "        optimizer.step()\n",
    "        optimizer.zero_grad()\n",
    "        \n",
    "        loss_epoch += l.item()/x_batch.size(0)\n",
    "        cpt_batch += 1\n",
    "\n",
    "    losses.append(loss_epoch/cpt_batch)\n",
    "    \n",
    "    loss_val_epoch = 0\n",
    "    cpt_batch = 0\n",
    "        \n",
    "    with torch.no_grad():\n",
    "        for x_val, _ in test_loader:\n",
    "            x_val = x_val.to(device)\n",
    "            \n",
    "            model.eval()\n",
    "            zhat = model.encoder(x_val)\n",
    "            yhat = model.decoder(zhat)\n",
    "            val_l = ae_loss(x_val,yhat,zhat)\n",
    "            loss_val_epoch += val_l.item()/x_val.size(0)\n",
    "            cpt_batch += 1\n",
    "            \n",
    "        val_losses.append(loss_val_epoch/cpt_batch)\n",
    "\n",
    "    print(e,losses[-1],val_losses[-1])\n",
    "        \n",
    "    if e%5 == 0:  \n",
    "        for x_val, _ in test_loader:\n",
    "            fig,ax = plt.subplots(1,2,figsize=(10,10))\n",
    "\n",
    "            ax[0].imshow(x_val[0][0],\"gray\")\n",
    "\n",
    "            x_val = x_val.to(device)\n",
    "\n",
    "            model.eval()\n",
    "            yhat = model(x_val[0][0].reshape(-1,28,28))\n",
    "            yhat = yhat.reshape(-1,1,28,28)\n",
    "            ax[1].imshow(yhat[0][0].cpu().detach().numpy(),\"gray\")\n",
    "            plt.show()\n",
    "            \n",
    "            z = model.encoder(x_val[0][0].reshape(-1,28,28)).detach().cpu()\n",
    "            plt.scatter(z[:,0], z[:,1])\n",
    "            plt.show()\n",
    "        \n",
    "            break\n",
    "        "
   ]
  },
  {
   "cell_type": "code",
   "execution_count": null,
   "metadata": {},
   "outputs": [],
   "source": [
    "plt.plot(losses)\n",
    "plt.plot(val_losses)\n",
    "plt.show()"
   ]
  },
  {
   "cell_type": "code",
   "execution_count": null,
   "metadata": {},
   "outputs": [],
   "source": [
    "dataiter = iter(train_loader)\n",
    "\n",
    "X, Y = next(dataiter)\n",
    "data = X.to(device)\n",
    "z = model.encoder(data)\n",
    "y = model.decoder(z)"
   ]
  },
  {
   "cell_type": "code",
   "execution_count": null,
   "metadata": {},
   "outputs": [],
   "source": [
    "# Distribution of the encoded samples\n",
    "z = z.detach().cpu()\n",
    "\n",
    "plt.figure(figsize=(10,10))\n",
    "plt.scatter(z[:,0],-z[:,1],c=10*Y, cmap=plt.cm.Spectral)\n",
    "# plt.xlim([-1.5,1.5])\n",
    "# plt.ylim([-1.5,1.5])\n",
    "plt.show()"
   ]
  },
  {
   "cell_type": "code",
   "execution_count": null,
   "metadata": {},
   "outputs": [],
   "source": [
    "z.size()"
   ]
  },
  {
   "cell_type": "code",
   "execution_count": null,
   "metadata": {},
   "outputs": [],
   "source": [
    "Y"
   ]
  },
  {
   "cell_type": "code",
   "execution_count": null,
   "metadata": {},
   "outputs": [],
   "source": []
  },
  {
   "cell_type": "code",
   "execution_count": null,
   "metadata": {},
   "outputs": [],
   "source": []
  }
 ],
 "metadata": {
  "kernelspec": {
   "display_name": "Python 3 (ipykernel)",
   "language": "python",
   "name": "python3"
  },
  "language_info": {
   "codemirror_mode": {
    "name": "ipython",
    "version": 3
   },
   "file_extension": ".py",
   "mimetype": "text/x-python",
   "name": "python",
   "nbconvert_exporter": "python",
   "pygments_lexer": "ipython3",
   "version": "3.9.7"
  }
 },
 "nbformat": 4,
 "nbformat_minor": 2
}
