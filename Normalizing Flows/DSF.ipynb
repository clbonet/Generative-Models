{
 "cells": [
  {
   "cell_type": "markdown",
   "metadata": {
    "id": "ew66iEyY22dB"
   },
   "source": [
    "# <center>DSF [1]</center>"
   ]
  },
  {
   "cell_type": "code",
   "execution_count": null,
   "metadata": {
    "id": "Ux3a7C9kE3WA"
   },
   "outputs": [],
   "source": [
    "import torch\n",
    "import torch.optim as optim\n",
    "import torch.nn as nn\n",
    "import torch.nn.functional as F\n",
    "\n",
    "import torchvision\n",
    "\n",
    "import matplotlib.pyplot as plt\n",
    "import numpy as np\n",
    "\n",
    "import sklearn.datasets as datasets\n",
    "\n",
    "from NF_base import *"
   ]
  },
  {
   "cell_type": "code",
   "execution_count": null,
   "metadata": {
    "id": "k2D-m3olFAGS"
   },
   "outputs": [],
   "source": [
    "device = \"cuda\" if torch.cuda.is_available() else \"cpu\""
   ]
  },
  {
   "cell_type": "markdown",
   "metadata": {
    "id": "Ve3t8Cqj8h9U"
   },
   "source": [
    "**Deed Sigmoidal Flow:**\n",
    "\\begin{equation*}\n",
    "    \\forall t,\\ z_t = \\sigma^{-1}(w^T\\sigma(a x_t + b)\n",
    "\\end{equation*}\n",
    "where $\\sigma$ is the sigmoid, $\\sigma^{-1}$ the logit function, $o<w_{ij}<1$ and $\\sum_j w_{ij}=1$, and $a>0$.\n",
    "\n",
    "**Deep Dense Sigmoidal Flow:**\n",
    "\\begin{equation*}\n",
    "    h^{\\ell+1} = \\sigma^{-1}(w^{(\\ell+1)}\\sigma(a^{(\\ell+1)}\\odot u^{(\\ell+1)} h^{(\\ell)}+b^{(\\ell+1)}))\n",
    "\\end{equation*}\n",
    "for $1\\leq\\ell\\leq L$, $h_0=x$, $h_L=y$, $d_0=d_L=1$, $\\sum_j w_{ij}=1$ and $\\sum_j u_{kj}=1$.\n",
    "\n",
    "Question: need MAF to be trained?\n",
    "\n",
    "official code: \n",
    "- https://github.com/CW-Huang/torchkit/blob/master/torchkit/flows.py\n",
    "- https://github.com/CW-Huang/NAF/blob/master/sf_sinewave.py"
   ]
  },
  {
   "cell_type": "code",
   "execution_count": null,
   "metadata": {},
   "outputs": [],
   "source": [
    "class DeepDenseSigmoidalFlow(BaseNormalizingFlow):\n",
    "    def __init__(self, d_in, d_out, d_h):\n",
    "        super().__init__()\n",
    "        self.a = nn.Parameter(torch.randn(d_out,requires_grad=True))\n",
    "        self.b = nn.Parameter(torch.randn(d_out,requires_grad=True))\n",
    "        self.w = nn.Parameter(torch.randn(d_h, d_out,requires_grad=True))\n",
    "        self.u = nn.Parameter(torch.randn(d_in,d_h,requires_grad=True))\n",
    "        \n",
    "    def forward(self, x):\n",
    "        a = nn.softplus(self.a)\n",
    "        u = nn.softmax(self.u,dim=-1)\n",
    "        w = nn.softmax(self.w,dim=-1)\n",
    "        \n",
    "        C = a*(u@x)+b\n",
    "        D = w@torch.sigmoid(C)\n",
    "        z = torch.logit(D, eps=1e-5)\n",
    "        \n",
    "        log_det = ## To do\n",
    "        \n",
    "        \n",
    "        return z, log_det\n",
    "    \n",
    "    def backward(self, z):\n",
    "        return NotImplementedError"
   ]
  },
  {
   "cell_type": "markdown",
   "metadata": {
    "id": "G4LLtd50QlrP"
   },
   "source": [
    "## Unnormalized 2D densities"
   ]
  },
  {
   "cell_type": "markdown",
   "metadata": {
    "id": "YrZWhUSfQlrP"
   },
   "source": [
    "Target: $p(z)\\propto e^{-U(z)}$"
   ]
  },
  {
   "cell_type": "code",
   "execution_count": null,
   "metadata": {
    "id": "_jW2UlTEQlrP"
   },
   "outputs": [],
   "source": [
    "## https://arxiv.org/pdf/1505.05770.pdf\n",
    "\n",
    "def sigmoid(z):\n",
    "    return 1/(1+np.exp(-z))\n",
    "\n",
    "def sigmoidp(z):\n",
    "    return 1/(1+torch.exp(-z))\n",
    "\n",
    "def w1(z):\n",
    "    return np.sin(2*np.pi*z[:,0]/4)\n",
    "\n",
    "def w1p(z):\n",
    "    return torch.sin(2*np.pi*z[:,0]/4)\n",
    "\n",
    "def w2(z):\n",
    "    cpt = ((z[:,0]-1)/0.6)**2\n",
    "    return 3*np.exp(-0.5*cpt)\n",
    "\n",
    "def w2p(z):\n",
    "    cpt = ((z[:,0]-1)/0.6)**2\n",
    "    return 3*torch.exp(-0.5*cpt)\n",
    "\n",
    "def w3(z):\n",
    "    return 3*sigmoid((z[:,0]-1)/3)\n",
    "\n",
    "def w3p(z):\n",
    "    return 3*sigmoidp((z[:,0]-1)/3)\n",
    "\n",
    "def U1(z):\n",
    "    cpt1 = ((np.linalg.norm(z,axis=1)-2)/0.4)**2\n",
    "    cpt2 = -0.5*((z[:,0]-2)/0.6)**2\n",
    "    cpt3 = -0.5*((z[:,0]+2)/0.6)**2\n",
    "    return cpt1-np.log(np.exp(cpt2)+np.exp(cpt3))\n",
    "\n",
    "def U1p(z):\n",
    "    cpt1 = ((torch.sqrt(z[:,0]**2+z[:,1]**2)-2)/0.4)**2\n",
    "    cpt1 = ((torch.sqrt(torch.sum(z**2,dim=1))-2)/0.4)**2\n",
    "    cpt2 = -0.5*((z[:,0]-2)/0.6)**2\n",
    "    cpt3 = -0.5*((z[:,0]+2)/0.6)**2\n",
    "    return cpt1-torch.log(torch.clamp(torch.exp(cpt2)+torch.exp(cpt3),min=1e-6))\n",
    "\n",
    "def U2(z):\n",
    "    return 0.5*((z[:,1]-w1(z))/0.4)**2\n",
    "\n",
    "def U2p(z):\n",
    "    return 0.5*((z[:,1]-w1p(z))/0.4)**2\n",
    "\n",
    "def U3(z):\n",
    "    cpt1 = ((z[:,1]-w1(z))/0.35)**2\n",
    "    cpt2 = ((z[:,1]-w1(z)+w2(z))/0.35)**2\n",
    "    return -np.log(np.exp(-0.5*cpt1)+np.exp(-0.5*cpt2))\n",
    "\n",
    "def U3p(z):\n",
    "    cpt1 = ((z[:,1]-w1p(z))/0.35)**2\n",
    "    cpt2 = ((z[:,1]-w1p(z)+w2p(z))/0.35)**2\n",
    "    return -torch.log(torch.clamp(torch.exp(-0.5*cpt1)+torch.exp(-0.5*cpt2),min=1e-6))\n",
    "\n",
    "def U4(z):\n",
    "    cpt1 = ((z[:,1]-w1(z))/0.4)**2\n",
    "    cpt2 = ((z[:,1]-w1(z)+w3(z))/0.35)**2\n",
    "    return -np.log(np.exp(-0.5*cpt1)+np.exp(-0.5*cpt2))\n",
    "\n",
    "def U4p(z):\n",
    "    cpt1 = ((z[:,1]-w1p(z))/0.4)**2\n",
    "    cpt2 = ((z[:,1]-w1p(z)+w3p(z))/0.35)**2\n",
    "    return -torch.log(torch.clamp(torch.exp(-0.5*cpt1)+torch.exp(-0.5*cpt2),min=1e-6))"
   ]
  },
  {
   "cell_type": "code",
   "execution_count": null,
   "metadata": {
    "colab": {
     "base_uri": "https://localhost:8080/",
     "height": 432
    },
    "id": "yr29VtClQlrQ",
    "outputId": "f544faaf-51ea-4fef-8400-f9393e8a2839"
   },
   "outputs": [],
   "source": [
    "xline = np.linspace(-4, 4, 100)\n",
    "yline = np.linspace(-4, 4, 100)\n",
    "xgrid, ygrid = np.meshgrid(xline, yline)\n",
    "xyinput = np.concatenate([xgrid.reshape(-1, 1), ygrid.reshape(-1, 1)], axis=1)\n",
    "\n",
    "zz = np.exp(-U1(xyinput)) # np.exp(-xyinput.sum(axis=1))\n",
    "zgrid1 = zz.reshape(100,100)\n",
    "\n",
    "zz = np.exp(-U2(xyinput)) # np.exp(-xyinput.sum(axis=1))\n",
    "zgrid2 = zz.reshape(100,100)\n",
    "\n",
    "zz = np.exp(-U3(xyinput)) # np.exp(-xyinput.sum(axis=1))\n",
    "zgrid3 = zz.reshape(100,100)\n",
    "\n",
    "zz = np.exp(-U4(xyinput)) # np.exp(-xyinput.sum(axis=1))\n",
    "zgrid4 = zz.reshape(100,100)\n",
    "\n",
    "fig,ax = plt.subplots(2,2,figsize=(10,7))\n",
    "\n",
    "ax[0,0].contourf(xgrid, ygrid, zgrid1)\n",
    "ax[0,1].contourf(xgrid, ygrid, zgrid2)\n",
    "ax[1,0].contourf(xgrid, ygrid, zgrid3)\n",
    "ax[1,1].contourf(xgrid, ygrid, zgrid4)\n",
    "plt.show()"
   ]
  },
  {
   "cell_type": "code",
   "execution_count": null,
   "metadata": {
    "id": "RRffGCH2QlrR"
   },
   "outputs": [],
   "source": [
    "def kl_reverse(z,x,log_det,true_density):\n",
    "    log_pz = base_distr.log_prob(z)\n",
    "    log_pX = torch.log(torch.clamp(true_density(x),min=1e-20)) ## only need unnormalized density\n",
    "    return torch.mean(log_pz-log_det-log_pX,dim=0)"
   ]
  },
  {
   "cell_type": "code",
   "execution_count": null,
   "metadata": {
    "id": "dZaWB1VsQlrR"
   },
   "outputs": [],
   "source": [
    "def train_shapes(model,n_batch=500,n_epochs=10001,U=U1p):\n",
    "    true_density = lambda x : torch.exp(-U(x))\n",
    "\n",
    "    train_loss = []\n",
    "\n",
    "    for i in range(n_epochs):\n",
    "        if i%100==0:\n",
    "            print(i)\n",
    "\n",
    "        model.train()\n",
    "\n",
    "        z0 = torch.randn(n_batch,2,device=device)\n",
    "        xs,log_det = model(z0)\n",
    "\n",
    "        loss = kl_reverse(z0,xs[-1],log_det,true_density)\n",
    "        loss.backward()\n",
    "        optimizer.step()\n",
    "        optimizer.zero_grad()\n",
    "\n",
    "        train_loss.append(loss.item())\n",
    "        if i%100==0:\n",
    "            print(loss)\n",
    "\n",
    "    return train_loss"
   ]
  },
  {
   "cell_type": "code",
   "execution_count": null,
   "metadata": {
    "id": "IILBvZPsQlrR"
   },
   "outputs": [],
   "source": [
    "base_distr = torch.distributions.multivariate_normal.MultivariateNormal(\n",
    "    torch.zeros(2,device=device),torch.eye(2,device=device))"
   ]
  },
  {
   "cell_type": "markdown",
   "metadata": {
    "id": "WisUMbAhQlrS"
   },
   "source": [
    "### $U_1$"
   ]
  },
  {
   "cell_type": "code",
   "execution_count": null,
   "metadata": {
    "colab": {
     "base_uri": "https://localhost:8080/"
    },
    "id": "26M4mS2LQlrS",
    "outputId": "60b2c174-2245-40b1-b7a1-d552aca14934"
   },
   "outputs": [],
   "source": [
    "flows = [DeepDenseSigmoidalFlow(1,24,1)] ## ???\n",
    "model = NormalizingFlows(flows).to(device)\n",
    "\n",
    "model = model.to(device)\n",
    "\n",
    "# optimizer = optim.RMSprop(model.parameters(),lr=1e-5,momentum=0.9)\n",
    "optimizer = torch.optim.Adam(model.parameters(), lr=1e-2)\n",
    "print(\"number of params: \", sum(p.numel() for p in model.parameters()))"
   ]
  },
  {
   "cell_type": "code",
   "execution_count": null,
   "metadata": {
    "colab": {
     "base_uri": "https://localhost:8080/"
    },
    "id": "P3af0HajQlrT",
    "outputId": "f21950fd-910c-4f32-9758-1d0607a05894"
   },
   "outputs": [],
   "source": [
    "train_loss = train_shapes(model,U=U1p)"
   ]
  },
  {
   "cell_type": "code",
   "execution_count": null,
   "metadata": {
    "colab": {
     "base_uri": "https://localhost:8080/",
     "height": 265
    },
    "id": "-HkVEnocQlrT",
    "outputId": "d26a6f86-388d-437e-a77a-eb3eada28cc2"
   },
   "outputs": [],
   "source": [
    "plt.plot(train_loss)\n",
    "plt.show()"
   ]
  },
  {
   "cell_type": "code",
   "execution_count": null,
   "metadata": {
    "colab": {
     "base_uri": "https://localhost:8080/",
     "height": 680
    },
    "id": "EQfXyTQFQlrT",
    "outputId": "c8fca386-0c52-434f-a9f2-472bad6ca1b2"
   },
   "outputs": [],
   "source": [
    "z,_ = model(torch.randn(10000,2,device=device))\n",
    "samples = z[-1].detach().cpu().numpy()\n",
    "\n",
    "plt.scatter(samples[:,0],samples[:,1])\n",
    "plt.show()\n",
    "\n",
    "fig,ax = plt.subplots(1,2,figsize=(15,7))\n",
    "\n",
    "ax[0].contourf(xgrid, ygrid, zgrid1)\n",
    "ax[1].hist2d(samples[:,0],samples[:,1],bins=100)\n",
    "plt.show()"
   ]
  },
  {
   "cell_type": "code",
   "execution_count": null,
   "metadata": {
    "colab": {
     "base_uri": "https://localhost:8080/",
     "height": 1000
    },
    "id": "emo3jjZaQlrT",
    "outputId": "46014f27-71b6-41f9-b0aa-c559e6019631"
   },
   "outputs": [],
   "source": [
    "for i in range(len(z)):\n",
    "    sample = z[i].detach().cpu().numpy()\n",
    "    fig,ax = plt.subplots(1,2,figsize=(15,7))\n",
    "\n",
    "    ax[0].contourf(xgrid, ygrid, zgrid1)\n",
    "    ax[1].hist2d(sample[:,0],sample[:,1],bins=100)\n",
    "    plt.show()"
   ]
  },
  {
   "cell_type": "markdown",
   "metadata": {
    "id": "5hyHOP4YQlrU"
   },
   "source": [
    "### $U_2$"
   ]
  },
  {
   "cell_type": "code",
   "execution_count": null,
   "metadata": {
    "id": "5Bxcth4GQlrU"
   },
   "outputs": [],
   "source": [
    "flows = [DeepDenseSigmoidalFlow(1,24,1)] ## ???\n",
    "model = NormalizingFlows(flows).to(device)\n",
    "\n",
    "model = model.to(device)\n",
    "\n",
    "# optimizer = optim.RMSprop(model.parameters(),lr=1e-5,momentum=0.9)\n",
    "optimizer = torch.optim.Adam(model.parameters(), lr=1e-2)"
   ]
  },
  {
   "cell_type": "code",
   "execution_count": null,
   "metadata": {
    "colab": {
     "base_uri": "https://localhost:8080/"
    },
    "id": "XIsY9KzFQlrU",
    "outputId": "6a0ef330-06a0-4562-bd4d-0b347eab6bc3"
   },
   "outputs": [],
   "source": [
    "train_loss = train_shapes(model,U=U2p)"
   ]
  },
  {
   "cell_type": "code",
   "execution_count": null,
   "metadata": {
    "colab": {
     "base_uri": "https://localhost:8080/",
     "height": 265
    },
    "id": "BTcDPWhvQlrV",
    "outputId": "651fb871-23aa-4f3a-f558-acc372e1ff94"
   },
   "outputs": [],
   "source": [
    "plt.plot(train_loss)\n",
    "plt.show()"
   ]
  },
  {
   "cell_type": "code",
   "execution_count": null,
   "metadata": {
    "colab": {
     "base_uri": "https://localhost:8080/",
     "height": 680
    },
    "id": "RT2oC7iaQlrV",
    "outputId": "8b160c88-d15f-4755-ad6f-465c6afb462f"
   },
   "outputs": [],
   "source": [
    "samples,_ = model(torch.randn(10000,2,device=device))\n",
    "samples = samples[-1].detach().cpu().numpy()\n",
    "\n",
    "plt.scatter(samples[:,0],samples[:,1])\n",
    "plt.show()\n",
    "\n",
    "fig,ax = plt.subplots(1,2,figsize=(15,7))\n",
    "\n",
    "ax[0].contourf(xgrid, ygrid, zgrid2)\n",
    "ax[1].hist2d(samples[:,0],samples[:,1],bins=100)\n",
    "ax[1].set_xlim(-4,4)\n",
    "plt.show()"
   ]
  },
  {
   "cell_type": "markdown",
   "metadata": {
    "id": "0Ng8ocPu3HZm"
   },
   "source": [
    "## Variational Encoder with NF"
   ]
  },
  {
   "cell_type": "markdown",
   "metadata": {
    "id": "huaLlRbEQlrV"
   },
   "source": [
    "ELBO:\n",
    "We have:\n",
    "\\begin{align*}\n",
    "    \\log p_\\theta(x)&\\geq \\log p_\\theta(x)-KL(q(\\cdot|x)||p_\\theta(\\cdot|x))\\\\\n",
    "    &= \\int \\log(\\frac{p_\\theta(x,z)}{q(z|x)})q(z|x)dz \\\\\n",
    "    &= \\mathbb{E}_{q(\\cdot|x)}[p_\\theta(x|z)]-KL(q(\\cdot|x)||p_\\theta) \\\\\n",
    "    &= -\\mathcal{F}(\\theta)\n",
    "\\end{align*}\n",
    "\n",
    "**Variational Encoder**:\n",
    "- encoder: $q_\\phi(z|x)$\n",
    "- decoder: $p_\\theta(x|z)$\n",
    "\n",
    "Example for classical VAE:\n",
    "- encoder: $q_\\phi(z|x)=\\mathcal{N}(z;\\mu,\\sigma^2 I)$\n",
    "- apriori: $p_\\theta(z)=\\mathcal{N}(z;0,I)$\n",
    "- decoder: $p_\\theta(x|z)=\\mathcal{N}(x;\\mu(z),\\sigma^2(z))$ or $p_\\theta(x|z)=\\text{Ber}(D(z))$\n",
    "\n",
    "**VAE with NF**: \n",
    "\n",
    "Idea: improve the class of distribution for the variational inference with a normalizing flow in the latent space (e.g. not just a mean field approximation with gaussians anymore).\n",
    "\n",
    "- $q_0(z|x)=\\mathcal{N}(z;\\mu(x),\\sigma^2(x))$\n",
    "\n",
    "Let $z_0\\sim q_0(\\cdot|x)$,\n",
    "\n",
    "- $z_K = f_K\\circ\\dots\\circ f_1(z_0) = f(z_0)$\n",
    "- $q_K(z_K|x) = q_0(z_0|x)|\\det J_f(f^{-1}(z_K))|^{-1}$\n",
    "- $\\log q_K(z_K|x) = \\log q_0(z_0|x) - \\sum_{k=1}^K \\log |\\det \\frac{\\partial f_k}{\\partial z_{k-1}}(z_{k-1})|$\n",
    "\n",
    "Then, denoting $q_\\phi=q_K$, the ELBO transforms as:\n",
    "\n",
    "\\begin{align*}\n",
    "    \\mathcal{F}(\\theta,\\phi) &= \\mathbb{E}_{q_\\phi}[\\log q_\\phi(z|x)-\\log p_\\theta(x,z)] \\\\\n",
    "    &= \\mathbb{E}_{q_0}[\\log q_0(z_0|x)-\\log p_\\theta(x,f(z_0))-\\sum_{k=1}^K \\log |\\det \\frac{\\partial f_k}{\\partial z_{k-1}}(z_{k-1})|]\n",
    "\\end{align*}"
   ]
  },
  {
   "cell_type": "code",
   "execution_count": null,
   "metadata": {
    "id": "ru7PmEX5FiMB"
   },
   "outputs": [],
   "source": [
    "def uniform_quantization(img):\n",
    "    return (img*255+torch.rand(img.size()))/256\n",
    "\n",
    "def rescale_logit(img,lambd=1e-6):\n",
    "    ## logit space\n",
    "    return torch.logit(lambd+(1-2*lambd)*img)"
   ]
  },
  {
   "cell_type": "code",
   "execution_count": null,
   "metadata": {
    "colab": {
     "base_uri": "https://localhost:8080/",
     "height": 419,
     "referenced_widgets": [
      "0fb446b28a0847be8c628776e52db497",
      "441a35c980e54d2dae1636ef3e98bce7",
      "c1673e02720a49ee89f7b7c51f170b48",
      "1dc1f3581fb14f2d8064c8d70fa9b893",
      "1914c7ad66a24c2a96e0d04a58f87a98",
      "5a9e2cba2d9f4c7cb08c83db384470cd",
      "3b329d1ba4434d78a8c20af9fb154950",
      "5b7a09e71da2456f9af63c120c8ee645",
      "61dfaae5b3bf4b128768e3543942967c",
      "6f7f2e954a9643d4a9aa2eb1a932d4cf",
      "3d7adaad778e439391ebfc6506f12edb",
      "fa06902330de4d99878007926e4ed777",
      "56e3071f812a4f8892fdf429b9c2a546",
      "7e4dfd8e07f04fad96a967ee79ab5a60",
      "0c4b7f3161264004b196adbba018bc35",
      "1c6b2efcc29b402387bd2f80a4327cdd",
      "5dc254e807574c83a7d58334e02a14b9",
      "522ea31e26b2404ab228fc056eb388ba",
      "df7c2d8489e049e7ac3293f81c5523ec",
      "33159c603fe04257a72eb27eaaddaa27",
      "b78ac9baee804c6592ffc396f05fa3b4",
      "ba3ece0e30f64f13855b292de7bac928",
      "9a2deea3e56647f3a50542dc1e47eed3",
      "5e931c90fb224f69a341cd65d2adddc5",
      "7a7de17909b14e1fb57cf0fdff00f9d0",
      "22a67bf1fee9472bb2ac54a336f5fad5",
      "5f7c3896a2a9450694ff7e3dea4d190e",
      "830b79347cef49ad84d882184d5d184f",
      "544bf3e779244458a530d09a8d6fdeba",
      "f544fd86c60a49e18d3d64e7482a2757",
      "6a39a40e4d304a5db4f9420975280971",
      "567b6936756241249ace7e0a8ea5284b"
     ]
    },
    "id": "gclID9jCFBSd",
    "outputId": "eede0244-77dd-4390-b286-8be6d556c09d"
   },
   "outputs": [],
   "source": [
    "transform = torchvision.transforms.Compose([\n",
    "                torchvision.transforms.ToTensor()#,\n",
    "#                 uniform_quantization,\n",
    "#                 rescale_logit\n",
    "                # torchvision.transforms.Normalize((0.5,), (0.5,))\n",
    "    ])\n",
    "\n",
    "train_dataset = torchvision.datasets.MNIST(\n",
    "    root=\"~/torch_datasets\", train=True, transform=transform, download=True\n",
    ")\n",
    "\n",
    "test_dataset = torchvision.datasets.MNIST(\n",
    "    root=\"~/torch_datasets\", train=False, transform=transform, download=True\n",
    ")\n",
    "\n",
    "train_loader = torch.utils.data.DataLoader(\n",
    "    train_dataset, batch_size=128, shuffle=True, num_workers=4, pin_memory=True\n",
    ")\n",
    "\n",
    "test_loader = torch.utils.data.DataLoader(\n",
    "    test_dataset, batch_size=32, shuffle=False, num_workers=4\n",
    ")"
   ]
  },
  {
   "cell_type": "code",
   "execution_count": null,
   "metadata": {
    "colab": {
     "base_uri": "https://localhost:8080/",
     "height": 301
    },
    "id": "n1wFi0KqFCKh",
    "outputId": "e77c3911-6f9c-49ca-ed0c-d6d35f5a5c6f"
   },
   "outputs": [],
   "source": [
    "plt.imshow(train_dataset[0][0].reshape(28,28),\"gray\")\n",
    "plt.show()"
   ]
  },
  {
   "cell_type": "code",
   "execution_count": null,
   "metadata": {
    "id": "QFRlQHT7QlrY"
   },
   "outputs": [],
   "source": [
    "class Encoder(nn.Module):\n",
    "    def __init__(self, d=10):\n",
    "        super().__init__()\n",
    "        self.flatten = nn.Flatten()\n",
    "        self.dense = nn.Linear(28*28,512)\n",
    "        self.leaky_relu = nn.LeakyReLU(0.2)\n",
    "        self.dense_mean = nn.Linear(512,d)\n",
    "        self.dense_log_var = nn.Linear(512,d)\n",
    "        \n",
    "    def forward(self, x):\n",
    "        z = self.flatten(x)\n",
    "        z = self.dense(z)\n",
    "        z = self.leaky_relu(z)\n",
    "        z_mean = self.dense_mean(z)\n",
    "        z_log_var = self.dense_log_var(z)\n",
    "        return z_mean, z_log_var\n",
    "\n",
    "\n",
    "class Decoder(nn.Module):\n",
    "    def __init__(self,d=10):\n",
    "        super().__init__()\n",
    "        self.dense = nn.Linear(d,512)\n",
    "        self.leaky_relu = nn.LeakyReLU(0.2)\n",
    "        self.dense2 = nn.Linear(512,28*28)\n",
    "        self.sigmoid = nn.Sigmoid()\n",
    "    \n",
    "    def forward(self, x):\n",
    "        x = self.dense(x)\n",
    "        x = self.leaky_relu(x)\n",
    "        x = self.dense2(x)\n",
    "        x = self.sigmoid(x)\n",
    "        return x.view(-1,28,28)\n",
    "    \n",
    "    \n",
    "class VAE(nn.Module):\n",
    "    def __init__(self,flow,d=10):\n",
    "        super().__init__()\n",
    "        self.encoder = Encoder(d)\n",
    "        self.decoder = Decoder(d)\n",
    "        self.flow = flow\n",
    "    \n",
    "    def forward(self, x):\n",
    "        mu, log_sigma = self.encoder(x)        \n",
    "        z0 = mu+torch.randn(mu.shape, device=device)*torch.exp(log_sigma)\n",
    "        zKs, log_det = self.flow(z0)\n",
    "        y = self.decoder(zKs[-1])\n",
    "        return y, mu, log_sigma, log_det"
   ]
  },
  {
   "cell_type": "code",
   "execution_count": null,
   "metadata": {
    "id": "ckCArdhzXj1J"
   },
   "outputs": [],
   "source": [
    "criterion = nn.BCELoss(reduction='sum')\n",
    "\n",
    "def vae_loss(x, y, mu, log_sigma, log_det):    \n",
    "    reconstruction_loss = criterion(y, x)\n",
    "    kl_loss = -0.5*torch.sum(mu.pow(2)+log_sigma.exp()-log_sigma-1)\n",
    "    \n",
    "    return reconstruction_loss-kl_loss-log_det.sum()"
   ]
  },
  {
   "cell_type": "code",
   "execution_count": null,
   "metadata": {
    "colab": {
     "base_uri": "https://localhost:8080/"
    },
    "id": "LT37qaFgWIIZ",
    "outputId": "9fa96674-aae7-46f6-d6cd-ad70766f244e"
   },
   "outputs": [],
   "source": [
    "flows = [DeepDenseSigmoidalFlow(1,24,1)] ## ???\n",
    "\n",
    "model = VAE(flows, d=10).to(device)\n",
    "\n",
    "optimizer = optim.Adam(model.parameters(), lr=1e-3)\n",
    "print(\"number of params: \", sum(p.numel() for p in model.parameters()))"
   ]
  },
  {
   "cell_type": "code",
   "execution_count": null,
   "metadata": {
    "colab": {
     "base_uri": "https://localhost:8080/",
     "height": 1000
    },
    "id": "XIYGKuTJXYLS",
    "outputId": "be2c35df-2d52-4c2e-f9bc-468622c19444"
   },
   "outputs": [],
   "source": [
    "n_epochs = 201\n",
    "\n",
    "losses = []\n",
    "val_losses = []\n",
    "\n",
    "for e in range(n_epochs):   \n",
    "    loss_epoch = 0\n",
    "    cpt_batch = 0\n",
    "    \n",
    "    for x_batch, _ in train_loader:\n",
    "        x_batch = x_batch.to(device)\n",
    "        \n",
    "        model.train()\n",
    "        \n",
    "        yhat, mu, log_sigma, log_det = model(x_batch.reshape(-1,28,28))\n",
    "        yhat = yhat.reshape(-1,1,28,28)\n",
    "        \n",
    "        l = vae_loss(x_batch, yhat, mu, log_sigma, log_det)\n",
    "        \n",
    "        l.backward()\n",
    "        optimizer.step()\n",
    "        optimizer.zero_grad()\n",
    "        \n",
    "        loss_epoch += l.item()/x_batch.size(0) ## Mean\n",
    "        cpt_batch += 1\n",
    "        \n",
    "    losses.append(loss_epoch/cpt_batch)\n",
    "    \n",
    "    loss_val_epoch = 0\n",
    "    cpt_batch = 0\n",
    "        \n",
    "    with torch.no_grad():\n",
    "        for x_val, _ in test_loader:\n",
    "            x_val = x_val.to(device)\n",
    "            \n",
    "            model.eval()\n",
    "            yhat, mu, log_sigma, log_det = model(x_val.reshape(-1,28,28))\n",
    "            yhat = yhat.reshape(-1,1,28,28)\n",
    "            \n",
    "            val_l = vae_loss(x_val,yhat,mu,log_sigma,log_det)\n",
    "            loss_val_epoch += val_l.item()/x_val.size(0)\n",
    "            cpt_batch += 1\n",
    "            \n",
    "        val_losses.append(loss_val_epoch/cpt_batch)\n",
    "    \n",
    "    print(e,losses[-1],val_losses[-1])\n",
    "        \n",
    "    if e%50 == 0:  \n",
    "        for x_val, _ in test_loader:\n",
    "            fig,ax = plt.subplots(1,2,figsize=(10,10))\n",
    "\n",
    "            ax[0].imshow(x_val[0][0],\"gray\")\n",
    "\n",
    "            x_val = x_val.to(device)\n",
    "\n",
    "            model.eval()\n",
    "            yhat, mu, sigma, log_det = model(x_val[0][0].reshape(-1,28,28))\n",
    "            yhat = yhat.reshape(-1,1,28,28)\n",
    "            ax[1].imshow(yhat[0][0].cpu().detach().numpy(),\"gray\")\n",
    "            plt.show()\n",
    "            break\n",
    "        "
   ]
  },
  {
   "cell_type": "code",
   "execution_count": null,
   "metadata": {
    "colab": {
     "base_uri": "https://localhost:8080/",
     "height": 265
    },
    "id": "3l4MIiGSQlrb",
    "outputId": "d63e1a57-7840-4c58-f211-82381e4fdf69"
   },
   "outputs": [],
   "source": [
    "plt.plot(losses,label=\"loss\")\n",
    "plt.plot(val_losses,label=\"val loss\")\n",
    "plt.legend()\n",
    "plt.show()"
   ]
  },
  {
   "cell_type": "markdown",
   "metadata": {
    "id": "3lq1gBXnQlrc"
   },
   "source": [
    "To do:\n",
    "- Log Likelihood estimation"
   ]
  },
  {
   "cell_type": "markdown",
   "metadata": {
    "id": "HubkxpVT920n"
   },
   "source": [
    "## References\n",
    "\n",
    "<a id=\"reference1\"></a>\n",
    "\n",
    "[1] Juang, C-W., Krueger, D., Lacoste, A., & Courville, A. Neural Autoregressive Flows. arXiv preprint arXiv:1804.00779. (2018). [link](https://arxiv.org/pdf/1804.00779)"
   ]
  },
  {
   "cell_type": "code",
   "execution_count": null,
   "metadata": {
    "id": "t8zcZgM1Qlrc"
   },
   "outputs": [],
   "source": []
  }
 ],
 "metadata": {
  "accelerator": "GPU",
  "colab": {
   "collapsed_sections": [],
   "name": "Planar Flow.ipynb",
   "provenance": [],
   "toc_visible": true
  },
  "kernelspec": {
   "display_name": "Python 3",
   "language": "python",
   "name": "python3"
  },
  "language_info": {
   "codemirror_mode": {
    "name": "ipython",
    "version": 3
   },
   "file_extension": ".py",
   "mimetype": "text/x-python",
   "name": "python",
   "nbconvert_exporter": "python",
   "pygments_lexer": "ipython3",
   "version": "3.7.3"
  },
  "toc": {
   "base_numbering": 1,
   "nav_menu": {},
   "number_sections": true,
   "sideBar": true,
   "skip_h1_title": false,
   "title_cell": "Table of Contents",
   "title_sidebar": "Contents",
   "toc_cell": false,
   "toc_position": {},
   "toc_section_display": true,
   "toc_window_display": true
  },
  "widgets": {
   "application/vnd.jupyter.widget-state+json": {
    "0c4b7f3161264004b196adbba018bc35": {
     "model_module": "@jupyter-widgets/controls",
     "model_name": "DescriptionStyleModel",
     "state": {
      "_model_module": "@jupyter-widgets/controls",
      "_model_module_version": "1.5.0",
      "_model_name": "DescriptionStyleModel",
      "_view_count": null,
      "_view_module": "@jupyter-widgets/base",
      "_view_module_version": "1.2.0",
      "_view_name": "StyleView",
      "description_width": ""
     }
    },
    "0fb446b28a0847be8c628776e52db497": {
     "model_module": "@jupyter-widgets/controls",
     "model_name": "HBoxModel",
     "state": {
      "_dom_classes": [],
      "_model_module": "@jupyter-widgets/controls",
      "_model_module_version": "1.5.0",
      "_model_name": "HBoxModel",
      "_view_count": null,
      "_view_module": "@jupyter-widgets/controls",
      "_view_module_version": "1.5.0",
      "_view_name": "HBoxView",
      "box_style": "",
      "children": [
       "IPY_MODEL_c1673e02720a49ee89f7b7c51f170b48",
       "IPY_MODEL_1dc1f3581fb14f2d8064c8d70fa9b893"
      ],
      "layout": "IPY_MODEL_441a35c980e54d2dae1636ef3e98bce7"
     }
    },
    "1914c7ad66a24c2a96e0d04a58f87a98": {
     "model_module": "@jupyter-widgets/controls",
     "model_name": "ProgressStyleModel",
     "state": {
      "_model_module": "@jupyter-widgets/controls",
      "_model_module_version": "1.5.0",
      "_model_name": "ProgressStyleModel",
      "_view_count": null,
      "_view_module": "@jupyter-widgets/base",
      "_view_module_version": "1.2.0",
      "_view_name": "StyleView",
      "bar_color": null,
      "description_width": "initial"
     }
    },
    "1c6b2efcc29b402387bd2f80a4327cdd": {
     "model_module": "@jupyter-widgets/base",
     "model_name": "LayoutModel",
     "state": {
      "_model_module": "@jupyter-widgets/base",
      "_model_module_version": "1.2.0",
      "_model_name": "LayoutModel",
      "_view_count": null,
      "_view_module": "@jupyter-widgets/base",
      "_view_module_version": "1.2.0",
      "_view_name": "LayoutView",
      "align_content": null,
      "align_items": null,
      "align_self": null,
      "border": null,
      "bottom": null,
      "display": null,
      "flex": null,
      "flex_flow": null,
      "grid_area": null,
      "grid_auto_columns": null,
      "grid_auto_flow": null,
      "grid_auto_rows": null,
      "grid_column": null,
      "grid_gap": null,
      "grid_row": null,
      "grid_template_areas": null,
      "grid_template_columns": null,
      "grid_template_rows": null,
      "height": null,
      "justify_content": null,
      "justify_items": null,
      "left": null,
      "margin": null,
      "max_height": null,
      "max_width": null,
      "min_height": null,
      "min_width": null,
      "object_fit": null,
      "object_position": null,
      "order": null,
      "overflow": null,
      "overflow_x": null,
      "overflow_y": null,
      "padding": null,
      "right": null,
      "top": null,
      "visibility": null,
      "width": null
     }
    },
    "1dc1f3581fb14f2d8064c8d70fa9b893": {
     "model_module": "@jupyter-widgets/controls",
     "model_name": "HTMLModel",
     "state": {
      "_dom_classes": [],
      "_model_module": "@jupyter-widgets/controls",
      "_model_module_version": "1.5.0",
      "_model_name": "HTMLModel",
      "_view_count": null,
      "_view_module": "@jupyter-widgets/controls",
      "_view_module_version": "1.5.0",
      "_view_name": "HTMLView",
      "description": "",
      "description_tooltip": null,
      "layout": "IPY_MODEL_5b7a09e71da2456f9af63c120c8ee645",
      "placeholder": "​",
      "style": "IPY_MODEL_3b329d1ba4434d78a8c20af9fb154950",
      "value": " 9920512/? [00:09&lt;00:00, 1027014.57it/s]"
     }
    },
    "22a67bf1fee9472bb2ac54a336f5fad5": {
     "model_module": "@jupyter-widgets/base",
     "model_name": "LayoutModel",
     "state": {
      "_model_module": "@jupyter-widgets/base",
      "_model_module_version": "1.2.0",
      "_model_name": "LayoutModel",
      "_view_count": null,
      "_view_module": "@jupyter-widgets/base",
      "_view_module_version": "1.2.0",
      "_view_name": "LayoutView",
      "align_content": null,
      "align_items": null,
      "align_self": null,
      "border": null,
      "bottom": null,
      "display": null,
      "flex": null,
      "flex_flow": null,
      "grid_area": null,
      "grid_auto_columns": null,
      "grid_auto_flow": null,
      "grid_auto_rows": null,
      "grid_column": null,
      "grid_gap": null,
      "grid_row": null,
      "grid_template_areas": null,
      "grid_template_columns": null,
      "grid_template_rows": null,
      "height": null,
      "justify_content": null,
      "justify_items": null,
      "left": null,
      "margin": null,
      "max_height": null,
      "max_width": null,
      "min_height": null,
      "min_width": null,
      "object_fit": null,
      "object_position": null,
      "order": null,
      "overflow": null,
      "overflow_x": null,
      "overflow_y": null,
      "padding": null,
      "right": null,
      "top": null,
      "visibility": null,
      "width": null
     }
    },
    "33159c603fe04257a72eb27eaaddaa27": {
     "model_module": "@jupyter-widgets/controls",
     "model_name": "HTMLModel",
     "state": {
      "_dom_classes": [],
      "_model_module": "@jupyter-widgets/controls",
      "_model_module_version": "1.5.0",
      "_model_name": "HTMLModel",
      "_view_count": null,
      "_view_module": "@jupyter-widgets/controls",
      "_view_module_version": "1.5.0",
      "_view_name": "HTMLView",
      "description": "",
      "description_tooltip": null,
      "layout": "IPY_MODEL_5e931c90fb224f69a341cd65d2adddc5",
      "placeholder": "​",
      "style": "IPY_MODEL_9a2deea3e56647f3a50542dc1e47eed3",
      "value": " 1654784/? [00:02&lt;00:00, 710055.17it/s]"
     }
    },
    "3b329d1ba4434d78a8c20af9fb154950": {
     "model_module": "@jupyter-widgets/controls",
     "model_name": "DescriptionStyleModel",
     "state": {
      "_model_module": "@jupyter-widgets/controls",
      "_model_module_version": "1.5.0",
      "_model_name": "DescriptionStyleModel",
      "_view_count": null,
      "_view_module": "@jupyter-widgets/base",
      "_view_module_version": "1.2.0",
      "_view_name": "StyleView",
      "description_width": ""
     }
    },
    "3d7adaad778e439391ebfc6506f12edb": {
     "model_module": "@jupyter-widgets/controls",
     "model_name": "FloatProgressModel",
     "state": {
      "_dom_classes": [],
      "_model_module": "@jupyter-widgets/controls",
      "_model_module_version": "1.5.0",
      "_model_name": "FloatProgressModel",
      "_view_count": null,
      "_view_module": "@jupyter-widgets/controls",
      "_view_module_version": "1.5.0",
      "_view_name": "ProgressView",
      "bar_style": "success",
      "description": "",
      "description_tooltip": null,
      "layout": "IPY_MODEL_7e4dfd8e07f04fad96a967ee79ab5a60",
      "max": 1,
      "min": 0,
      "orientation": "horizontal",
      "style": "IPY_MODEL_56e3071f812a4f8892fdf429b9c2a546",
      "value": 1
     }
    },
    "441a35c980e54d2dae1636ef3e98bce7": {
     "model_module": "@jupyter-widgets/base",
     "model_name": "LayoutModel",
     "state": {
      "_model_module": "@jupyter-widgets/base",
      "_model_module_version": "1.2.0",
      "_model_name": "LayoutModel",
      "_view_count": null,
      "_view_module": "@jupyter-widgets/base",
      "_view_module_version": "1.2.0",
      "_view_name": "LayoutView",
      "align_content": null,
      "align_items": null,
      "align_self": null,
      "border": null,
      "bottom": null,
      "display": null,
      "flex": null,
      "flex_flow": null,
      "grid_area": null,
      "grid_auto_columns": null,
      "grid_auto_flow": null,
      "grid_auto_rows": null,
      "grid_column": null,
      "grid_gap": null,
      "grid_row": null,
      "grid_template_areas": null,
      "grid_template_columns": null,
      "grid_template_rows": null,
      "height": null,
      "justify_content": null,
      "justify_items": null,
      "left": null,
      "margin": null,
      "max_height": null,
      "max_width": null,
      "min_height": null,
      "min_width": null,
      "object_fit": null,
      "object_position": null,
      "order": null,
      "overflow": null,
      "overflow_x": null,
      "overflow_y": null,
      "padding": null,
      "right": null,
      "top": null,
      "visibility": null,
      "width": null
     }
    },
    "522ea31e26b2404ab228fc056eb388ba": {
     "model_module": "@jupyter-widgets/base",
     "model_name": "LayoutModel",
     "state": {
      "_model_module": "@jupyter-widgets/base",
      "_model_module_version": "1.2.0",
      "_model_name": "LayoutModel",
      "_view_count": null,
      "_view_module": "@jupyter-widgets/base",
      "_view_module_version": "1.2.0",
      "_view_name": "LayoutView",
      "align_content": null,
      "align_items": null,
      "align_self": null,
      "border": null,
      "bottom": null,
      "display": null,
      "flex": null,
      "flex_flow": null,
      "grid_area": null,
      "grid_auto_columns": null,
      "grid_auto_flow": null,
      "grid_auto_rows": null,
      "grid_column": null,
      "grid_gap": null,
      "grid_row": null,
      "grid_template_areas": null,
      "grid_template_columns": null,
      "grid_template_rows": null,
      "height": null,
      "justify_content": null,
      "justify_items": null,
      "left": null,
      "margin": null,
      "max_height": null,
      "max_width": null,
      "min_height": null,
      "min_width": null,
      "object_fit": null,
      "object_position": null,
      "order": null,
      "overflow": null,
      "overflow_x": null,
      "overflow_y": null,
      "padding": null,
      "right": null,
      "top": null,
      "visibility": null,
      "width": null
     }
    },
    "544bf3e779244458a530d09a8d6fdeba": {
     "model_module": "@jupyter-widgets/controls",
     "model_name": "ProgressStyleModel",
     "state": {
      "_model_module": "@jupyter-widgets/controls",
      "_model_module_version": "1.5.0",
      "_model_name": "ProgressStyleModel",
      "_view_count": null,
      "_view_module": "@jupyter-widgets/base",
      "_view_module_version": "1.2.0",
      "_view_name": "StyleView",
      "bar_color": null,
      "description_width": "initial"
     }
    },
    "567b6936756241249ace7e0a8ea5284b": {
     "model_module": "@jupyter-widgets/base",
     "model_name": "LayoutModel",
     "state": {
      "_model_module": "@jupyter-widgets/base",
      "_model_module_version": "1.2.0",
      "_model_name": "LayoutModel",
      "_view_count": null,
      "_view_module": "@jupyter-widgets/base",
      "_view_module_version": "1.2.0",
      "_view_name": "LayoutView",
      "align_content": null,
      "align_items": null,
      "align_self": null,
      "border": null,
      "bottom": null,
      "display": null,
      "flex": null,
      "flex_flow": null,
      "grid_area": null,
      "grid_auto_columns": null,
      "grid_auto_flow": null,
      "grid_auto_rows": null,
      "grid_column": null,
      "grid_gap": null,
      "grid_row": null,
      "grid_template_areas": null,
      "grid_template_columns": null,
      "grid_template_rows": null,
      "height": null,
      "justify_content": null,
      "justify_items": null,
      "left": null,
      "margin": null,
      "max_height": null,
      "max_width": null,
      "min_height": null,
      "min_width": null,
      "object_fit": null,
      "object_position": null,
      "order": null,
      "overflow": null,
      "overflow_x": null,
      "overflow_y": null,
      "padding": null,
      "right": null,
      "top": null,
      "visibility": null,
      "width": null
     }
    },
    "56e3071f812a4f8892fdf429b9c2a546": {
     "model_module": "@jupyter-widgets/controls",
     "model_name": "ProgressStyleModel",
     "state": {
      "_model_module": "@jupyter-widgets/controls",
      "_model_module_version": "1.5.0",
      "_model_name": "ProgressStyleModel",
      "_view_count": null,
      "_view_module": "@jupyter-widgets/base",
      "_view_module_version": "1.2.0",
      "_view_name": "StyleView",
      "bar_color": null,
      "description_width": "initial"
     }
    },
    "5a9e2cba2d9f4c7cb08c83db384470cd": {
     "model_module": "@jupyter-widgets/base",
     "model_name": "LayoutModel",
     "state": {
      "_model_module": "@jupyter-widgets/base",
      "_model_module_version": "1.2.0",
      "_model_name": "LayoutModel",
      "_view_count": null,
      "_view_module": "@jupyter-widgets/base",
      "_view_module_version": "1.2.0",
      "_view_name": "LayoutView",
      "align_content": null,
      "align_items": null,
      "align_self": null,
      "border": null,
      "bottom": null,
      "display": null,
      "flex": null,
      "flex_flow": null,
      "grid_area": null,
      "grid_auto_columns": null,
      "grid_auto_flow": null,
      "grid_auto_rows": null,
      "grid_column": null,
      "grid_gap": null,
      "grid_row": null,
      "grid_template_areas": null,
      "grid_template_columns": null,
      "grid_template_rows": null,
      "height": null,
      "justify_content": null,
      "justify_items": null,
      "left": null,
      "margin": null,
      "max_height": null,
      "max_width": null,
      "min_height": null,
      "min_width": null,
      "object_fit": null,
      "object_position": null,
      "order": null,
      "overflow": null,
      "overflow_x": null,
      "overflow_y": null,
      "padding": null,
      "right": null,
      "top": null,
      "visibility": null,
      "width": null
     }
    },
    "5b7a09e71da2456f9af63c120c8ee645": {
     "model_module": "@jupyter-widgets/base",
     "model_name": "LayoutModel",
     "state": {
      "_model_module": "@jupyter-widgets/base",
      "_model_module_version": "1.2.0",
      "_model_name": "LayoutModel",
      "_view_count": null,
      "_view_module": "@jupyter-widgets/base",
      "_view_module_version": "1.2.0",
      "_view_name": "LayoutView",
      "align_content": null,
      "align_items": null,
      "align_self": null,
      "border": null,
      "bottom": null,
      "display": null,
      "flex": null,
      "flex_flow": null,
      "grid_area": null,
      "grid_auto_columns": null,
      "grid_auto_flow": null,
      "grid_auto_rows": null,
      "grid_column": null,
      "grid_gap": null,
      "grid_row": null,
      "grid_template_areas": null,
      "grid_template_columns": null,
      "grid_template_rows": null,
      "height": null,
      "justify_content": null,
      "justify_items": null,
      "left": null,
      "margin": null,
      "max_height": null,
      "max_width": null,
      "min_height": null,
      "min_width": null,
      "object_fit": null,
      "object_position": null,
      "order": null,
      "overflow": null,
      "overflow_x": null,
      "overflow_y": null,
      "padding": null,
      "right": null,
      "top": null,
      "visibility": null,
      "width": null
     }
    },
    "5dc254e807574c83a7d58334e02a14b9": {
     "model_module": "@jupyter-widgets/controls",
     "model_name": "HBoxModel",
     "state": {
      "_dom_classes": [],
      "_model_module": "@jupyter-widgets/controls",
      "_model_module_version": "1.5.0",
      "_model_name": "HBoxModel",
      "_view_count": null,
      "_view_module": "@jupyter-widgets/controls",
      "_view_module_version": "1.5.0",
      "_view_name": "HBoxView",
      "box_style": "",
      "children": [
       "IPY_MODEL_df7c2d8489e049e7ac3293f81c5523ec",
       "IPY_MODEL_33159c603fe04257a72eb27eaaddaa27"
      ],
      "layout": "IPY_MODEL_522ea31e26b2404ab228fc056eb388ba"
     }
    },
    "5e931c90fb224f69a341cd65d2adddc5": {
     "model_module": "@jupyter-widgets/base",
     "model_name": "LayoutModel",
     "state": {
      "_model_module": "@jupyter-widgets/base",
      "_model_module_version": "1.2.0",
      "_model_name": "LayoutModel",
      "_view_count": null,
      "_view_module": "@jupyter-widgets/base",
      "_view_module_version": "1.2.0",
      "_view_name": "LayoutView",
      "align_content": null,
      "align_items": null,
      "align_self": null,
      "border": null,
      "bottom": null,
      "display": null,
      "flex": null,
      "flex_flow": null,
      "grid_area": null,
      "grid_auto_columns": null,
      "grid_auto_flow": null,
      "grid_auto_rows": null,
      "grid_column": null,
      "grid_gap": null,
      "grid_row": null,
      "grid_template_areas": null,
      "grid_template_columns": null,
      "grid_template_rows": null,
      "height": null,
      "justify_content": null,
      "justify_items": null,
      "left": null,
      "margin": null,
      "max_height": null,
      "max_width": null,
      "min_height": null,
      "min_width": null,
      "object_fit": null,
      "object_position": null,
      "order": null,
      "overflow": null,
      "overflow_x": null,
      "overflow_y": null,
      "padding": null,
      "right": null,
      "top": null,
      "visibility": null,
      "width": null
     }
    },
    "5f7c3896a2a9450694ff7e3dea4d190e": {
     "model_module": "@jupyter-widgets/controls",
     "model_name": "FloatProgressModel",
     "state": {
      "_dom_classes": [],
      "_model_module": "@jupyter-widgets/controls",
      "_model_module_version": "1.5.0",
      "_model_name": "FloatProgressModel",
      "_view_count": null,
      "_view_module": "@jupyter-widgets/controls",
      "_view_module_version": "1.5.0",
      "_view_name": "ProgressView",
      "bar_style": "success",
      "description": "",
      "description_tooltip": null,
      "layout": "IPY_MODEL_f544fd86c60a49e18d3d64e7482a2757",
      "max": 1,
      "min": 0,
      "orientation": "horizontal",
      "style": "IPY_MODEL_544bf3e779244458a530d09a8d6fdeba",
      "value": 1
     }
    },
    "61dfaae5b3bf4b128768e3543942967c": {
     "model_module": "@jupyter-widgets/controls",
     "model_name": "HBoxModel",
     "state": {
      "_dom_classes": [],
      "_model_module": "@jupyter-widgets/controls",
      "_model_module_version": "1.5.0",
      "_model_name": "HBoxModel",
      "_view_count": null,
      "_view_module": "@jupyter-widgets/controls",
      "_view_module_version": "1.5.0",
      "_view_name": "HBoxView",
      "box_style": "",
      "children": [
       "IPY_MODEL_3d7adaad778e439391ebfc6506f12edb",
       "IPY_MODEL_fa06902330de4d99878007926e4ed777"
      ],
      "layout": "IPY_MODEL_6f7f2e954a9643d4a9aa2eb1a932d4cf"
     }
    },
    "6a39a40e4d304a5db4f9420975280971": {
     "model_module": "@jupyter-widgets/controls",
     "model_name": "DescriptionStyleModel",
     "state": {
      "_model_module": "@jupyter-widgets/controls",
      "_model_module_version": "1.5.0",
      "_model_name": "DescriptionStyleModel",
      "_view_count": null,
      "_view_module": "@jupyter-widgets/base",
      "_view_module_version": "1.2.0",
      "_view_name": "StyleView",
      "description_width": ""
     }
    },
    "6f7f2e954a9643d4a9aa2eb1a932d4cf": {
     "model_module": "@jupyter-widgets/base",
     "model_name": "LayoutModel",
     "state": {
      "_model_module": "@jupyter-widgets/base",
      "_model_module_version": "1.2.0",
      "_model_name": "LayoutModel",
      "_view_count": null,
      "_view_module": "@jupyter-widgets/base",
      "_view_module_version": "1.2.0",
      "_view_name": "LayoutView",
      "align_content": null,
      "align_items": null,
      "align_self": null,
      "border": null,
      "bottom": null,
      "display": null,
      "flex": null,
      "flex_flow": null,
      "grid_area": null,
      "grid_auto_columns": null,
      "grid_auto_flow": null,
      "grid_auto_rows": null,
      "grid_column": null,
      "grid_gap": null,
      "grid_row": null,
      "grid_template_areas": null,
      "grid_template_columns": null,
      "grid_template_rows": null,
      "height": null,
      "justify_content": null,
      "justify_items": null,
      "left": null,
      "margin": null,
      "max_height": null,
      "max_width": null,
      "min_height": null,
      "min_width": null,
      "object_fit": null,
      "object_position": null,
      "order": null,
      "overflow": null,
      "overflow_x": null,
      "overflow_y": null,
      "padding": null,
      "right": null,
      "top": null,
      "visibility": null,
      "width": null
     }
    },
    "7a7de17909b14e1fb57cf0fdff00f9d0": {
     "model_module": "@jupyter-widgets/controls",
     "model_name": "HBoxModel",
     "state": {
      "_dom_classes": [],
      "_model_module": "@jupyter-widgets/controls",
      "_model_module_version": "1.5.0",
      "_model_name": "HBoxModel",
      "_view_count": null,
      "_view_module": "@jupyter-widgets/controls",
      "_view_module_version": "1.5.0",
      "_view_name": "HBoxView",
      "box_style": "",
      "children": [
       "IPY_MODEL_5f7c3896a2a9450694ff7e3dea4d190e",
       "IPY_MODEL_830b79347cef49ad84d882184d5d184f"
      ],
      "layout": "IPY_MODEL_22a67bf1fee9472bb2ac54a336f5fad5"
     }
    },
    "7e4dfd8e07f04fad96a967ee79ab5a60": {
     "model_module": "@jupyter-widgets/base",
     "model_name": "LayoutModel",
     "state": {
      "_model_module": "@jupyter-widgets/base",
      "_model_module_version": "1.2.0",
      "_model_name": "LayoutModel",
      "_view_count": null,
      "_view_module": "@jupyter-widgets/base",
      "_view_module_version": "1.2.0",
      "_view_name": "LayoutView",
      "align_content": null,
      "align_items": null,
      "align_self": null,
      "border": null,
      "bottom": null,
      "display": null,
      "flex": null,
      "flex_flow": null,
      "grid_area": null,
      "grid_auto_columns": null,
      "grid_auto_flow": null,
      "grid_auto_rows": null,
      "grid_column": null,
      "grid_gap": null,
      "grid_row": null,
      "grid_template_areas": null,
      "grid_template_columns": null,
      "grid_template_rows": null,
      "height": null,
      "justify_content": null,
      "justify_items": null,
      "left": null,
      "margin": null,
      "max_height": null,
      "max_width": null,
      "min_height": null,
      "min_width": null,
      "object_fit": null,
      "object_position": null,
      "order": null,
      "overflow": null,
      "overflow_x": null,
      "overflow_y": null,
      "padding": null,
      "right": null,
      "top": null,
      "visibility": null,
      "width": null
     }
    },
    "830b79347cef49ad84d882184d5d184f": {
     "model_module": "@jupyter-widgets/controls",
     "model_name": "HTMLModel",
     "state": {
      "_dom_classes": [],
      "_model_module": "@jupyter-widgets/controls",
      "_model_module_version": "1.5.0",
      "_model_name": "HTMLModel",
      "_view_count": null,
      "_view_module": "@jupyter-widgets/controls",
      "_view_module_version": "1.5.0",
      "_view_name": "HTMLView",
      "description": "",
      "description_tooltip": null,
      "layout": "IPY_MODEL_567b6936756241249ace7e0a8ea5284b",
      "placeholder": "​",
      "style": "IPY_MODEL_6a39a40e4d304a5db4f9420975280971",
      "value": " 8192/? [00:00&lt;00:00, 8986.89it/s]"
     }
    },
    "9a2deea3e56647f3a50542dc1e47eed3": {
     "model_module": "@jupyter-widgets/controls",
     "model_name": "DescriptionStyleModel",
     "state": {
      "_model_module": "@jupyter-widgets/controls",
      "_model_module_version": "1.5.0",
      "_model_name": "DescriptionStyleModel",
      "_view_count": null,
      "_view_module": "@jupyter-widgets/base",
      "_view_module_version": "1.2.0",
      "_view_name": "StyleView",
      "description_width": ""
     }
    },
    "b78ac9baee804c6592ffc396f05fa3b4": {
     "model_module": "@jupyter-widgets/controls",
     "model_name": "ProgressStyleModel",
     "state": {
      "_model_module": "@jupyter-widgets/controls",
      "_model_module_version": "1.5.0",
      "_model_name": "ProgressStyleModel",
      "_view_count": null,
      "_view_module": "@jupyter-widgets/base",
      "_view_module_version": "1.2.0",
      "_view_name": "StyleView",
      "bar_color": null,
      "description_width": "initial"
     }
    },
    "ba3ece0e30f64f13855b292de7bac928": {
     "model_module": "@jupyter-widgets/base",
     "model_name": "LayoutModel",
     "state": {
      "_model_module": "@jupyter-widgets/base",
      "_model_module_version": "1.2.0",
      "_model_name": "LayoutModel",
      "_view_count": null,
      "_view_module": "@jupyter-widgets/base",
      "_view_module_version": "1.2.0",
      "_view_name": "LayoutView",
      "align_content": null,
      "align_items": null,
      "align_self": null,
      "border": null,
      "bottom": null,
      "display": null,
      "flex": null,
      "flex_flow": null,
      "grid_area": null,
      "grid_auto_columns": null,
      "grid_auto_flow": null,
      "grid_auto_rows": null,
      "grid_column": null,
      "grid_gap": null,
      "grid_row": null,
      "grid_template_areas": null,
      "grid_template_columns": null,
      "grid_template_rows": null,
      "height": null,
      "justify_content": null,
      "justify_items": null,
      "left": null,
      "margin": null,
      "max_height": null,
      "max_width": null,
      "min_height": null,
      "min_width": null,
      "object_fit": null,
      "object_position": null,
      "order": null,
      "overflow": null,
      "overflow_x": null,
      "overflow_y": null,
      "padding": null,
      "right": null,
      "top": null,
      "visibility": null,
      "width": null
     }
    },
    "c1673e02720a49ee89f7b7c51f170b48": {
     "model_module": "@jupyter-widgets/controls",
     "model_name": "FloatProgressModel",
     "state": {
      "_dom_classes": [],
      "_model_module": "@jupyter-widgets/controls",
      "_model_module_version": "1.5.0",
      "_model_name": "FloatProgressModel",
      "_view_count": null,
      "_view_module": "@jupyter-widgets/controls",
      "_view_module_version": "1.5.0",
      "_view_name": "ProgressView",
      "bar_style": "success",
      "description": "",
      "description_tooltip": null,
      "layout": "IPY_MODEL_5a9e2cba2d9f4c7cb08c83db384470cd",
      "max": 1,
      "min": 0,
      "orientation": "horizontal",
      "style": "IPY_MODEL_1914c7ad66a24c2a96e0d04a58f87a98",
      "value": 1
     }
    },
    "df7c2d8489e049e7ac3293f81c5523ec": {
     "model_module": "@jupyter-widgets/controls",
     "model_name": "FloatProgressModel",
     "state": {
      "_dom_classes": [],
      "_model_module": "@jupyter-widgets/controls",
      "_model_module_version": "1.5.0",
      "_model_name": "FloatProgressModel",
      "_view_count": null,
      "_view_module": "@jupyter-widgets/controls",
      "_view_module_version": "1.5.0",
      "_view_name": "ProgressView",
      "bar_style": "success",
      "description": "",
      "description_tooltip": null,
      "layout": "IPY_MODEL_ba3ece0e30f64f13855b292de7bac928",
      "max": 1,
      "min": 0,
      "orientation": "horizontal",
      "style": "IPY_MODEL_b78ac9baee804c6592ffc396f05fa3b4",
      "value": 1
     }
    },
    "f544fd86c60a49e18d3d64e7482a2757": {
     "model_module": "@jupyter-widgets/base",
     "model_name": "LayoutModel",
     "state": {
      "_model_module": "@jupyter-widgets/base",
      "_model_module_version": "1.2.0",
      "_model_name": "LayoutModel",
      "_view_count": null,
      "_view_module": "@jupyter-widgets/base",
      "_view_module_version": "1.2.0",
      "_view_name": "LayoutView",
      "align_content": null,
      "align_items": null,
      "align_self": null,
      "border": null,
      "bottom": null,
      "display": null,
      "flex": null,
      "flex_flow": null,
      "grid_area": null,
      "grid_auto_columns": null,
      "grid_auto_flow": null,
      "grid_auto_rows": null,
      "grid_column": null,
      "grid_gap": null,
      "grid_row": null,
      "grid_template_areas": null,
      "grid_template_columns": null,
      "grid_template_rows": null,
      "height": null,
      "justify_content": null,
      "justify_items": null,
      "left": null,
      "margin": null,
      "max_height": null,
      "max_width": null,
      "min_height": null,
      "min_width": null,
      "object_fit": null,
      "object_position": null,
      "order": null,
      "overflow": null,
      "overflow_x": null,
      "overflow_y": null,
      "padding": null,
      "right": null,
      "top": null,
      "visibility": null,
      "width": null
     }
    },
    "fa06902330de4d99878007926e4ed777": {
     "model_module": "@jupyter-widgets/controls",
     "model_name": "HTMLModel",
     "state": {
      "_dom_classes": [],
      "_model_module": "@jupyter-widgets/controls",
      "_model_module_version": "1.5.0",
      "_model_name": "HTMLModel",
      "_view_count": null,
      "_view_module": "@jupyter-widgets/controls",
      "_view_module_version": "1.5.0",
      "_view_name": "HTMLView",
      "description": "",
      "description_tooltip": null,
      "layout": "IPY_MODEL_1c6b2efcc29b402387bd2f80a4327cdd",
      "placeholder": "​",
      "style": "IPY_MODEL_0c4b7f3161264004b196adbba018bc35",
      "value": " 32768/? [00:03&lt;00:00, 10533.80it/s]"
     }
    }
   }
  }
 },
 "nbformat": 4,
 "nbformat_minor": 1
}
