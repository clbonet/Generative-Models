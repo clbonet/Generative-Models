{
  "nbformat": 4,
  "nbformat_minor": 0,
  "metadata": {
    "accelerator": "GPU",
    "colab": {
      "name": "Flows++.ipynb",
      "provenance": [],
      "collapsed_sections": [],
      "toc_visible": true
    },
    "kernelspec": {
      "display_name": "Python 3",
      "language": "python",
      "name": "python3"
    },
    "language_info": {
      "codemirror_mode": {
        "name": "ipython",
        "version": 3
      },
      "file_extension": ".py",
      "mimetype": "text/x-python",
      "name": "python",
      "nbconvert_exporter": "python",
      "pygments_lexer": "ipython3",
      "version": "3.7.3"
    },
    "toc": {
      "base_numbering": 1,
      "nav_menu": {},
      "number_sections": true,
      "sideBar": true,
      "skip_h1_title": false,
      "title_cell": "Table of Contents",
      "title_sidebar": "Contents",
      "toc_cell": false,
      "toc_position": {},
      "toc_section_display": true,
      "toc_window_display": true
    }
  },
  "cells": [
    {
      "cell_type": "markdown",
      "metadata": {
        "id": "ew66iEyY22dB"
      },
      "source": [
        "# <center>Flow++ [1]</center>"
      ]
    },
    {
      "cell_type": "code",
      "metadata": {
        "id": "Ux3a7C9kE3WA"
      },
      "source": [
        "import torch\n",
        "import torch.optim as optim\n",
        "import torch.nn as nn\n",
        "import torch.nn.functional as F\n",
        "\n",
        "import torchvision\n",
        "\n",
        "import matplotlib.pyplot as plt\n",
        "import numpy as np\n",
        "\n",
        "import sklearn.datasets as datasets\n",
        "\n",
        "from NF_base import *"
      ],
      "execution_count": 1,
      "outputs": []
    },
    {
      "cell_type": "code",
      "metadata": {
        "colab": {
          "base_uri": "https://localhost:8080/"
        },
        "id": "k2D-m3olFAGS",
        "outputId": "7ef4a615-8e62-41c6-8948-9bd7975b3532"
      },
      "source": [
        "device = \"cuda\" if torch.cuda.is_available() else \"cpu\"\n",
        "print(device)"
      ],
      "execution_count": 2,
      "outputs": [
        {
          "output_type": "stream",
          "text": [
            "cuda\n"
          ],
          "name": "stdout"
        }
      ]
    },
    {
      "cell_type": "markdown",
      "metadata": {
        "id": "Ve3t8Cqj8h9U"
      },
      "source": [
        "**Variational Dequantization:**\n",
        "\n",
        "\n",
        "**Logistic Mixture Coupling:**\n",
        "\\begin{equation*}\n",
        "    \\begin{cases}\n",
        "        z_{1:d} = x_{1:d} \\\\\n",
        "        z_{d+1:D} = \\sigma^{-1}(\\mathrm{MixLogCDF}(x_{d+1:D};\\pi_\\theta(x_{1:d}),\\mu_\\theta(x_{1:d}),s_\\theta(x_{1:d})))\\odot \\exp(a_\\theta(x_{1:d}))+b_\\theta(x_{1:d})\n",
        "    \\end{cases}\n",
        "\\end{equation*}\n",
        "where:\n",
        "\\begin{equation*}\n",
        "    \\mathrm{MixLogCDF}(x;\\pi,\\mu,s)=\\sum_{k=1}^K \\pi_i \\sigma((x-\\mu_i)\\odot\\exp(-s_i))\n",
        "\\end{equation*}\n",
        "with $\\pi$, $\\mu$, $s$, $a$ and $b$ neural nets.\n",
        "\n",
        "The coupling layer can be inverted by bisection (dichotomie?). For the determinant of the jacobian, we only need to compute probability densities of logistic mixtures:\n",
        "\n",
        "TO do"
      ]
    },
    {
      "cell_type": "code",
      "metadata": {
        "id": "GoWhApwpv2L9"
      },
      "source": [
        "class MLP(nn.Module):\n",
        "    def __init__(self, d_in, nh, d_out, n_layers):\n",
        "        super().__init__()\n",
        "        self.layers = nn.ModuleList()\n",
        "        self.layers.append(nn.Linear(d_in,nh))\n",
        "        for i in range(n_layers):\n",
        "            self.layers.append(nn.Linear(nh,nh))\n",
        "        # self.layers.append(nn.Linear(nh,d_out))\n",
        "        self.dense_a = nn.Linear(nh,d_out)\n",
        "        self.dense_b = nn.Linear(nh,d_out)\n",
        "        self.dense_pi = nn.Linear(nh,d_out)\n",
        "        self.dense_mu = nn.Linear(nh,d_out)\n",
        "        self.dense_s = nn.Linear(nh,d_out)\n",
        "\n",
        "\n",
        "    def forward(self, x):\n",
        "        for layer in self.layers:\n",
        "            x = F.leaky_relu(layer(x),0.2)\n",
        "\n",
        "        a = self.dense_a(x)\n",
        "        b = self.dense_b(x)\n",
        "        pi = self.dense_pi(x)\n",
        "        mu = self.dense_mu(x)\n",
        "        s = self.dense_s(x)\n",
        "\n",
        "        return a, b, pi, mu, s"
      ],
      "execution_count": 3,
      "outputs": []
    },
    {
      "cell_type": "code",
      "metadata": {
        "id": "Zfe1NbtMs_4m"
      },
      "source": [
        "## https://github.com/chrischute/flowplusplus/blob/master/models/flowplusplus/log_dist.py\n",
        "\n",
        "def safe_log(x):\n",
        "    return torch.log(x.clamp(min=1e-22))\n",
        "\n",
        "def _log_pdf(x, mean, log_scale):\n",
        "    \"\"\"Element-wise log density of the logistic distribution.\"\"\"\n",
        "    z = (x - mean) * torch.exp(-log_scale)\n",
        "    log_p = z - log_scale - 2 * F.softplus(z)\n",
        "\n",
        "    return log_p\n",
        "\n",
        "\n",
        "def _log_cdf(x, mean, log_scale):\n",
        "    \"\"\"Element-wise log CDF of the logistic distribution.\"\"\"\n",
        "    z = (x - mean) * torch.exp(-log_scale)\n",
        "    log_p = F.logsigmoid(z)\n",
        "\n",
        "    return log_p\n",
        "\n",
        "\n",
        "def mixture_log_pdf(x, prior_logits, means, log_scales):\n",
        "    \"\"\"Log PDF of a mixture of logistic distributions.\"\"\"\n",
        "    log_ps = F.log_softmax(prior_logits, dim=1) \\\n",
        "        + _log_pdf(x.unsqueeze(1), means, log_scales)\n",
        "    log_p = torch.logsumexp(log_ps, dim=1)\n",
        "\n",
        "    return log_p\n",
        "\n",
        "\n",
        "def mixture_log_cdf(x, prior_logits, means, log_scales):\n",
        "    \"\"\"Log CDF of a mixture of logistic distributions.\"\"\"\n",
        "    log_ps = F.log_softmax(prior_logits, dim=1) \\\n",
        "        + _log_cdf(x.unsqueeze(1), means, log_scales)\n",
        "    log_p = torch.logsumexp(log_ps, dim=1)\n",
        "\n",
        "    return log_p\n",
        "\n",
        "\n",
        "def mixture_inv_cdf(y, prior_logits, means, log_scales,\n",
        "                    eps=1e-10, max_iters=100):\n",
        "    \"\"\"Inverse CDF of a mixture of logisitics. Iterative algorithm.\"\"\"\n",
        "    if y.min() <= 0 or y.max() >= 1:\n",
        "        raise RuntimeError('Inverse logisitic CDF got y outside (0, 1)')\n",
        "\n",
        "    def body(x_, lb_, ub_):\n",
        "        cur_y = torch.exp(mixture_log_cdf(x_, prior_logits, means,\n",
        "                                          log_scales))\n",
        "        gt = (cur_y > y).type(y.dtype)\n",
        "        lt = 1 - gt\n",
        "        new_x_ = gt * (x_ + lb_) / 2. + lt * (x_ + ub_) / 2.\n",
        "        new_lb = gt * lb_ + lt * x_\n",
        "        new_ub = gt * x_ + lt * ub_\n",
        "        return new_x_, new_lb, new_ub\n",
        "\n",
        "    x = torch.zeros_like(y)\n",
        "    max_scales = torch.sum(torch.exp(log_scales), dim=1, keepdim=True)\n",
        "    lb, _ = (means - 20 * max_scales).min(dim=1)\n",
        "    ub, _ = (means + 20 * max_scales).max(dim=1)\n",
        "    diff = float('inf')\n",
        "\n",
        "    i = 0\n",
        "    while diff > eps and i < max_iters:\n",
        "        new_x, lb, ub = body(x, lb, ub)\n",
        "        diff = (new_x - x).abs().max()\n",
        "        x = new_x\n",
        "        i += 1\n",
        "\n",
        "    return x\n",
        "\n",
        "\n",
        "def inverse(x, reverse=False):\n",
        "    \"\"\"Inverse logistic function.\"\"\"\n",
        "    if reverse:\n",
        "        z = torch.sigmoid(x)\n",
        "        ldj = F.softplus(x) + F.softplus(-x)\n",
        "    else:\n",
        "        z = -safe_log(x.reciprocal() - 1.)\n",
        "        ldj = -safe_log(x) - safe_log(1. - x)\n",
        "\n",
        "    return z, ldj"
      ],
      "execution_count": 4,
      "outputs": []
    },
    {
      "cell_type": "code",
      "metadata": {
        "id": "ECcROGacs_4n"
      },
      "source": [
        "class LogisticMixture(BaseNormalizingFlow):\n",
        "    \"\"\"\n",
        "        https://github.com/chrischute/flowplusplus/blob/master/models/flowplusplus/coupling.py\n",
        "    \"\"\"\n",
        "    def __init__(self, NN,k):\n",
        "        super().__init__()\n",
        "        self.nn = NN\n",
        "        self.k = k\n",
        "        \n",
        "    def forward(self,x):\n",
        "        x1, x2 = x[:,:self.k],x[:,self.k:]\n",
        "        a, b, pi, mu, s = self.nn(x1)\n",
        "        \n",
        "        z2 = mixture_log_cdf(x2, pi, mu, s).exp() ## MixLogCDF\n",
        "#         z2 = torch.logit(z2, eps=1e-5) ## logit\n",
        "        z2, log_J_logit = inverse(z2)\n",
        "        z2 = z2*torch.exp(a)+b\n",
        "        \n",
        "        log_det = a+mixture_log_pdf(z2,pi,mu,s)+log_J_logit ##MixLogPDF+J_logit\n",
        "        log_det = log_det.flatten(1).sum(-1)\n",
        "\n",
        "        z = torch.cat([x1,z2], dim=1)\n",
        "        return z, log_det\n",
        "    \n",
        "    def backward(self,z):\n",
        "        z1, z2 = z[:,:self.k], z[:,self.k:]\n",
        "        a, b, pi, mu, s = self.nn(z1)\n",
        "        \n",
        "        x2 = torch.exp(-a)*(z2-b)\n",
        "        x2, log_J_sig = inverse(x2,reverse=True)\n",
        "        x2 = x2.clamp(1e-5, 1. - 1e-5)\n",
        "        x2 = mixture_inv_cdf(x2,pi,mu,s) ## inv MixLogCDF\n",
        "        \n",
        "        log_det = -a+log_J_sig-mixture_log_pdf(x2,pi,mu,s)##\n",
        "        log_det = log_det.flatten(1).sum(-1)\n",
        "\n",
        "        x = torch.cat([z1,x2], dim=1)\n",
        "        return x, log_det"
      ],
      "execution_count": 19,
      "outputs": []
    },
    {
      "cell_type": "markdown",
      "metadata": {
        "id": "6_bPwd_E3DJo"
      },
      "source": [
        "## Moons"
      ]
    },
    {
      "cell_type": "code",
      "metadata": {
        "id": "UB7S9dVm4tLF"
      },
      "source": [
        "def train_moons(model, n_epochs=10001):\n",
        "    d = 2\n",
        "    base_distr = torch.distributions.multivariate_normal.MultivariateNormal(\n",
        "        torch.zeros(d,device=device),torch.eye(d,device=device))\n",
        "\n",
        "    train_loss = []\n",
        "\n",
        "    for i in range(n_epochs):\n",
        "        x, y = datasets.make_moons(128, noise=.1)\n",
        "        x = torch.tensor(x, dtype=torch.float32).to(device)\n",
        "\n",
        "        model.train()\n",
        "\n",
        "        z, log_det = model(x)\n",
        "        l = loss(z[-1],log_det)\n",
        "        \n",
        "        if torch.any(torch.isnan(log_det)):\n",
        "            print(\"???\")\n",
        "\n",
        "        l.backward()\n",
        "        optimizer.step()\n",
        "        optimizer.zero_grad()\n",
        "\n",
        "        train_loss.append(l.item())\n",
        "\n",
        "        if i%100==0:\n",
        "            print(i,train_loss[-1])\n",
        "\n",
        "        if (i + 1) % 500 == 0:\n",
        "            model.eval()\n",
        "\n",
        "            xline = torch.linspace(-1.5, 2.5)\n",
        "            yline = torch.linspace(-.75, 1.25)\n",
        "            xgrid, ygrid = torch.meshgrid(xline, yline)\n",
        "            xyinput = torch.cat([xgrid.reshape(-1, 1), ygrid.reshape(-1, 1)], dim=1)\n",
        "\n",
        "            with torch.no_grad():\n",
        "                xy, log_s = model(xyinput.to(device))\n",
        "                zz = (log_likelihood(xy[-1],log_s)).exp().cpu()\n",
        "                zgrid = zz.reshape(100,100)\n",
        "\n",
        "                z = base_distr.sample((100,))\n",
        "                xs, _ = model.backward(z)\n",
        "                x = xs[-1].detach()\n",
        "\n",
        "                if torch.any(torch.isnan(zz)):\n",
        "                    print(\"?\")\n",
        "\n",
        "                x = x.cpu().numpy()\n",
        "                z = z.cpu().numpy()\n",
        "\n",
        "            plt.contourf(xgrid.numpy(), ygrid.numpy(), zgrid.numpy())\n",
        "            plt.colorbar()\n",
        "            plt.scatter(x[:,0],x[:,1],c=\"red\")\n",
        "            plt.scatter(z[:,0],z[:,1],c=\"green\")\n",
        "            plt.xlim(-1.5,2.5)\n",
        "            plt.ylim(-0.75,1.25)\n",
        "            plt.title('iteration {}'.format(i + 1))\n",
        "            plt.show()\n",
        "            \n",
        "    return train_loss"
      ],
      "execution_count": 24,
      "outputs": []
    },
    {
      "cell_type": "code",
      "metadata": {
        "id": "9SR-kNpO3G79"
      },
      "source": [
        "def loss(h,log_det,d=2):\n",
        "    base_distr = torch.distributions.multivariate_normal.MultivariateNormal(\n",
        "        torch.zeros(d,device=device),torch.eye(d,device=device))\n",
        "\n",
        "    prior = base_distr.log_prob(h).mean()\n",
        "    return -(prior+log_det.mean())\n",
        "\n",
        "def log_likelihood(h,log_det,d=2):\n",
        "    base_distr = torch.distributions.multivariate_normal.MultivariateNormal(\n",
        "        torch.zeros(d,device=device),torch.eye(d,device=device))\n",
        "\n",
        "    prior = base_distr.log_prob(h)\n",
        "    return prior+log_det"
      ],
      "execution_count": 25,
      "outputs": []
    },
    {
      "cell_type": "code",
      "metadata": {
        "colab": {
          "base_uri": "https://localhost:8080/"
        },
        "id": "NuB14x_cs_4q",
        "outputId": "be293c72-fb75-4098-a1f2-4f8a1b4f7a2f"
      },
      "source": [
        "d = 2\n",
        "\n",
        "n_layers = 5\n",
        "# nets = [NN(d//2,10,10,32,0.2) for i in range(n_layers)]\n",
        "nets = [MLP(d//2,32,d//2,3) for i in range(n_layers)]\n",
        "\n",
        "flows = []\n",
        "for i in range(n_layers):\n",
        "    flows.append(LogisticMixture(nets[i],d//2))\n",
        "    flows.append(Reverse(d))\n",
        "    \n",
        "model = NormalizingFlows(flows).to(device)\n",
        "\n",
        "optimizer = optim.Adam(model.parameters(), lr=1e-4, weight_decay=1e-5)\n",
        "print(\"number of params: \", sum(p.numel() for p in model.parameters()))"
      ],
      "execution_count": 26,
      "outputs": [
        {
          "output_type": "stream",
          "text": [
            "number of params:  16985\n"
          ],
          "name": "stdout"
        }
      ]
    },
    {
      "cell_type": "code",
      "metadata": {
        "colab": {
          "base_uri": "https://localhost:8080/",
          "height": 1000
        },
        "id": "Vv-GjE1b3HDh",
        "outputId": "c4d1032c-c908-4740-e44f-14d5412b8a14"
      },
      "source": [
        "train_loss = train_moons(model)"
      ],
      "execution_count": 27,
      "outputs": [
        {
          "output_type": "stream",
          "text": [
            "0 5417.97021484375\n",
            "100 308.69635009765625\n",
            "200 92.42935180664062\n",
            "300 -33.93751525878906\n",
            "400 -113.5967025756836\n"
          ],
          "name": "stdout"
        },
        {
          "output_type": "stream",
          "text": [
            "/usr/local/lib/python3.6/dist-packages/matplotlib/contour.py:1483: UserWarning: Warning: converting a masked element to nan.\n",
            "  self.zmax = float(z.max())\n",
            "/usr/local/lib/python3.6/dist-packages/matplotlib/contour.py:1484: UserWarning: Warning: converting a masked element to nan.\n",
            "  self.zmin = float(z.min())\n"
          ],
          "name": "stderr"
        },
        {
          "output_type": "display_data",
          "data": {
            "image/png": "[encoded data removed]",
            "text/plain": [
              "<Figure size 432x288 with 2 Axes>"
            ]
          },
          "metadata": {
            "tags": [],
            "needs_background": "light"
          }
        },
        {
          "output_type": "stream",
          "text": [
            "500 -147.63418579101562\n",
            "600 -167.18240356445312\n",
            "700 -180.10064697265625\n",
            "800 -189.32476806640625\n",
            "900 -196.36480712890625\n"
          ],
          "name": "stdout"
        },
        {
          "output_type": "display_data",
          "data": {
            "image/png": "[encoded data removed]",
            "text/plain": [
              "<Figure size 432x288 with 2 Axes>"
            ]
          },
          "metadata": {
            "tags": [],
            "needs_background": "light"
          }
        },
        {
          "output_type": "stream",
          "text": [
            "1000 -201.84970092773438\n",
            "1100 -206.1728057861328\n",
            "1200 -209.69290161132812\n",
            "1300 -212.66761779785156\n",
            "1400 -215.23651123046875\n"
          ],
          "name": "stdout"
        },
        {
          "output_type": "display_data",
          "data": {
            "image/png": "[encoded data removed]",
            "text/plain": [
              "<Figure size 432x288 with 2 Axes>"
            ]
          },
          "metadata": {
            "tags": [],
            "needs_background": "light"
          }
        },
        {
          "output_type": "stream",
          "text": [
            "1500 -217.42173767089844\n",
            "1600 -219.38595581054688\n",
            "1700 -221.16001892089844\n",
            "1800 -222.775634765625\n",
            "1900 -224.242431640625\n"
          ],
          "name": "stdout"
        },
        {
          "output_type": "error",
          "ename": "KeyboardInterrupt",
          "evalue": "ignored",
          "traceback": [
            "\u001b[0;31m---------------------------------------------------------------------------\u001b[0m",
            "\u001b[0;31mKeyboardInterrupt\u001b[0m                         Traceback (most recent call last)",
            "\u001b[0;32m<ipython-input-27-62bb1aae6ae2>\u001b[0m in \u001b[0;36m<module>\u001b[0;34m()\u001b[0m\n\u001b[0;32m----> 1\u001b[0;31m \u001b[0mtrain_loss\u001b[0m \u001b[0;34m=\u001b[0m \u001b[0mtrain_moons\u001b[0m\u001b[0;34m(\u001b[0m\u001b[0mmodel\u001b[0m\u001b[0;34m)\u001b[0m\u001b[0;34m\u001b[0m\u001b[0;34m\u001b[0m\u001b[0m\n\u001b[0m",
            "\u001b[0;32m<ipython-input-24-ec332d30f58e>\u001b[0m in \u001b[0;36mtrain_moons\u001b[0;34m(model, n_epochs)\u001b[0m\n\u001b[1;32m     18\u001b[0m             \u001b[0mprint\u001b[0m\u001b[0;34m(\u001b[0m\u001b[0;34m\"???\"\u001b[0m\u001b[0;34m)\u001b[0m\u001b[0;34m\u001b[0m\u001b[0;34m\u001b[0m\u001b[0m\n\u001b[1;32m     19\u001b[0m \u001b[0;34m\u001b[0m\u001b[0m\n\u001b[0;32m---> 20\u001b[0;31m         \u001b[0ml\u001b[0m\u001b[0;34m.\u001b[0m\u001b[0mbackward\u001b[0m\u001b[0;34m(\u001b[0m\u001b[0;34m)\u001b[0m\u001b[0;34m\u001b[0m\u001b[0;34m\u001b[0m\u001b[0m\n\u001b[0m\u001b[1;32m     21\u001b[0m         \u001b[0moptimizer\u001b[0m\u001b[0;34m.\u001b[0m\u001b[0mstep\u001b[0m\u001b[0;34m(\u001b[0m\u001b[0;34m)\u001b[0m\u001b[0;34m\u001b[0m\u001b[0;34m\u001b[0m\u001b[0m\n\u001b[1;32m     22\u001b[0m         \u001b[0moptimizer\u001b[0m\u001b[0;34m.\u001b[0m\u001b[0mzero_grad\u001b[0m\u001b[0;34m(\u001b[0m\u001b[0;34m)\u001b[0m\u001b[0;34m\u001b[0m\u001b[0;34m\u001b[0m\u001b[0m\n",
            "\u001b[0;32m/usr/local/lib/python3.6/dist-packages/torch/tensor.py\u001b[0m in \u001b[0;36mbackward\u001b[0;34m(self, gradient, retain_graph, create_graph)\u001b[0m\n\u001b[1;32m    219\u001b[0m                 \u001b[0mretain_graph\u001b[0m\u001b[0;34m=\u001b[0m\u001b[0mretain_graph\u001b[0m\u001b[0;34m,\u001b[0m\u001b[0;34m\u001b[0m\u001b[0;34m\u001b[0m\u001b[0m\n\u001b[1;32m    220\u001b[0m                 create_graph=create_graph)\n\u001b[0;32m--> 221\u001b[0;31m         \u001b[0mtorch\u001b[0m\u001b[0;34m.\u001b[0m\u001b[0mautograd\u001b[0m\u001b[0;34m.\u001b[0m\u001b[0mbackward\u001b[0m\u001b[0;34m(\u001b[0m\u001b[0mself\u001b[0m\u001b[0;34m,\u001b[0m \u001b[0mgradient\u001b[0m\u001b[0;34m,\u001b[0m \u001b[0mretain_graph\u001b[0m\u001b[0;34m,\u001b[0m \u001b[0mcreate_graph\u001b[0m\u001b[0;34m)\u001b[0m\u001b[0;34m\u001b[0m\u001b[0;34m\u001b[0m\u001b[0m\n\u001b[0m\u001b[1;32m    222\u001b[0m \u001b[0;34m\u001b[0m\u001b[0m\n\u001b[1;32m    223\u001b[0m     \u001b[0;32mdef\u001b[0m \u001b[0mregister_hook\u001b[0m\u001b[0;34m(\u001b[0m\u001b[0mself\u001b[0m\u001b[0;34m,\u001b[0m \u001b[0mhook\u001b[0m\u001b[0;34m)\u001b[0m\u001b[0;34m:\u001b[0m\u001b[0;34m\u001b[0m\u001b[0;34m\u001b[0m\u001b[0m\n",
            "\u001b[0;32m/usr/local/lib/python3.6/dist-packages/torch/autograd/__init__.py\u001b[0m in \u001b[0;36mbackward\u001b[0;34m(tensors, grad_tensors, retain_graph, create_graph, grad_variables)\u001b[0m\n\u001b[1;32m    130\u001b[0m     Variable._execution_engine.run_backward(\n\u001b[1;32m    131\u001b[0m         \u001b[0mtensors\u001b[0m\u001b[0;34m,\u001b[0m \u001b[0mgrad_tensors_\u001b[0m\u001b[0;34m,\u001b[0m \u001b[0mretain_graph\u001b[0m\u001b[0;34m,\u001b[0m \u001b[0mcreate_graph\u001b[0m\u001b[0;34m,\u001b[0m\u001b[0;34m\u001b[0m\u001b[0;34m\u001b[0m\u001b[0m\n\u001b[0;32m--> 132\u001b[0;31m         allow_unreachable=True)  # allow_unreachable flag\n\u001b[0m\u001b[1;32m    133\u001b[0m \u001b[0;34m\u001b[0m\u001b[0m\n\u001b[1;32m    134\u001b[0m \u001b[0;34m\u001b[0m\u001b[0m\n",
            "\u001b[0;31mKeyboardInterrupt\u001b[0m: "
          ]
        }
      ]
    },
    {
      "cell_type": "code",
      "metadata": {
        "id": "YIB-e04C8rfa"
      },
      "source": [
        "plt.plot(train_loss)\n",
        "plt.show()"
      ],
      "execution_count": null,
      "outputs": []
    },
    {
      "cell_type": "markdown",
      "metadata": {
        "id": "0Ng8ocPu3HZm"
      },
      "source": [
        "## MNIST"
      ]
    },
    {
      "cell_type": "code",
      "metadata": {
        "id": "ru7PmEX5FiMB"
      },
      "source": [
        "def uniform_quantization(img):\n",
        "    return (img*255+torch.rand(img.size()))/256\n",
        "\n",
        "def rescale_logit(img,lambd=1e-6):\n",
        "    ## logit space\n",
        "    return torch.logit(lambd+(1-2*lambd)*img)"
      ],
      "execution_count": null,
      "outputs": []
    },
    {
      "cell_type": "code",
      "metadata": {
        "id": "gclID9jCFBSd"
      },
      "source": [
        "transform = torchvision.transforms.Compose([\n",
        "                torchvision.transforms.ToTensor(),\n",
        "                uniform_quantization,\n",
        "                rescale_logit\n",
        "                # torchvision.transforms.Normalize((0.5,), (0.5,))\n",
        "    ])\n",
        "\n",
        "train_dataset = torchvision.datasets.MNIST(\n",
        "    root=\"~/torch_datasets\", train=True, transform=transform, download=True\n",
        ")\n",
        "\n",
        "test_dataset = torchvision.datasets.MNIST(\n",
        "    root=\"~/torch_datasets\", train=False, transform=transform, download=True\n",
        ")\n",
        "\n",
        "train_loader = torch.utils.data.DataLoader(\n",
        "    train_dataset, batch_size=128, shuffle=True, num_workers=4, pin_memory=True\n",
        ")\n",
        "\n",
        "test_loader = torch.utils.data.DataLoader(\n",
        "    test_dataset, batch_size=32, shuffle=False, num_workers=4\n",
        ")"
      ],
      "execution_count": null,
      "outputs": []
    },
    {
      "cell_type": "code",
      "metadata": {
        "id": "n1wFi0KqFCKh"
      },
      "source": [
        "plt.imshow(train_dataset[0][0].reshape(28,28),\"gray\")\n",
        "plt.show()"
      ],
      "execution_count": null,
      "outputs": []
    },
    {
      "cell_type": "code",
      "metadata": {
        "id": "ckCArdhzXj1J"
      },
      "source": [
        "def loss(h,log_det,d=784):\n",
        "    base_distr = torch.distributions.multivariate_normal.MultivariateNormal(\n",
        "        torch.zeros(d,device=device),torch.eye(d,device=device))\n",
        "\n",
        "    prior = base_distr.log_prob(h).mean()\n",
        "    return -(prior+log_det.mean())"
      ],
      "execution_count": null,
      "outputs": []
    },
    {
      "cell_type": "code",
      "metadata": {
        "id": "k0BnEbZqXoPc"
      },
      "source": [
        "def log_likelihood(h,log_det,d=784):\n",
        "    base_distr = torch.distributions.multivariate_normal.MultivariateNormal(\n",
        "        torch.zeros(d,device=device),torch.eye(d,device=device))\n",
        "\n",
        "    prior = base_distr.log_prob(h)\n",
        "    return prior+log_det"
      ],
      "execution_count": null,
      "outputs": []
    },
    {
      "cell_type": "code",
      "metadata": {
        "id": "BBq9YszaXoXN"
      },
      "source": [
        "def val():\n",
        "    d = 28*28\n",
        "    torch.manual_seed(42)\n",
        "    r,c = 5,5\n",
        "    z_random = torch.randn(r,c,d,device=device)\n",
        "    model.eval()\n",
        "    zs,log_det = model.backward(z_random.reshape(-1,28*28))\n",
        "    gen_imgs = zs[-1].view(-1,28,28)\n",
        "\n",
        "    cpt = 0\n",
        "    fig,ax = plt.subplots(r,c)\n",
        "    for i in range(r):\n",
        "        for j in range(c):\n",
        "            ax[i,j].imshow(gen_imgs.detach().cpu()[cpt],\"gray\")\n",
        "            cpt += 1\n",
        "    plt.show()"
      ],
      "execution_count": null,
      "outputs": []
    },
    {
      "cell_type": "code",
      "metadata": {
        "id": "LT37qaFgWIIZ"
      },
      "source": [
        "d = 784\n",
        "\n",
        "## Add batch normalization?\n",
        "shiftings = [shifting(d//2,1024,d//2,1) for k in range(5)]\n",
        "scalings = [scaling(d//2,1024,d//2,1) for k in range(5)]\n",
        "\n",
        "flows = []\n",
        "for i in range(5):\n",
        "    flows.append(ActNorm(dim=d))\n",
        "    flows.append(LUInvertible(dim=d))\n",
        "    flows.append(AffineCoupling(scalings[i],shiftings[i],d))\n",
        "    \n",
        "model = NormalizingFlows(flows).to(device)"
      ],
      "execution_count": null,
      "outputs": []
    },
    {
      "cell_type": "code",
      "metadata": {
        "id": "ZmFjCHocs_4u"
      },
      "source": [
        "d = 784\n",
        "\n",
        "n_layers = 2\n",
        "nets = [NN(d//2,96,10,32,0.2) for i in range(n_layers)]\n",
        "\n",
        "flows = []\n",
        "for i in range(n_layers):\n",
        "    flows.append(ActNorm(dim=d))\n",
        "    flows.append(LogisticMixture(nets[i],d//2))\n",
        "    flow.append(Reverse(d))\n",
        "    \n",
        "model = NormalizingFlows(flows).to(device)\n",
        "\n",
        "optimizer = optim.Adam(model.parameters(), lr=1e-4, weight_decay=1e-5)\n",
        "print(\"number of params: \", sum(p.numel() for p in model.parameters()))"
      ],
      "execution_count": null,
      "outputs": []
    },
    {
      "cell_type": "code",
      "metadata": {
        "id": "XIYGKuTJXYLS"
      },
      "source": [
        "num_epochs = 101\n",
        "\n",
        "train_losses = []\n",
        "test_losses = []\n",
        "\n",
        "for epoch in range(num_epochs):\n",
        "    model.train()\n",
        "\n",
        "    train_batch = []\n",
        "\n",
        "    for n_batch, (data,_) in enumerate(train_loader):\n",
        "        data = data.to(device)\n",
        "        data = data.view(-1,28*28)\n",
        "        z, log_det = model(data)\n",
        "\n",
        "        l = loss(z[-1], log_det)\n",
        "        l.backward()\n",
        "        optimizer.step()\n",
        "        optimizer.zero_grad()\n",
        "\n",
        "        train_batch.append(l.item())\n",
        "\n",
        "\n",
        "    print(epoch, np.mean(train_batch))\n",
        "    train_losses.append(np.mean(train_batch))\n",
        "\n",
        "    if epoch % 50 == 0:\n",
        "        val()\n"
      ],
      "execution_count": null,
      "outputs": []
    },
    {
      "cell_type": "code",
      "metadata": {
        "id": "m77aze1WxuAb"
      },
      "source": [
        "test_batch = []\n",
        "\n",
        "model.eval()\n",
        "\n",
        "for n_batch, (data,_) in enumerate(test_loader):\n",
        "    data = data.to(device)\n",
        "    data = data.view(-1,28*28)\n",
        "    z, log_det = model(data)\n",
        "\n",
        "    l = log_likelihood(z[-1], log_det)\n",
        "\n",
        "    test_batch.append(l.mean().item())\n"
      ],
      "execution_count": null,
      "outputs": []
    },
    {
      "cell_type": "code",
      "metadata": {
        "id": "qy0-NwgOXYO8"
      },
      "source": [
        "# Compute the bits per dim (but irrelevant for binary data)\n",
        "log_likelihood = np.mean(test_batch)\n",
        "bpd = log_likelihood / (np.prod(784) * np.log(2.))\n",
        "print(bpd)"
      ],
      "execution_count": null,
      "outputs": []
    },
    {
      "cell_type": "code",
      "metadata": {
        "id": "I3kya5qPXYS3"
      },
      "source": [
        "d = 28*28\n",
        "torch.manual_seed(42)\n",
        "r,c = 5,5\n",
        "z_random = torch.randn(r,c,d,device=device)\n",
        "model.eval()\n",
        "zs,log_det = model.backward(z_random.reshape(-1,28*28))\n",
        "gen_imgs = zs[-1].view(-1,28,28)\n",
        "gen_imgs = gen_imgs.detach().cpu()\n",
        "lambd = 1e-6\n",
        "gen_imgs = (torch.sigmoid(gen_imgs)-lambd)/(1-2*lambd)\n",
        "\n",
        "cpt = 0\n",
        "fig,ax = plt.subplots(r,c)\n",
        "for i in range(r):\n",
        "    for j in range(c):\n",
        "        ax[i,j].imshow(gen_imgs[cpt],\"gray\")\n",
        "        cpt += 1\n",
        "plt.show()"
      ],
      "execution_count": null,
      "outputs": []
    },
    {
      "cell_type": "markdown",
      "metadata": {
        "id": "HubkxpVT920n"
      },
      "source": [
        "## References\n",
        "\n",
        "<a id=\"reference1\"></a>\n",
        "\n",
        "[1] Ho, J., Chen, X., Srinivas, A., Duan, Y., & Abbeel, P. Glow: Generative flow with invertible 1x1 convolutions. arXiv preprint arXiv:1902.00275. (2019). [link](https://arxiv.org/pdf/1902.00275)"
      ]
    },
    {
      "cell_type": "code",
      "metadata": {
        "id": "ASz9_O9aey5g"
      },
      "source": [
        ""
      ],
      "execution_count": null,
      "outputs": []
    }
  ]
}