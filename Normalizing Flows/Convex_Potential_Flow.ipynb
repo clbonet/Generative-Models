{
 "cells": [
  {
   "cell_type": "markdown",
   "metadata": {
    "id": "ew66iEyY22dB"
   },
   "source": [
    "# <center>Convex Potential FLow [1]</center>"
   ]
  },
  {
   "cell_type": "code",
   "execution_count": 1,
   "metadata": {
    "id": "Ux3a7C9kE3WA"
   },
   "outputs": [],
   "source": [
    "import torch\n",
    "import torch.optim as optim\n",
    "import torch.nn as nn\n",
    "import torch.nn.functional as F\n",
    "\n",
    "import torchvision\n",
    "\n",
    "import matplotlib.pyplot as plt\n",
    "import numpy as np\n",
    "\n",
    "import sklearn.datasets as datasets\n",
    "\n",
    "from NF_base import *"
   ]
  },
  {
   "cell_type": "code",
   "execution_count": 2,
   "metadata": {
    "id": "k2D-m3olFAGS"
   },
   "outputs": [],
   "source": [
    "device = \"cuda\" if torch.cuda.is_available() else \"cpu\""
   ]
  },
  {
   "cell_type": "code",
   "execution_count": 3,
   "metadata": {
    "id": "9Wwv4nF85ulD"
   },
   "outputs": [],
   "source": [
    "class shifting(nn.Module):\n",
    "    def __init__(self, d_in, nh, d_out, n_layers):\n",
    "        super().__init__()\n",
    "        self.layers = nn.ModuleList()\n",
    "        self.layers.append(nn.Linear(d_in,nh))\n",
    "        for i in range(n_layers):\n",
    "            self.layers.append(nn.Linear(nh,nh))\n",
    "        self.layers.append(nn.Linear(nh,d_out))\n",
    "\n",
    "    def forward(self, x):\n",
    "        for layer in self.layers:\n",
    "            x = F.leaky_relu(layer(x),0.2)\n",
    "        return x\n",
    "\n",
    "class scaling(nn.Module):\n",
    "    def __init__(self, d_in, nh, d_out, n_layers):\n",
    "        super().__init__()\n",
    "        self.layers = nn.ModuleList()\n",
    "        self.layers.append(nn.Linear(d_in,nh))\n",
    "        for i in range(n_layers):\n",
    "            self.layers.append(nn.Linear(nh,nh))\n",
    "        self.layers.append(nn.Linear(nh,d_out))\n",
    "\n",
    "    def forward(self, x):\n",
    "        for layer in self.layers:\n",
    "            x = torch.tanh(layer(x))\n",
    "        return x"
   ]
  },
  {
   "cell_type": "markdown",
   "metadata": {
    "id": "Ve3t8Cqj8h9U"
   },
   "source": [
    "**ICNN**: (Input Convex Neural Net)\n",
    "\\begin{equation*}\n",
    "    \\begin{cases}\n",
    "        z_1 = L_1(x) \\\\\n",
    "        z_{k+1} = L_{k+1}^+(s(z_k))+L_{k+1}(x) \\\\\n",
    "        F(x) = L_{K+1}^+(s(z_K))+L_{K+1}(x)\n",
    "    \\end{cases}\n",
    "\\end{equation*}\n",
    "where $s$ is a convex activation function (e.g. softplus), $L^+$ is a linear layer with positive weights (thus strictly increasing in each argument) and $L$ linear layer.\n",
    "\n",
    "F is convex as a sum of convex function, and composition from a convex function increasing in each argument with a convex function.\n",
    "\n",
    "**Convex Potential Flow:**\n",
    "\\begin{equation*}\n",
    "    f_\\alpha(x) = \\nabla F_\\alpha(x)\n",
    "\\end{equation*}\n",
    "where $F_\\alpha(x)=F(x)+\\frac{\\alpha}{2}\\|x\\|^2$.\n"
   ]
  },
  {
   "cell_type": "code",
   "execution_count": 29,
   "metadata": {},
   "outputs": [],
   "source": [
    "class ICNN(nn.Module):\n",
    "    def __init__(self, d_in, nh, d_out, n_layers):\n",
    "        super().__init__()\n",
    "        self.layers = nn.ModuleList()\n",
    "        self.params = nn.ParameterList()\n",
    "        self.layers.append(nn.Linear(d_in,nh))\n",
    "        for i in range(n_layers):\n",
    "            self.layers.append(nn.Linear(d_in,nh))\n",
    "            self.params.append(nn.Parameter(torch.randn(nh,nh)))\n",
    "        self.layers.append(nn.Linear(d_in,d_out))\n",
    "        self.params.append(nn.Parameter(torch.randn(nh,d_out)))\n",
    "        \n",
    "        self.softplus = nn.Softplus()\n",
    "\n",
    "    def forward(self, x):\n",
    "        for i,layer in enumerate(self.layers):\n",
    "            if i==0:\n",
    "                z = layer(x)\n",
    "            else:\n",
    "                z = self.softplus(z)@torch.exp(self.params[i-1])+layer(x)\n",
    "        return z"
   ]
  },
  {
   "cell_type": "code",
   "execution_count": 40,
   "metadata": {},
   "outputs": [
    {
     "name": "stderr",
     "output_type": "stream",
     "text": [
      "/home/clement/anaconda3/envs/pytorch/lib/python3.8/site-packages/torch/nn/modules/container.py:434: UserWarning: Setting attributes on ParameterList is not supported.\n",
      "  warnings.warn(\"Setting attributes on ParameterList is not supported.\")\n"
     ]
    },
    {
     "data": {
      "image/png": "[encoded data removed]",
      "text/plain": [
       "<Figure size 432x288 with 1 Axes>"
      ]
     },
     "metadata": {
      "needs_background": "light"
     },
     "output_type": "display_data"
    }
   ],
   "source": [
    "x = torch.arange(-10,10,0.1).reshape(-1,1)\n",
    "\n",
    "model = ICNN(1,5,1,3)\n",
    "\n",
    "output = model(x)\n",
    "\n",
    "plt.plot(x.numpy(),output.detach().numpy())\n",
    "plt.show()"
   ]
  },
  {
   "cell_type": "code",
   "execution_count": 42,
   "metadata": {},
   "outputs": [
    {
     "name": "stdout",
     "output_type": "stream",
     "text": [
      "torch.Size([100, 2])\n"
     ]
    }
   ],
   "source": [
    "x = torch.randn(100,2)\n",
    "\n",
    "model = ICNN(2,5,2,3)\n",
    "\n",
    "output = model(x)\n",
    "print(output.size())"
   ]
  },
  {
   "cell_type": "code",
   "execution_count": 43,
   "metadata": {},
   "outputs": [],
   "source": [
    "def F_alpha(x,alpha=1):\n",
    "    return model(x)+torch.norm(x)*alpha/2"
   ]
  },
  {
   "cell_type": "code",
   "execution_count": null,
   "metadata": {},
   "outputs": [],
   "source": []
  },
  {
   "cell_type": "code",
   "execution_count": null,
   "metadata": {},
   "outputs": [],
   "source": []
  },
  {
   "cell_type": "markdown",
   "metadata": {},
   "source": [
    "https://pytorch.org/docs/stable/autograd.html"
   ]
  },
  {
   "cell_type": "code",
   "execution_count": 45,
   "metadata": {},
   "outputs": [
    {
     "name": "stdout",
     "output_type": "stream",
     "text": [
      "torch.Size([100, 2, 100, 2])\n"
     ]
    }
   ],
   "source": [
    "J = torch.autograd.functional.jacobian(F_alpha, x, create_graph=False, strict=False)\n",
    "print(J.size())"
   ]
  },
  {
   "cell_type": "code",
   "execution_count": 50,
   "metadata": {
    "scrolled": true
   },
   "outputs": [
    {
     "ename": "RuntimeError",
     "evalue": "The Tensor returned by the function given to hessian should contain a single element",
     "output_type": "error",
     "traceback": [
      "\u001b[0;31m---------------------------------------------------------------------------\u001b[0m",
      "\u001b[0;31mRuntimeError\u001b[0m                              Traceback (most recent call last)",
      "\u001b[0;32m<ipython-input-50-13c03edf01eb>\u001b[0m in \u001b[0;36m<module>\u001b[0;34m\u001b[0m\n\u001b[0;32m----> 1\u001b[0;31m \u001b[0mH\u001b[0m \u001b[0;34m=\u001b[0m \u001b[0mtorch\u001b[0m\u001b[0;34m.\u001b[0m\u001b[0mautograd\u001b[0m\u001b[0;34m.\u001b[0m\u001b[0mfunctional\u001b[0m\u001b[0;34m.\u001b[0m\u001b[0mhessian\u001b[0m\u001b[0;34m(\u001b[0m\u001b[0mF_alpha\u001b[0m\u001b[0;34m,\u001b[0m \u001b[0mx\u001b[0m\u001b[0;34m,\u001b[0m \u001b[0mcreate_graph\u001b[0m\u001b[0;34m=\u001b[0m\u001b[0;32mFalse\u001b[0m\u001b[0;34m,\u001b[0m \u001b[0mstrict\u001b[0m\u001b[0;34m=\u001b[0m\u001b[0;32mFalse\u001b[0m\u001b[0;34m)\u001b[0m\u001b[0;34m\u001b[0m\u001b[0;34m\u001b[0m\u001b[0m\n\u001b[0m",
      "\u001b[0;32m~/anaconda3/envs/pytorch/lib/python3.8/site-packages/torch/autograd/functional.py\u001b[0m in \u001b[0;36mhessian\u001b[0;34m(func, inputs, create_graph, strict)\u001b[0m\n\u001b[1;32m    546\u001b[0m         \u001b[0;32mreturn\u001b[0m \u001b[0mjac\u001b[0m\u001b[0;34m\u001b[0m\u001b[0;34m\u001b[0m\u001b[0m\n\u001b[1;32m    547\u001b[0m \u001b[0;34m\u001b[0m\u001b[0m\n\u001b[0;32m--> 548\u001b[0;31m     \u001b[0mres\u001b[0m \u001b[0;34m=\u001b[0m \u001b[0mjacobian\u001b[0m\u001b[0;34m(\u001b[0m\u001b[0mjac_func\u001b[0m\u001b[0;34m,\u001b[0m \u001b[0minputs\u001b[0m\u001b[0;34m,\u001b[0m \u001b[0mcreate_graph\u001b[0m\u001b[0;34m=\u001b[0m\u001b[0mcreate_graph\u001b[0m\u001b[0;34m,\u001b[0m \u001b[0mstrict\u001b[0m\u001b[0;34m=\u001b[0m\u001b[0mstrict\u001b[0m\u001b[0;34m)\u001b[0m\u001b[0;34m\u001b[0m\u001b[0;34m\u001b[0m\u001b[0m\n\u001b[0m\u001b[1;32m    549\u001b[0m     \u001b[0;32mreturn\u001b[0m \u001b[0m_tuple_postprocess\u001b[0m\u001b[0;34m(\u001b[0m\u001b[0mres\u001b[0m\u001b[0;34m,\u001b[0m \u001b[0;34m(\u001b[0m\u001b[0mis_inputs_tuple\u001b[0m\u001b[0;34m,\u001b[0m \u001b[0mis_inputs_tuple\u001b[0m\u001b[0;34m)\u001b[0m\u001b[0;34m)\u001b[0m\u001b[0;34m\u001b[0m\u001b[0;34m\u001b[0m\u001b[0m\n\u001b[1;32m    550\u001b[0m \u001b[0;34m\u001b[0m\u001b[0m\n",
      "\u001b[0;32m~/anaconda3/envs/pytorch/lib/python3.8/site-packages/torch/autograd/functional.py\u001b[0m in \u001b[0;36mjacobian\u001b[0;34m(func, inputs, create_graph, strict)\u001b[0m\n\u001b[1;32m    423\u001b[0m     \u001b[0minputs\u001b[0m \u001b[0;34m=\u001b[0m \u001b[0m_grad_preprocess\u001b[0m\u001b[0;34m(\u001b[0m\u001b[0minputs\u001b[0m\u001b[0;34m,\u001b[0m \u001b[0mcreate_graph\u001b[0m\u001b[0;34m=\u001b[0m\u001b[0mcreate_graph\u001b[0m\u001b[0;34m,\u001b[0m \u001b[0mneed_graph\u001b[0m\u001b[0;34m=\u001b[0m\u001b[0;32mTrue\u001b[0m\u001b[0;34m)\u001b[0m\u001b[0;34m\u001b[0m\u001b[0;34m\u001b[0m\u001b[0m\n\u001b[1;32m    424\u001b[0m \u001b[0;34m\u001b[0m\u001b[0m\n\u001b[0;32m--> 425\u001b[0;31m     \u001b[0moutputs\u001b[0m \u001b[0;34m=\u001b[0m \u001b[0mfunc\u001b[0m\u001b[0;34m(\u001b[0m\u001b[0;34m*\u001b[0m\u001b[0minputs\u001b[0m\u001b[0;34m)\u001b[0m\u001b[0;34m\u001b[0m\u001b[0;34m\u001b[0m\u001b[0m\n\u001b[0m\u001b[1;32m    426\u001b[0m     is_outputs_tuple, outputs = _as_tuple(outputs,\n\u001b[1;32m    427\u001b[0m                                           \u001b[0;34m\"outputs of the user-provided function\"\u001b[0m\u001b[0;34m,\u001b[0m\u001b[0;34m\u001b[0m\u001b[0;34m\u001b[0m\u001b[0m\n",
      "\u001b[0;32m~/anaconda3/envs/pytorch/lib/python3.8/site-packages/torch/autograd/functional.py\u001b[0m in \u001b[0;36mjac_func\u001b[0;34m(*inp)\u001b[0m\n\u001b[1;32m    542\u001b[0m \u001b[0;34m\u001b[0m\u001b[0m\n\u001b[1;32m    543\u001b[0m     \u001b[0;32mdef\u001b[0m \u001b[0mjac_func\u001b[0m\u001b[0;34m(\u001b[0m\u001b[0;34m*\u001b[0m\u001b[0minp\u001b[0m\u001b[0;34m)\u001b[0m\u001b[0;34m:\u001b[0m\u001b[0;34m\u001b[0m\u001b[0;34m\u001b[0m\u001b[0m\n\u001b[0;32m--> 544\u001b[0;31m         \u001b[0mjac\u001b[0m \u001b[0;34m=\u001b[0m \u001b[0mjacobian\u001b[0m\u001b[0;34m(\u001b[0m\u001b[0mensure_single_output_function\u001b[0m\u001b[0;34m,\u001b[0m \u001b[0minp\u001b[0m\u001b[0;34m,\u001b[0m \u001b[0mcreate_graph\u001b[0m\u001b[0;34m=\u001b[0m\u001b[0;32mTrue\u001b[0m\u001b[0;34m)\u001b[0m\u001b[0;34m\u001b[0m\u001b[0;34m\u001b[0m\u001b[0m\n\u001b[0m\u001b[1;32m    545\u001b[0m         \u001b[0m_check_requires_grad\u001b[0m\u001b[0;34m(\u001b[0m\u001b[0mjac\u001b[0m\u001b[0;34m,\u001b[0m \u001b[0;34m\"jacobian\"\u001b[0m\u001b[0;34m,\u001b[0m \u001b[0mstrict\u001b[0m\u001b[0;34m=\u001b[0m\u001b[0mstrict\u001b[0m\u001b[0;34m)\u001b[0m\u001b[0;34m\u001b[0m\u001b[0;34m\u001b[0m\u001b[0m\n\u001b[1;32m    546\u001b[0m         \u001b[0;32mreturn\u001b[0m \u001b[0mjac\u001b[0m\u001b[0;34m\u001b[0m\u001b[0;34m\u001b[0m\u001b[0m\n",
      "\u001b[0;32m~/anaconda3/envs/pytorch/lib/python3.8/site-packages/torch/autograd/functional.py\u001b[0m in \u001b[0;36mjacobian\u001b[0;34m(func, inputs, create_graph, strict)\u001b[0m\n\u001b[1;32m    423\u001b[0m     \u001b[0minputs\u001b[0m \u001b[0;34m=\u001b[0m \u001b[0m_grad_preprocess\u001b[0m\u001b[0;34m(\u001b[0m\u001b[0minputs\u001b[0m\u001b[0;34m,\u001b[0m \u001b[0mcreate_graph\u001b[0m\u001b[0;34m=\u001b[0m\u001b[0mcreate_graph\u001b[0m\u001b[0;34m,\u001b[0m \u001b[0mneed_graph\u001b[0m\u001b[0;34m=\u001b[0m\u001b[0;32mTrue\u001b[0m\u001b[0;34m)\u001b[0m\u001b[0;34m\u001b[0m\u001b[0;34m\u001b[0m\u001b[0m\n\u001b[1;32m    424\u001b[0m \u001b[0;34m\u001b[0m\u001b[0m\n\u001b[0;32m--> 425\u001b[0;31m     \u001b[0moutputs\u001b[0m \u001b[0;34m=\u001b[0m \u001b[0mfunc\u001b[0m\u001b[0;34m(\u001b[0m\u001b[0;34m*\u001b[0m\u001b[0minputs\u001b[0m\u001b[0;34m)\u001b[0m\u001b[0;34m\u001b[0m\u001b[0;34m\u001b[0m\u001b[0m\n\u001b[0m\u001b[1;32m    426\u001b[0m     is_outputs_tuple, outputs = _as_tuple(outputs,\n\u001b[1;32m    427\u001b[0m                                           \u001b[0;34m\"outputs of the user-provided function\"\u001b[0m\u001b[0;34m,\u001b[0m\u001b[0;34m\u001b[0m\u001b[0;34m\u001b[0m\u001b[0m\n",
      "\u001b[0;32m~/anaconda3/envs/pytorch/lib/python3.8/site-packages/torch/autograd/functional.py\u001b[0m in \u001b[0;36mensure_single_output_function\u001b[0;34m(*inp)\u001b[0m\n\u001b[1;32m    537\u001b[0m \u001b[0;34m\u001b[0m\u001b[0m\n\u001b[1;32m    538\u001b[0m         \u001b[0;32mif\u001b[0m \u001b[0mout\u001b[0m\u001b[0;34m.\u001b[0m\u001b[0mnelement\u001b[0m\u001b[0;34m(\u001b[0m\u001b[0;34m)\u001b[0m \u001b[0;34m!=\u001b[0m \u001b[0;36m1\u001b[0m\u001b[0;34m:\u001b[0m\u001b[0;34m\u001b[0m\u001b[0;34m\u001b[0m\u001b[0m\n\u001b[0;32m--> 539\u001b[0;31m             \u001b[0;32mraise\u001b[0m \u001b[0mRuntimeError\u001b[0m\u001b[0;34m(\u001b[0m\u001b[0;34m\"The Tensor returned by the function given to hessian should contain a single element\"\u001b[0m\u001b[0;34m)\u001b[0m\u001b[0;34m\u001b[0m\u001b[0;34m\u001b[0m\u001b[0m\n\u001b[0m\u001b[1;32m    540\u001b[0m \u001b[0;34m\u001b[0m\u001b[0m\n\u001b[1;32m    541\u001b[0m         \u001b[0;32mreturn\u001b[0m \u001b[0mout\u001b[0m\u001b[0;34m.\u001b[0m\u001b[0msqueeze\u001b[0m\u001b[0;34m(\u001b[0m\u001b[0;34m)\u001b[0m\u001b[0;34m\u001b[0m\u001b[0;34m\u001b[0m\u001b[0m\n",
      "\u001b[0;31mRuntimeError\u001b[0m: The Tensor returned by the function given to hessian should contain a single element"
     ]
    }
   ],
   "source": [
    "H = torch.autograd.functional.hessian(F_alpha, x, create_graph=False, strict=False)"
   ]
  },
  {
   "cell_type": "code",
   "execution_count": null,
   "metadata": {},
   "outputs": [],
   "source": [
    "def inverse():\n",
    "    ## cvxsolver (l-BFGS)\n",
    "    pass"
   ]
  },
  {
   "cell_type": "code",
   "execution_count": null,
   "metadata": {},
   "outputs": [],
   "source": [
    "def log_det():\n",
    "    ## use polynomial tchebyshev algo\n",
    "    pass"
   ]
  },
  {
   "cell_type": "code",
   "execution_count": null,
   "metadata": {},
   "outputs": [],
   "source": []
  },
  {
   "cell_type": "code",
   "execution_count": null,
   "metadata": {},
   "outputs": [],
   "source": []
  },
  {
   "cell_type": "markdown",
   "metadata": {
    "id": "6_bPwd_E3DJo"
   },
   "source": [
    "## Moons"
   ]
  },
  {
   "cell_type": "code",
   "execution_count": null,
   "metadata": {
    "id": "UB7S9dVm4tLF"
   },
   "outputs": [],
   "source": [
    "def train_moons(model, n_epochs=10001):\n",
    "    d = 2\n",
    "    base_distr = torch.distributions.multivariate_normal.MultivariateNormal(\n",
    "        torch.zeros(d,device=device),torch.eye(d,device=device))\n",
    "\n",
    "    train_loss = []\n",
    "\n",
    "    for i in range(n_epochs):\n",
    "        x, y = datasets.make_moons(128, noise=.1)\n",
    "        x = torch.tensor(x, dtype=torch.float32).to(device)\n",
    "\n",
    "        model.train()\n",
    "\n",
    "        z, log_det = model(x)\n",
    "        l = loss(z[-1],log_det)\n",
    "\n",
    "        l.backward()\n",
    "        optimizer.step()\n",
    "        optimizer.zero_grad()\n",
    "\n",
    "        train_loss.append(l.item())\n",
    "        \n",
    "        if i%100==0:\n",
    "            print(i,train_loss[-1])\n",
    "\n",
    "        if (i + 1) % 500 == 0:\n",
    "            model.eval()\n",
    "\n",
    "            xline = torch.linspace(-1.5, 2.5)\n",
    "            yline = torch.linspace(-.75, 1.25)\n",
    "            xgrid, ygrid = torch.meshgrid(xline, yline)\n",
    "            xyinput = torch.cat([xgrid.reshape(-1, 1), ygrid.reshape(-1, 1)], dim=1)\n",
    "\n",
    "            with torch.no_grad():\n",
    "                xy, log_s = model(xyinput.to(device))\n",
    "                zz = (log_likelihood(xy[-1],log_s)).exp().cpu()\n",
    "                zgrid = zz.reshape(100,100)\n",
    "\n",
    "\n",
    "                z = base_distr.sample((100,))\n",
    "                xs, _ = model.backward(z)\n",
    "                x = xs[-1].detach()\n",
    "                x = x.cpu().numpy()\n",
    "                z = z.cpu().numpy()\n",
    "\n",
    "            plt.contourf(xgrid.numpy(), ygrid.numpy(), zgrid.numpy())\n",
    "            plt.colorbar()\n",
    "            plt.scatter(x[:,0],x[:,1],c=\"red\")\n",
    "            plt.scatter(z[:,0],z[:,1],c=\"green\")\n",
    "            plt.xlim(-1.5,2.5)\n",
    "            plt.ylim(-0.75,1.25)\n",
    "            plt.title('iteration {}'.format(i + 1))\n",
    "            plt.show()\n",
    "            \n",
    "    return train_loss"
   ]
  },
  {
   "cell_type": "code",
   "execution_count": null,
   "metadata": {
    "id": "9SR-kNpO3G79"
   },
   "outputs": [],
   "source": [
    "def loss(h,log_det,d=2):\n",
    "    base_distr = torch.distributions.multivariate_normal.MultivariateNormal(\n",
    "        torch.zeros(d,device=device),torch.eye(d,device=device))\n",
    "\n",
    "    prior = base_distr.log_prob(h).mean()\n",
    "    return -(prior+log_det.mean())\n",
    "\n",
    "def log_likelihood(h,log_det,d=2):\n",
    "    base_distr = torch.distributions.multivariate_normal.MultivariateNormal(\n",
    "        torch.zeros(d,device=device),torch.eye(d,device=device))\n",
    "\n",
    "    prior = base_distr.log_prob(h)\n",
    "    return prior+log_det"
   ]
  },
  {
   "cell_type": "code",
   "execution_count": null,
   "metadata": {
    "colab": {
     "base_uri": "https://localhost:8080/"
    },
    "id": "W_kPZ1ao3G_1",
    "outputId": "d7bdef04-d54b-438e-f08a-552029f6b378"
   },
   "outputs": [],
   "source": [
    "d = 2\n",
    "\n",
    "shiftings = [shifting(d//2,64,d//2,3) for k in range(5)]\n",
    "scalings = [shifting(d//2,64,d//2,3) for k in range(5)]\n",
    "\n",
    "flows = []\n",
    "for i in range(5):\n",
    "    flows.append(AffineCoupling(scalings[i],shiftings[i],d))\n",
    "    flows.append(Reverse(d))\n",
    "\n",
    "model = NormalizingFlows(flows).to(device)\n",
    "\n",
    "optimizer = optim.Adam(model.parameters(), lr=1e-4, weight_decay=1e-5)\n",
    "print(\"number of params: \", sum(p.numel() for p in model.parameters()))"
   ]
  },
  {
   "cell_type": "code",
   "execution_count": null,
   "metadata": {
    "colab": {
     "base_uri": "https://localhost:8080/",
     "height": 1000
    },
    "id": "Vv-GjE1b3HDh",
    "outputId": "ee0e7058-3579-428f-bd72-47748da26b11"
   },
   "outputs": [],
   "source": [
    "train_loss = train_moons(model)"
   ]
  },
  {
   "cell_type": "code",
   "execution_count": null,
   "metadata": {
    "colab": {
     "base_uri": "https://localhost:8080/",
     "height": 265
    },
    "id": "YIB-e04C8rfa",
    "outputId": "eb0c32b3-8ef9-4e47-b50d-cf9aa1d99b24"
   },
   "outputs": [],
   "source": [
    "plt.plot(train_loss)\n",
    "plt.show()"
   ]
  },
  {
   "cell_type": "code",
   "execution_count": null,
   "metadata": {
    "colab": {
     "base_uri": "https://localhost:8080/"
    },
    "id": "0PQA-rKwEzXc",
    "outputId": "9753e2fc-51a8-4b1d-d949-bb24c69dc8cf"
   },
   "outputs": [],
   "source": [
    "d = 2\n",
    "\n",
    "shiftings = [shifting(d//2,64,d//2,3) for k in range(5)]\n",
    "scalings = [shifting(d//2,64,d//2,3) for k in range(5)]\n",
    "\n",
    "flows = []\n",
    "for i in range(5):\n",
    "    flows.append(AffineCoupling(scalings[i],shiftings[i],d))\n",
    "    flows.append(Reverse(d))\n",
    "    flows.append(BatchNorm(d))\n",
    "\n",
    "model = NormalizingFlows(flows).to(device)\n",
    "\n",
    "optimizer = optim.Adam(model.parameters(), lr=1e-4, weight_decay=1e-5)\n",
    "print(\"number of params: \", sum(p.numel() for p in model.parameters()))"
   ]
  },
  {
   "cell_type": "code",
   "execution_count": null,
   "metadata": {
    "colab": {
     "base_uri": "https://localhost:8080/",
     "height": 1000
    },
    "id": "4njthpunFcsj",
    "outputId": "4cd57403-b238-4191-a14b-5ad1c0fdaf96"
   },
   "outputs": [],
   "source": [
    "train_loss = train_moons(model)"
   ]
  },
  {
   "cell_type": "markdown",
   "metadata": {
    "id": "0Ng8ocPu3HZm"
   },
   "source": [
    "## MNIST"
   ]
  },
  {
   "cell_type": "code",
   "execution_count": null,
   "metadata": {
    "id": "ru7PmEX5FiMB"
   },
   "outputs": [],
   "source": [
    "def uniform_quantization(img):\n",
    "    return (img*255+torch.rand(img.size()))/256\n",
    "\n",
    "def rescale_logit(img,lambd=1e-6):\n",
    "    ## logit space\n",
    "    return torch.logit(lambd+(1-2*lambd)*img)"
   ]
  },
  {
   "cell_type": "code",
   "execution_count": null,
   "metadata": {
    "id": "gclID9jCFBSd"
   },
   "outputs": [],
   "source": [
    "transform = torchvision.transforms.Compose([\n",
    "                torchvision.transforms.ToTensor(),\n",
    "                uniform_quantization,\n",
    "                rescale_logit\n",
    "                # torchvision.transforms.Normalize((0.5,), (0.5,))\n",
    "    ])\n",
    "\n",
    "train_dataset = torchvision.datasets.MNIST(\n",
    "    root=\"~/torch_datasets\", train=True, transform=transform, download=True\n",
    ")\n",
    "\n",
    "test_dataset = torchvision.datasets.MNIST(\n",
    "    root=\"~/torch_datasets\", train=False, transform=transform, download=True\n",
    ")\n",
    "\n",
    "train_loader = torch.utils.data.DataLoader(\n",
    "    train_dataset, batch_size=128, shuffle=True, num_workers=4, pin_memory=True\n",
    ")\n",
    "\n",
    "test_loader = torch.utils.data.DataLoader(\n",
    "    test_dataset, batch_size=32, shuffle=False, num_workers=4\n",
    ")"
   ]
  },
  {
   "cell_type": "code",
   "execution_count": null,
   "metadata": {
    "colab": {
     "base_uri": "https://localhost:8080/",
     "height": 265
    },
    "id": "n1wFi0KqFCKh",
    "outputId": "4885d0cf-6a89-4ce4-fb4d-c79439cda5e2"
   },
   "outputs": [],
   "source": [
    "plt.imshow(train_dataset[0][0].reshape(28,28),\"gray\")\n",
    "plt.show()"
   ]
  },
  {
   "cell_type": "code",
   "execution_count": null,
   "metadata": {
    "id": "ckCArdhzXj1J"
   },
   "outputs": [],
   "source": [
    "def loss(h,log_det,d=784):\n",
    "    base_distr = torch.distributions.multivariate_normal.MultivariateNormal(\n",
    "        torch.zeros(d,device=device),torch.eye(d,device=device))\n",
    "\n",
    "    prior = base_distr.log_prob(h).mean()\n",
    "    return -(prior+log_det.mean())"
   ]
  },
  {
   "cell_type": "code",
   "execution_count": null,
   "metadata": {
    "id": "k0BnEbZqXoPc"
   },
   "outputs": [],
   "source": [
    "def log_likelihood(h,log_det,d=784):\n",
    "    base_distr = torch.distributions.multivariate_normal.MultivariateNormal(\n",
    "        torch.zeros(d,device=device),torch.eye(d,device=device))\n",
    "\n",
    "    prior = base_distr.log_prob(h)\n",
    "    return prior+log_det"
   ]
  },
  {
   "cell_type": "code",
   "execution_count": null,
   "metadata": {
    "id": "BBq9YszaXoXN"
   },
   "outputs": [],
   "source": [
    "def val():\n",
    "    d = 28*28\n",
    "    torch.manual_seed(42)\n",
    "    r,c = 5,5\n",
    "    z_random = torch.randn(r,c,d,device=device)\n",
    "    model.eval()\n",
    "    zs,log_det = model.backward(z_random.reshape(-1,28*28))\n",
    "    gen_imgs = zs[-1].view(-1,28,28)\n",
    "\n",
    "    cpt = 0\n",
    "    fig,ax = plt.subplots(r,c)\n",
    "    for i in range(r):\n",
    "        for j in range(c):\n",
    "            ax[i,j].imshow(gen_imgs.detach().cpu()[cpt],\"gray\")\n",
    "            cpt += 1\n",
    "    plt.show()"
   ]
  },
  {
   "cell_type": "code",
   "execution_count": null,
   "metadata": {
    "id": "LT37qaFgWIIZ"
   },
   "outputs": [],
   "source": [
    "d = 784\n",
    "\n",
    "## Add batch normalization?\n",
    "shiftings = [shifting(d//2,1024,d//2,1) for k in range(5)]\n",
    "scalings = [scaling(d//2,1024,d//2,1) for k in range(5)]\n",
    "\n",
    "flows = []\n",
    "for i in range(5):\n",
    "    flows.append(AffineCoupling(scalings[i],shiftings[i],d))\n",
    "    flows.append(Reverse(d))\n",
    "    flows.append(BatchNorm(d))\n",
    "    \n",
    "model = NormalizingFlows(flows).to(device)"
   ]
  },
  {
   "cell_type": "code",
   "execution_count": null,
   "metadata": {
    "colab": {
     "base_uri": "https://localhost:8080/"
    },
    "id": "X6SxDxCCXYGx",
    "outputId": "a05dcfed-a7db-490d-c6c4-04b78133b4c0"
   },
   "outputs": [],
   "source": [
    "optimizer = optim.Adam(model.parameters(), lr=1e-4, weight_decay=1e-5)\n",
    "print(\"number of params: \", sum(p.numel() for p in model.parameters()))"
   ]
  },
  {
   "cell_type": "code",
   "execution_count": null,
   "metadata": {
    "colab": {
     "base_uri": "https://localhost:8080/",
     "height": 1000
    },
    "id": "XIYGKuTJXYLS",
    "outputId": "f8748870-a690-43b6-eaf5-3f87323c631f"
   },
   "outputs": [],
   "source": [
    "num_epochs = 101\n",
    "\n",
    "train_losses = []\n",
    "test_losses = []\n",
    "\n",
    "for epoch in range(num_epochs):\n",
    "    model.train()\n",
    "\n",
    "    train_batch = []\n",
    "\n",
    "    for n_batch, (data,_) in enumerate(train_loader):\n",
    "        data = data.to(device)\n",
    "        data = data.view(-1,28*28)\n",
    "        z, log_det = model(data)\n",
    "\n",
    "        l = loss(z[-1], log_det)\n",
    "        l.backward()\n",
    "        optimizer.step()\n",
    "        optimizer.zero_grad()\n",
    "\n",
    "        train_batch.append(l.item())\n",
    "\n",
    "\n",
    "    print(epoch, np.mean(train_batch))\n",
    "    train_losses.append(np.mean(train_batch))\n",
    "\n",
    "    if epoch % 50 == 0:\n",
    "        val()\n"
   ]
  },
  {
   "cell_type": "code",
   "execution_count": null,
   "metadata": {
    "id": "m77aze1WxuAb"
   },
   "outputs": [],
   "source": [
    "test_batch = []\n",
    "\n",
    "model.eval()\n",
    "\n",
    "for n_batch, (data,_) in enumerate(test_loader):\n",
    "    data = data.to(device)\n",
    "    data = data.view(-1,28*28)\n",
    "    z, log_det = model(data)\n",
    "\n",
    "    l = log_likelihood(z[-1], log_det)\n",
    "\n",
    "    test_batch.append(l.mean().item())\n"
   ]
  },
  {
   "cell_type": "code",
   "execution_count": null,
   "metadata": {
    "colab": {
     "base_uri": "https://localhost:8080/"
    },
    "id": "qy0-NwgOXYO8",
    "outputId": "37abf752-865f-493c-acdd-55e623e6ca19"
   },
   "outputs": [],
   "source": [
    "# Compute the bits per dim (but irrelevant for binary data)\n",
    "log_likelihood = np.mean(test_batch)\n",
    "bpd = log_likelihood / (np.prod(784) * np.log(2.))\n",
    "print(bpd)"
   ]
  },
  {
   "cell_type": "code",
   "execution_count": null,
   "metadata": {
    "colab": {
     "base_uri": "https://localhost:8080/",
     "height": 269
    },
    "id": "I3kya5qPXYS3",
    "outputId": "fdf7389d-7af0-4d39-9e65-c582bf7c9985"
   },
   "outputs": [],
   "source": [
    "d = 28*28\n",
    "torch.manual_seed(42)\n",
    "r,c = 5,5\n",
    "z_random = torch.randn(r,c,d,device=device)\n",
    "model.eval()\n",
    "zs,log_det = model.backward(z_random.reshape(-1,28*28))\n",
    "gen_imgs = zs[-1].view(-1,28,28)\n",
    "gen_imgs = gen_imgs.detach().cpu()\n",
    "lambd = 1e-6\n",
    "gen_imgs = (torch.sigmoid(gen_imgs)-lambd)/(1-2*lambd)\n",
    "\n",
    "cpt = 0\n",
    "fig,ax = plt.subplots(r,c)\n",
    "for i in range(r):\n",
    "    for j in range(c):\n",
    "        ax[i,j].imshow(gen_imgs[cpt],\"gray\")\n",
    "        cpt += 1\n",
    "plt.show()"
   ]
  },
  {
   "cell_type": "markdown",
   "metadata": {
    "id": "HubkxpVT920n"
   },
   "source": [
    "## References\n",
    "\n",
    "<a id=\"reference1\"></a>\n",
    "\n",
    "[1] Dinh, L., Sohl-Dickstein, J., & Bengio, S. Density estimation using Real NVP. arXiv preprint arXiv:1605.08803. (2016). [link](https://arxiv.org/abs/1605.08803)"
   ]
  },
  {
   "cell_type": "code",
   "execution_count": null,
   "metadata": {},
   "outputs": [],
   "source": []
  }
 ],
 "metadata": {
  "accelerator": "GPU",
  "colab": {
   "collapsed_sections": [
    "6_bPwd_E3DJo"
   ],
   "name": "RealNVP.ipynb",
   "provenance": [],
   "toc_visible": true
  },
  "kernelspec": {
   "display_name": "Python 3",
   "language": "python",
   "name": "python3"
  },
  "language_info": {
   "codemirror_mode": {
    "name": "ipython",
    "version": 3
   },
   "file_extension": ".py",
   "mimetype": "text/x-python",
   "name": "python",
   "nbconvert_exporter": "python",
   "pygments_lexer": "ipython3",
   "version": "3.8.5"
  },
  "toc": {
   "base_numbering": 1,
   "nav_menu": {},
   "number_sections": true,
   "sideBar": true,
   "skip_h1_title": false,
   "title_cell": "Table of Contents",
   "title_sidebar": "Contents",
   "toc_cell": false,
   "toc_position": {},
   "toc_section_display": true,
   "toc_window_display": true
  }
 },
 "nbformat": 4,
 "nbformat_minor": 1
}
