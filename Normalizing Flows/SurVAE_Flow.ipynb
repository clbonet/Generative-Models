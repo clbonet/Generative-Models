{
 "cells": [
  {
   "cell_type": "markdown",
   "metadata": {
    "id": "ew66iEyY22dB"
   },
   "source": [
    "# <center>SurVAE Flow[1]</center>"
   ]
  },
  {
   "cell_type": "code",
   "execution_count": 1,
   "metadata": {
    "id": "Ux3a7C9kE3WA"
   },
   "outputs": [],
   "source": [
    "import torch\n",
    "import torch.optim as optim\n",
    "import torch.nn as nn\n",
    "import torch.nn.functional as F\n",
    "\n",
    "import torchvision\n",
    "\n",
    "import matplotlib.pyplot as plt\n",
    "import numpy as np\n",
    "\n",
    "from utils.NF_base import *\n",
    "from utils.training_moons import *\n",
    "from utils.training_mnist import *\n",
    "from utils.training_dataloader_2d import *"
   ]
  },
  {
   "cell_type": "code",
   "execution_count": 2,
   "metadata": {
    "id": "k2D-m3olFAGS"
   },
   "outputs": [],
   "source": [
    "device = \"cuda\" if torch.cuda.is_available() else \"cpu\""
   ]
  },
  {
   "cell_type": "code",
   "execution_count": 3,
   "metadata": {
    "id": "9Wwv4nF85ulD"
   },
   "outputs": [],
   "source": [
    "class shifting(nn.Module):\n",
    "    def __init__(self, d_in, nh, d_out, n_layers):\n",
    "        super().__init__()\n",
    "        self.layers = nn.ModuleList()\n",
    "        self.layers.append(nn.Linear(d_in,nh))\n",
    "        for i in range(n_layers):\n",
    "            self.layers.append(nn.Linear(nh,nh))\n",
    "        self.layers.append(nn.Linear(nh,d_out))\n",
    "\n",
    "    def forward(self, x):\n",
    "        for layer in self.layers:\n",
    "            x = F.leaky_relu(layer(x),0.2)\n",
    "        return x\n",
    "\n",
    "class scaling(nn.Module):\n",
    "    def __init__(self, d_in, nh, d_out, n_layers):\n",
    "        super().__init__()\n",
    "        self.layers = nn.ModuleList()\n",
    "        self.layers.append(nn.Linear(d_in,nh))\n",
    "        for i in range(n_layers):\n",
    "            self.layers.append(nn.Linear(nh,nh))\n",
    "        self.layers.append(nn.Linear(nh,d_out))\n",
    "\n",
    "    def forward(self, x):\n",
    "        for layer in self.layers:\n",
    "            x = torch.tanh(layer(x))\n",
    "        return x\n",
    "\n",
    "class Mlp(nn.Module):\n",
    "    def __init__(self, d_in, nh, d_out, n_layers):\n",
    "        super().__init__()\n",
    "        self.layers = nn.ModuleList()\n",
    "        self.layers.append(nn.Linear(d_in,nh))\n",
    "        for i in range(n_layers):\n",
    "            self.layers.append(nn.Linear(nh,nh))\n",
    "        self.layers.append(nn.Linear(nh,d_out))\n",
    "\n",
    "    def forward(self, x):\n",
    "        for layer in self.layers:\n",
    "            x = torch.relu(layer(x))\n",
    "        return x"
   ]
  },
  {
   "cell_type": "markdown",
   "metadata": {
    "id": "Ve3t8Cqj8h9U"
   },
   "source": [
    "**SurVAE Flows:**\n",
    "\n",
    "Framework:\n",
    "\\begin{equation*}\n",
    "    \\log p_X(x) \\approx \\log p_Z(z)+\\nu(x,z)+\\mathcal{E}(x,z)\\text{, } z\\sim q(\\cdot|x)\n",
    "\\end{equation*}\n",
    "with $\\nu$ is the likelihood contribution and $\\mathcal{E}$ is the bound loseness.\n",
    "\n",
    "- For normalizing flows, $\\mathcal{E}(x,z)=0$ and $\\nu(x,z)=-\\log\\det J_T(z)$.\n",
    "- For VAE, $\\mathcal{E}(x,z)=\\mathrm{KL}(q(\\cdot|x)||p(\\cdot|x))$ and $\\nu(x,z)=\\log\\Big(\\frac{p(x|z)}{q(x|z)}\\Big)$.\n",
    "\n",
    "Therefore, this framework can handle bijections (NF), stochastic layers (e.g. VAE), but also injective or surjective layers.\n",
    "\n",
    "| Transformation   | Forward         | Inverse         | $\\nu(x,z)$                    | $\\mathcal{E}(x,z)$            |\n",
    "|------------------|-----------------|-----------------|-------------------------------|-------------------------------|\n",
    "| Bijective        | $x=f(z)$        | $z=f^{-1}(x)$   | $-\\log|\\det J_f(z)|$        | $0$                           |\n",
    "| Stochastic       | $x\\sim p(x|z)$ | $z\\sim q(z|x)$ | $\\log\\frac{p(x|z)}{q(z|x)}$ | $\\log\\frac{q(z|x)}{p(x|z)}$ |\n",
    "| Surjective (gen) | $x=f(z)$        | $z\\sim q(z|x)$ | $\\log\\frac{p(x|z)}{q(z|x)}$ | $\\log\\frac{q(z|x)}{p(x|z)}$ |\n",
    "| Surjective (inf) | $x\\sim p(x|z)$ | $z=f^{-1}(x)$   | $\\log\\frac{p(x|z)}{q(z|x)}$ | $0$                           |\n",
    "\n",
    "\n",
    "\n",
    "Example of surjective layers:\n",
    "- Abs flow: \n",
    "    - Forward transformation: $x=|z|=\\mathrm{sign}(z)z$\n",
    "    - Backward transformation: $s\\sim q(s|x),\\ z=sx$\n",
    "    - $\\nu(x,z) \\approx -\\log q(s|x)$\n",
    "Indeed, we can use an Elbo involving $s$ by computing:\n",
    "\\begin{align*}\n",
    "    \\log p_X(x) &\\ge \\int\\int \\log\\Big(\\frac{p_X(x,z,s)}{q(z,s|x)}\\Big)q(z,s|x)\\ \\mathrm{d}z\\ \\nu{d}s \\\\\n",
    "    &= \\mathbb{E}_{q(z,s|x)}[\\log p_Z(z)+\\log p(s|z)+\\log p(x|s,z) - \\log q(z|s,x)-\\log q(s|x)] \\\\\n",
    "    &\\approx \\log p_Z(z) + \\log\\Big(\\frac{p(x|z,s)p(s|z)}{q(z|x,s)q(s|x)}\\Big)\n",
    "\\end{align*}\n",
    "We have $p(x|z,s)=\\delta(x-zs)$, $p(s|z)=\\delta(s-\\mathrm{sign}(z))$, $q(z|x,s)=\\delta(z-xs)$.  Moreover, $x=zs \\iff sx=zs^2 \\iff z=sx$ as $s\\in\\{-1,1\\}$, so $\\delta(x-zs)=\\delta(z-xs)$. Thus, $\\nu(x,z)=-\\log q(s|x)$. \n",
    "In practice, we can train $q(s|x)$ or simply take it as $q(s|x)=\\frac12$. This transformation can be useful in the case when there is a symmetric dataset as it can be seen to fold the input space across the origin.\n"
   ]
  },
  {
   "cell_type": "code",
   "execution_count": 4,
   "metadata": {
    "id": "VSc85nfVAgvG"
   },
   "outputs": [],
   "source": [
    "class AbsFlow(BaseNormalizingFlow):\n",
    "    def __init__(self, dim):\n",
    "        super().__init__()\n",
    "        self.d = dim\n",
    "        \n",
    "    def forward(self, x):\n",
    "        z = torch.abs(x) \n",
    "        likelihood_contrib = -self.d*np.log(2)*torch.ones(x.size(0),device=device)\n",
    "        return z, likelihood_contrib\n",
    "    \n",
    "    def backward(self, z):\n",
    "        s = torch.bernoulli(0.5*torch.ones(z.size(),device=device))\n",
    "        x = (2*s-1)*z\n",
    "        return x\n",
    "        \n",
    "        \n",
    "class SoftplusInverse(BaseNormalizingFlow):\n",
    "    \"\"\"\n",
    "        https://github.com/didriknielsen/survae_flows/blob/271a31d11cf00fad83270a9f699ff68a03da44ab/survae/transforms/bijections/elementwise_nonlinear.py#L131\n",
    "    \"\"\"\n",
    "    def __init__(self, eps=1e-7):\n",
    "        super().__init__()\n",
    "        self.eps = eps\n",
    "\n",
    "    def forward(self, x):\n",
    "        \"\"\"\n",
    "        z = softplus_inv(x) = log(exp(x)-1) = x + log(1-exp(-x))\n",
    "        \n",
    "        ldj = log(dsoftplus_inv(x)/dx)\n",
    "            = log(exp(x)/(exp(x)-1))\n",
    "            = log(1/(1-exp(-x)))\n",
    "            = -log(1-exp(-x))\n",
    "        \"\"\"\n",
    "        xc = x.clamp(self.eps)\n",
    "        z = xc + torch.log1p(-torch.exp(-xc))\n",
    "        ldj = -torch.log1p(-torch.exp(-xc)).sum(-1)\n",
    "        return z, ldj\n",
    "\n",
    "    def backward(self, z):\n",
    "        \"\"\"\n",
    "            x = softplus(z) = log(1+exp(z))\n",
    "        \"\"\"\n",
    "        return F.softplus(z)"
   ]
  },
  {
   "cell_type": "markdown",
   "metadata": {
    "id": "0vLtRaY5AgvJ"
   },
   "source": [
    "## 8 Gaussians"
   ]
  },
  {
   "cell_type": "code",
   "execution_count": 5,
   "metadata": {
    "id": "US5KqmjlAgvJ"
   },
   "outputs": [],
   "source": [
    "def create_gaussians(num_points):\n",
    "    \"\"\"\n",
    "        Adapted from https://github.com/rtqichen/ffjord/blob/master/lib/toy_data.py\n",
    "    \"\"\"\n",
    "    scale = 4.\n",
    "    bias = np.pi / 8\n",
    "    step = np.pi / 4\n",
    "    centers = [(np.cos(bias + 0*step), np.sin(bias + 0*step)),\n",
    "               (np.cos(bias + 1*step), np.sin(bias + 1*step)),\n",
    "               (np.cos(bias + 2*step), np.sin(bias + 2*step)),\n",
    "               (np.cos(bias + 3*step), np.sin(bias + 3*step)),\n",
    "               (np.cos(bias + 4*step), np.sin(bias + 4*step)),\n",
    "               (np.cos(bias + 5*step), np.sin(bias + 5*step)),\n",
    "               (np.cos(bias + 6*step), np.sin(bias + 6*step)),\n",
    "               (np.cos(bias + 7*step), np.sin(bias + 7*step))]\n",
    "    centers = [(scale * x, scale * y) for x, y in centers]\n",
    "\n",
    "    dataset = []\n",
    "    for i in range(num_points):\n",
    "        point = np.random.randn(2) * 0.5\n",
    "        idx = np.random.randint(8)\n",
    "        center = centers[idx]\n",
    "        point[0] += center[0]\n",
    "        point[1] += center[1]\n",
    "        dataset.append(point)\n",
    "    dataset = np.array(dataset, dtype=\"float32\")\n",
    "    dataset /= 1.414\n",
    "    return torch.from_numpy(dataset)"
   ]
  },
  {
   "cell_type": "code",
   "execution_count": 6,
   "metadata": {
    "id": "JqC7W429AgvL"
   },
   "outputs": [],
   "source": [
    "X = create_gaussians(1000)"
   ]
  },
  {
   "cell_type": "code",
   "execution_count": 7,
   "metadata": {
    "colab": {
     "base_uri": "https://localhost:8080/",
     "height": 265
    },
    "id": "_53qgULlAgvM",
    "outputId": "2a3f8747-ae3f-4665-cdeb-194ab626a8d3"
   },
   "outputs": [
    {
     "data": {
      "image/png": "[encoded data removed]",
      "text/plain": [
       "<Figure size 432x288 with 1 Axes>"
      ]
     },
     "metadata": {
      "needs_background": "light",
      "tags": []
     },
     "output_type": "display_data"
    }
   ],
   "source": [
    "Xnp = X.numpy()\n",
    "plt.scatter(Xnp[:,0],Xnp[:,1])\n",
    "plt.show()"
   ]
  },
  {
   "cell_type": "code",
   "execution_count": 9,
   "metadata": {
    "id": "u1tsjLZEAgvT"
   },
   "outputs": [],
   "source": [
    "train_set = create_gaussians(128000)\n",
    "test_set = create_gaussians(128000)"
   ]
  },
  {
   "cell_type": "code",
   "execution_count": 10,
   "metadata": {
    "id": "yZL_ZmH4AgvU"
   },
   "outputs": [],
   "source": [
    "batch_size = 128\n",
    "train_loader = torch.utils.data.DataLoader(train_set, batch_size=batch_size, shuffle=True)\n",
    "test_loader = torch.utils.data.DataLoader(test_set, batch_size=batch_size, shuffle=False)"
   ]
  },
  {
   "cell_type": "markdown",
   "metadata": {
    "id": "FCdy9HtuAgvX"
   },
   "source": [
    "### AbsFlow"
   ]
  },
  {
   "cell_type": "code",
   "execution_count": 11,
   "metadata": {
    "colab": {
     "base_uri": "https://localhost:8080/"
    },
    "id": "a69RavDjAgvX",
    "outputId": "0fcd7c50-2929-4a87-fc7c-f5d5d8735d33"
   },
   "outputs": [
    {
     "name": "stdout",
     "output_type": "stream",
     "text": [
      "number of params:  101384\n"
     ]
    }
   ],
   "source": [
    "d = 2\n",
    "\n",
    "shiftings = [shifting(d//2,64,d//2,3) for k in range(5)]\n",
    "scalings = [scaling(d//2,64,d//2,3) for k in range(5)]\n",
    "\n",
    "flows = []\n",
    "flows.append(AbsFlow(d))\n",
    "flows.append(SoftplusInverse())\n",
    "for i in range(4):\n",
    "    flows.append(AffineCoupling(scalings[i],shiftings[i],d))\n",
    "    flows.append(Reverse(d))\n",
    "\n",
    "model = NormalizingFlows(flows).to(device)\n",
    "\n",
    "optimizer = optim.Adam(model.parameters(), lr=1e-4, weight_decay=1e-5)\n",
    "print(\"number of params: \", sum(p.numel() for p in model.parameters()))"
   ]
  },
  {
   "cell_type": "code",
   "execution_count": 12,
   "metadata": {
    "colab": {
     "base_uri": "https://localhost:8080/",
     "height": 909,
     "referenced_widgets": [
      "4a3cae2c28814ce1acc85f907229b2da",
      "0fd012962bcd4348a9c5af35f24097f9",
      "2f3f771d443549a486c2343dac259950",
      "accfd76b270045f5afa39704faa6e58e",
      "6eacd957f1c2496b94eabaada1c3a69e",
      "de42f88fd8b94612ae6994efa381d856",
      "6e456f560a814ef69d35bce2ecbbbea2",
      "03585b9682c04898abfd5c3e4f7a8217"
     ]
    },
    "id": "ggT2p8hIAgvY",
    "outputId": "77bd2ddc-7e39-4792-85c0-97e3269c29a8"
   },
   "outputs": [
    {
     "data": {
      "application/vnd.jupyter.widget-view+json": {
       "model_id": "4a3cae2c28814ce1acc85f907229b2da",
       "version_major": 2,
       "version_minor": 0
      },
      "text/plain": [
       "HBox(children=(FloatProgress(value=0.0, max=11.0), HTML(value='')))"
      ]
     },
     "metadata": {
      "tags": []
     },
     "output_type": "display_data"
    },
    {
     "name": "stdout",
     "output_type": "stream",
     "text": [
      "0 2.9874599134922026\n"
     ]
    },
    {
     "data": {
      "image/png": "[encoded data removed]",
      "text/plain": [
       "<Figure size 432x288 with 2 Axes>"
      ]
     },
     "metadata": {
      "needs_background": "light",
      "tags": []
     },
     "output_type": "display_data"
    },
    {
     "name": "stdout",
     "output_type": "stream",
     "text": [
      "5 2.8875533366203308\n"
     ]
    },
    {
     "data": {
      "image/png": "[encoded data removed]",
      "text/plain": [
       "<Figure size 432x288 with 2 Axes>"
      ]
     },
     "metadata": {
      "needs_background": "light",
      "tags": []
     },
     "output_type": "display_data"
    },
    {
     "name": "stdout",
     "output_type": "stream",
     "text": [
      "10 2.885290849685669\n"
     ]
    },
    {
     "data": {
      "image/png": "[encoded data removed]",
      "text/plain": [
       "<Figure size 432x288 with 2 Axes>"
      ]
     },
     "metadata": {
      "needs_background": "light",
      "tags": []
     },
     "output_type": "display_data"
    },
    {
     "name": "stdout",
     "output_type": "stream",
     "text": [
      "\n"
     ]
    }
   ],
   "source": [
    "train_loss = train_dataloader(model,optimizer,train_loader,test_loader,n_epochs=11)"
   ]
  },
  {
   "cell_type": "code",
   "execution_count": 13,
   "metadata": {
    "colab": {
     "base_uri": "https://localhost:8080/",
     "height": 265
    },
    "id": "AzJkQa2ADs1b",
    "outputId": "fc58107d-88d2-4b90-f4b7-4e661d902b4c"
   },
   "outputs": [
    {
     "data": {
      "image/png": "[encoded data removed]",
      "text/plain": [
       "<Figure size 432x288 with 1 Axes>"
      ]
     },
     "metadata": {
      "needs_background": "light",
      "tags": []
     },
     "output_type": "display_data"
    }
   ],
   "source": [
    "plt.plot(train_loss)\n",
    "plt.show()"
   ]
  },
  {
   "cell_type": "markdown",
   "metadata": {
    "id": "dYLuAnv_AgvZ"
   },
   "source": [
    "### Baseline"
   ]
  },
  {
   "cell_type": "code",
   "execution_count": 14,
   "metadata": {
    "colab": {
     "base_uri": "https://localhost:8080/"
    },
    "id": "u6ZIAdmIAgva",
    "outputId": "0fab343c-07b4-4596-d5bc-a237e59c7963"
   },
   "outputs": [
    {
     "name": "stdout",
     "output_type": "stream",
     "text": [
      "number of params:  101384\n"
     ]
    }
   ],
   "source": [
    "d = 2\n",
    "\n",
    "shiftings = [shifting(d//2,64,d//2,3) for k in range(5)]\n",
    "scalings = [shifting(d//2,64,d//2,3) for k in range(5)]\n",
    "\n",
    "flows = []\n",
    "for i in range(4):\n",
    "    flows.append(AffineCoupling(scalings[i],shiftings[i],d))\n",
    "    flows.append(Reverse(d))\n",
    "\n",
    "model = NormalizingFlows(flows).to(device)\n",
    "\n",
    "optimizer = optim.Adam(model.parameters(), lr=1e-4, weight_decay=1e-5)\n",
    "print(\"number of params: \", sum(p.numel() for p in model.parameters()))"
   ]
  },
  {
   "cell_type": "code",
   "execution_count": 15,
   "metadata": {
    "colab": {
     "base_uri": "https://localhost:8080/",
     "height": 909,
     "referenced_widgets": [
      "c61844b2cb494ab69ab2c48f7246a193",
      "1cc3aa43484c4fc791de5dbf844225cb",
      "a692e79fda4c477fba85743240277698",
      "df6cd9f071c0499f9cc60e9622c23a96",
      "aa8139a0aa9b41879b9f0b3297900ca3",
      "54b3f251bd5a4917bc0c06dd9077ef4e",
      "ec2880ee25d54992aaf9ee43a1c2e885",
      "e534b045896248ad9cf4d75b3b2ef4cc"
     ]
    },
    "id": "CqBO4IpNAgvb",
    "outputId": "01c5bf7c-4123-4456-d714-a308167f0157"
   },
   "outputs": [
    {
     "data": {
      "application/vnd.jupyter.widget-view+json": {
       "model_id": "c61844b2cb494ab69ab2c48f7246a193",
       "version_major": 2,
       "version_minor": 0
      },
      "text/plain": [
       "HBox(children=(FloatProgress(value=0.0, max=11.0), HTML(value='')))"
      ]
     },
     "metadata": {
      "tags": []
     },
     "output_type": "display_data"
    },
    {
     "name": "stdout",
     "output_type": "stream",
     "text": [
      "0 3.4556759638786314\n"
     ]
    },
    {
     "data": {
      "image/png": "[encoded data removed]",
      "text/plain": [
       "<Figure size 432x288 with 2 Axes>"
      ]
     },
     "metadata": {
      "needs_background": "light",
      "tags": []
     },
     "output_type": "display_data"
    },
    {
     "name": "stdout",
     "output_type": "stream",
     "text": [
      "5 3.3492541728019716\n"
     ]
    },
    {
     "data": {
      "image/png": "[encoded data removed]",
      "text/plain": [
       "<Figure size 432x288 with 2 Axes>"
      ]
     },
     "metadata": {
      "needs_background": "light",
      "tags": []
     },
     "output_type": "display_data"
    },
    {
     "name": "stdout",
     "output_type": "stream",
     "text": [
      "10 3.105405573129654\n"
     ]
    },
    {
     "data": {
      "image/png": "[encoded data removed]",
      "text/plain": [
       "<Figure size 432x288 with 2 Axes>"
      ]
     },
     "metadata": {
      "needs_background": "light",
      "tags": []
     },
     "output_type": "display_data"
    },
    {
     "name": "stdout",
     "output_type": "stream",
     "text": [
      "\n"
     ]
    }
   ],
   "source": [
    "train_loss = train_dataloader(model,optimizer,train_loader,test_loader,n_epochs=11)"
   ]
  },
  {
   "cell_type": "code",
   "execution_count": 16,
   "metadata": {
    "colab": {
     "base_uri": "https://localhost:8080/",
     "height": 265
    },
    "id": "uv_WEdWJAgvc",
    "outputId": "0749ae75-9b38-4652-ad4a-bf21e55ef258"
   },
   "outputs": [
    {
     "data": {
      "image/png": "[encoded data removed]",
      "text/plain": [
       "<Figure size 432x288 with 1 Axes>"
      ]
     },
     "metadata": {
      "needs_background": "light",
      "tags": []
     },
     "output_type": "display_data"
    }
   ],
   "source": [
    "plt.plot(train_loss)\n",
    "plt.show()"
   ]
  },
  {
   "cell_type": "markdown",
   "metadata": {
    "id": "HubkxpVT920n"
   },
   "source": [
    "## References\n",
    "\n",
    "<a id=\"reference1\"></a>\n",
    "\n",
    "[1] Nielsen, D., Jaini, P., Hoogeboom, E., Winher, O., & Welling, M. SurVAE Flows: Surjections to Bridge the Gap between VAEs and Flows. arXiv preprint arXiv:2007.02731. (2020). [link](https://arxiv.org/abs/2007.02731)"
   ]
  },
  {
   "cell_type": "code",
   "execution_count": null,
   "metadata": {
    "id": "SCO3XxKyvwcd"
   },
   "outputs": [],
   "source": []
  }
 ],
 "metadata": {
  "accelerator": "GPU",
  "colab": {
   "collapsed_sections": [],
   "name": "SurVAE Flow.ipynb",
   "provenance": [],
   "toc_visible": true
  },
  "kernelspec": {
   "display_name": "Python 3",
   "language": "python",
   "name": "python3"
  },
  "language_info": {
   "codemirror_mode": {
    "name": "ipython",
    "version": 3
   },
   "file_extension": ".py",
   "mimetype": "text/x-python",
   "name": "python",
   "nbconvert_exporter": "python",
   "pygments_lexer": "ipython3",
   "version": "3.7.9"
  },
  "toc": {
   "base_numbering": 1,
   "nav_menu": {},
   "number_sections": true,
   "sideBar": true,
   "skip_h1_title": false,
   "title_cell": "Table of Contents",
   "title_sidebar": "Contents",
   "toc_cell": false,
   "toc_position": {},
   "toc_section_display": true,
   "toc_window_display": true
  },
  "widgets": {
   "application/vnd.jupyter.widget-state+json": {
    "03585b9682c04898abfd5c3e4f7a8217": {
     "model_module": "@jupyter-widgets/base",
     "model_name": "LayoutModel",
     "state": {
      "_model_module": "@jupyter-widgets/base",
      "_model_module_version": "1.2.0",
      "_model_name": "LayoutModel",
      "_view_count": null,
      "_view_module": "@jupyter-widgets/base",
      "_view_module_version": "1.2.0",
      "_view_name": "LayoutView",
      "align_content": null,
      "align_items": null,
      "align_self": null,
      "border": null,
      "bottom": null,
      "display": null,
      "flex": null,
      "flex_flow": null,
      "grid_area": null,
      "grid_auto_columns": null,
      "grid_auto_flow": null,
      "grid_auto_rows": null,
      "grid_column": null,
      "grid_gap": null,
      "grid_row": null,
      "grid_template_areas": null,
      "grid_template_columns": null,
      "grid_template_rows": null,
      "height": null,
      "justify_content": null,
      "justify_items": null,
      "left": null,
      "margin": null,
      "max_height": null,
      "max_width": null,
      "min_height": null,
      "min_width": null,
      "object_fit": null,
      "object_position": null,
      "order": null,
      "overflow": null,
      "overflow_x": null,
      "overflow_y": null,
      "padding": null,
      "right": null,
      "top": null,
      "visibility": null,
      "width": null
     }
    },
    "0fd012962bcd4348a9c5af35f24097f9": {
     "model_module": "@jupyter-widgets/base",
     "model_name": "LayoutModel",
     "state": {
      "_model_module": "@jupyter-widgets/base",
      "_model_module_version": "1.2.0",
      "_model_name": "LayoutModel",
      "_view_count": null,
      "_view_module": "@jupyter-widgets/base",
      "_view_module_version": "1.2.0",
      "_view_name": "LayoutView",
      "align_content": null,
      "align_items": null,
      "align_self": null,
      "border": null,
      "bottom": null,
      "display": null,
      "flex": null,
      "flex_flow": null,
      "grid_area": null,
      "grid_auto_columns": null,
      "grid_auto_flow": null,
      "grid_auto_rows": null,
      "grid_column": null,
      "grid_gap": null,
      "grid_row": null,
      "grid_template_areas": null,
      "grid_template_columns": null,
      "grid_template_rows": null,
      "height": null,
      "justify_content": null,
      "justify_items": null,
      "left": null,
      "margin": null,
      "max_height": null,
      "max_width": null,
      "min_height": null,
      "min_width": null,
      "object_fit": null,
      "object_position": null,
      "order": null,
      "overflow": null,
      "overflow_x": null,
      "overflow_y": null,
      "padding": null,
      "right": null,
      "top": null,
      "visibility": null,
      "width": null
     }
    },
    "1cc3aa43484c4fc791de5dbf844225cb": {
     "model_module": "@jupyter-widgets/base",
     "model_name": "LayoutModel",
     "state": {
      "_model_module": "@jupyter-widgets/base",
      "_model_module_version": "1.2.0",
      "_model_name": "LayoutModel",
      "_view_count": null,
      "_view_module": "@jupyter-widgets/base",
      "_view_module_version": "1.2.0",
      "_view_name": "LayoutView",
      "align_content": null,
      "align_items": null,
      "align_self": null,
      "border": null,
      "bottom": null,
      "display": null,
      "flex": null,
      "flex_flow": null,
      "grid_area": null,
      "grid_auto_columns": null,
      "grid_auto_flow": null,
      "grid_auto_rows": null,
      "grid_column": null,
      "grid_gap": null,
      "grid_row": null,
      "grid_template_areas": null,
      "grid_template_columns": null,
      "grid_template_rows": null,
      "height": null,
      "justify_content": null,
      "justify_items": null,
      "left": null,
      "margin": null,
      "max_height": null,
      "max_width": null,
      "min_height": null,
      "min_width": null,
      "object_fit": null,
      "object_position": null,
      "order": null,
      "overflow": null,
      "overflow_x": null,
      "overflow_y": null,
      "padding": null,
      "right": null,
      "top": null,
      "visibility": null,
      "width": null
     }
    },
    "2f3f771d443549a486c2343dac259950": {
     "model_module": "@jupyter-widgets/controls",
     "model_name": "FloatProgressModel",
     "state": {
      "_dom_classes": [],
      "_model_module": "@jupyter-widgets/controls",
      "_model_module_version": "1.5.0",
      "_model_name": "FloatProgressModel",
      "_view_count": null,
      "_view_module": "@jupyter-widgets/controls",
      "_view_module_version": "1.5.0",
      "_view_name": "ProgressView",
      "bar_style": "success",
      "description": "100%",
      "description_tooltip": null,
      "layout": "IPY_MODEL_de42f88fd8b94612ae6994efa381d856",
      "max": 11,
      "min": 0,
      "orientation": "horizontal",
      "style": "IPY_MODEL_6eacd957f1c2496b94eabaada1c3a69e",
      "value": 11
     }
    },
    "4a3cae2c28814ce1acc85f907229b2da": {
     "model_module": "@jupyter-widgets/controls",
     "model_name": "HBoxModel",
     "state": {
      "_dom_classes": [],
      "_model_module": "@jupyter-widgets/controls",
      "_model_module_version": "1.5.0",
      "_model_name": "HBoxModel",
      "_view_count": null,
      "_view_module": "@jupyter-widgets/controls",
      "_view_module_version": "1.5.0",
      "_view_name": "HBoxView",
      "box_style": "",
      "children": [
       "IPY_MODEL_2f3f771d443549a486c2343dac259950",
       "IPY_MODEL_accfd76b270045f5afa39704faa6e58e"
      ],
      "layout": "IPY_MODEL_0fd012962bcd4348a9c5af35f24097f9"
     }
    },
    "54b3f251bd5a4917bc0c06dd9077ef4e": {
     "model_module": "@jupyter-widgets/base",
     "model_name": "LayoutModel",
     "state": {
      "_model_module": "@jupyter-widgets/base",
      "_model_module_version": "1.2.0",
      "_model_name": "LayoutModel",
      "_view_count": null,
      "_view_module": "@jupyter-widgets/base",
      "_view_module_version": "1.2.0",
      "_view_name": "LayoutView",
      "align_content": null,
      "align_items": null,
      "align_self": null,
      "border": null,
      "bottom": null,
      "display": null,
      "flex": null,
      "flex_flow": null,
      "grid_area": null,
      "grid_auto_columns": null,
      "grid_auto_flow": null,
      "grid_auto_rows": null,
      "grid_column": null,
      "grid_gap": null,
      "grid_row": null,
      "grid_template_areas": null,
      "grid_template_columns": null,
      "grid_template_rows": null,
      "height": null,
      "justify_content": null,
      "justify_items": null,
      "left": null,
      "margin": null,
      "max_height": null,
      "max_width": null,
      "min_height": null,
      "min_width": null,
      "object_fit": null,
      "object_position": null,
      "order": null,
      "overflow": null,
      "overflow_x": null,
      "overflow_y": null,
      "padding": null,
      "right": null,
      "top": null,
      "visibility": null,
      "width": null
     }
    },
    "6e456f560a814ef69d35bce2ecbbbea2": {
     "model_module": "@jupyter-widgets/controls",
     "model_name": "DescriptionStyleModel",
     "state": {
      "_model_module": "@jupyter-widgets/controls",
      "_model_module_version": "1.5.0",
      "_model_name": "DescriptionStyleModel",
      "_view_count": null,
      "_view_module": "@jupyter-widgets/base",
      "_view_module_version": "1.2.0",
      "_view_name": "StyleView",
      "description_width": ""
     }
    },
    "6eacd957f1c2496b94eabaada1c3a69e": {
     "model_module": "@jupyter-widgets/controls",
     "model_name": "ProgressStyleModel",
     "state": {
      "_model_module": "@jupyter-widgets/controls",
      "_model_module_version": "1.5.0",
      "_model_name": "ProgressStyleModel",
      "_view_count": null,
      "_view_module": "@jupyter-widgets/base",
      "_view_module_version": "1.2.0",
      "_view_name": "StyleView",
      "bar_color": null,
      "description_width": "initial"
     }
    },
    "a692e79fda4c477fba85743240277698": {
     "model_module": "@jupyter-widgets/controls",
     "model_name": "FloatProgressModel",
     "state": {
      "_dom_classes": [],
      "_model_module": "@jupyter-widgets/controls",
      "_model_module_version": "1.5.0",
      "_model_name": "FloatProgressModel",
      "_view_count": null,
      "_view_module": "@jupyter-widgets/controls",
      "_view_module_version": "1.5.0",
      "_view_name": "ProgressView",
      "bar_style": "success",
      "description": "100%",
      "description_tooltip": null,
      "layout": "IPY_MODEL_54b3f251bd5a4917bc0c06dd9077ef4e",
      "max": 11,
      "min": 0,
      "orientation": "horizontal",
      "style": "IPY_MODEL_aa8139a0aa9b41879b9f0b3297900ca3",
      "value": 11
     }
    },
    "aa8139a0aa9b41879b9f0b3297900ca3": {
     "model_module": "@jupyter-widgets/controls",
     "model_name": "ProgressStyleModel",
     "state": {
      "_model_module": "@jupyter-widgets/controls",
      "_model_module_version": "1.5.0",
      "_model_name": "ProgressStyleModel",
      "_view_count": null,
      "_view_module": "@jupyter-widgets/base",
      "_view_module_version": "1.2.0",
      "_view_name": "StyleView",
      "bar_color": null,
      "description_width": "initial"
     }
    },
    "accfd76b270045f5afa39704faa6e58e": {
     "model_module": "@jupyter-widgets/controls",
     "model_name": "HTMLModel",
     "state": {
      "_dom_classes": [],
      "_model_module": "@jupyter-widgets/controls",
      "_model_module_version": "1.5.0",
      "_model_name": "HTMLModel",
      "_view_count": null,
      "_view_module": "@jupyter-widgets/controls",
      "_view_module_version": "1.5.0",
      "_view_name": "HTMLView",
      "description": "",
      "description_tooltip": null,
      "layout": "IPY_MODEL_03585b9682c04898abfd5c3e4f7a8217",
      "placeholder": "​",
      "style": "IPY_MODEL_6e456f560a814ef69d35bce2ecbbbea2",
      "value": " 11/11 [08:26&lt;00:00, 46.09s/it, loss = 2.888]"
     }
    },
    "c61844b2cb494ab69ab2c48f7246a193": {
     "model_module": "@jupyter-widgets/controls",
     "model_name": "HBoxModel",
     "state": {
      "_dom_classes": [],
      "_model_module": "@jupyter-widgets/controls",
      "_model_module_version": "1.5.0",
      "_model_name": "HBoxModel",
      "_view_count": null,
      "_view_module": "@jupyter-widgets/controls",
      "_view_module_version": "1.5.0",
      "_view_name": "HBoxView",
      "box_style": "",
      "children": [
       "IPY_MODEL_a692e79fda4c477fba85743240277698",
       "IPY_MODEL_df6cd9f071c0499f9cc60e9622c23a96"
      ],
      "layout": "IPY_MODEL_1cc3aa43484c4fc791de5dbf844225cb"
     }
    },
    "de42f88fd8b94612ae6994efa381d856": {
     "model_module": "@jupyter-widgets/base",
     "model_name": "LayoutModel",
     "state": {
      "_model_module": "@jupyter-widgets/base",
      "_model_module_version": "1.2.0",
      "_model_name": "LayoutModel",
      "_view_count": null,
      "_view_module": "@jupyter-widgets/base",
      "_view_module_version": "1.2.0",
      "_view_name": "LayoutView",
      "align_content": null,
      "align_items": null,
      "align_self": null,
      "border": null,
      "bottom": null,
      "display": null,
      "flex": null,
      "flex_flow": null,
      "grid_area": null,
      "grid_auto_columns": null,
      "grid_auto_flow": null,
      "grid_auto_rows": null,
      "grid_column": null,
      "grid_gap": null,
      "grid_row": null,
      "grid_template_areas": null,
      "grid_template_columns": null,
      "grid_template_rows": null,
      "height": null,
      "justify_content": null,
      "justify_items": null,
      "left": null,
      "margin": null,
      "max_height": null,
      "max_width": null,
      "min_height": null,
      "min_width": null,
      "object_fit": null,
      "object_position": null,
      "order": null,
      "overflow": null,
      "overflow_x": null,
      "overflow_y": null,
      "padding": null,
      "right": null,
      "top": null,
      "visibility": null,
      "width": null
     }
    },
    "df6cd9f071c0499f9cc60e9622c23a96": {
     "model_module": "@jupyter-widgets/controls",
     "model_name": "HTMLModel",
     "state": {
      "_dom_classes": [],
      "_model_module": "@jupyter-widgets/controls",
      "_model_module_version": "1.5.0",
      "_model_name": "HTMLModel",
      "_view_count": null,
      "_view_module": "@jupyter-widgets/controls",
      "_view_module_version": "1.5.0",
      "_view_name": "HTMLView",
      "description": "",
      "description_tooltip": null,
      "layout": "IPY_MODEL_e534b045896248ad9cf4d75b3b2ef4cc",
      "placeholder": "​",
      "style": "IPY_MODEL_ec2880ee25d54992aaf9ee43a1c2e885",
      "value": " 11/11 [05:22&lt;00:00, 29.35s/it, loss = 3.114]"
     }
    },
    "e534b045896248ad9cf4d75b3b2ef4cc": {
     "model_module": "@jupyter-widgets/base",
     "model_name": "LayoutModel",
     "state": {
      "_model_module": "@jupyter-widgets/base",
      "_model_module_version": "1.2.0",
      "_model_name": "LayoutModel",
      "_view_count": null,
      "_view_module": "@jupyter-widgets/base",
      "_view_module_version": "1.2.0",
      "_view_name": "LayoutView",
      "align_content": null,
      "align_items": null,
      "align_self": null,
      "border": null,
      "bottom": null,
      "display": null,
      "flex": null,
      "flex_flow": null,
      "grid_area": null,
      "grid_auto_columns": null,
      "grid_auto_flow": null,
      "grid_auto_rows": null,
      "grid_column": null,
      "grid_gap": null,
      "grid_row": null,
      "grid_template_areas": null,
      "grid_template_columns": null,
      "grid_template_rows": null,
      "height": null,
      "justify_content": null,
      "justify_items": null,
      "left": null,
      "margin": null,
      "max_height": null,
      "max_width": null,
      "min_height": null,
      "min_width": null,
      "object_fit": null,
      "object_position": null,
      "order": null,
      "overflow": null,
      "overflow_x": null,
      "overflow_y": null,
      "padding": null,
      "right": null,
      "top": null,
      "visibility": null,
      "width": null
     }
    },
    "ec2880ee25d54992aaf9ee43a1c2e885": {
     "model_module": "@jupyter-widgets/controls",
     "model_name": "DescriptionStyleModel",
     "state": {
      "_model_module": "@jupyter-widgets/controls",
      "_model_module_version": "1.5.0",
      "_model_name": "DescriptionStyleModel",
      "_view_count": null,
      "_view_module": "@jupyter-widgets/base",
      "_view_module_version": "1.2.0",
      "_view_name": "StyleView",
      "description_width": ""
     }
    }
   }
  }
 },
 "nbformat": 4,
 "nbformat_minor": 1
}
