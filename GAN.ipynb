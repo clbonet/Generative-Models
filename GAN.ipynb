{
  "nbformat": 4,
  "nbformat_minor": 0,
  "metadata": {
    "accelerator": "GPU",
    "colab": {
      "name": "GAN.ipynb",
      "provenance": [],
      "collapsed_sections": []
    },
    "kernelspec": {
      "display_name": "Python 3",
      "language": "python",
      "name": "python3"
    },
    "language_info": {
      "codemirror_mode": {
        "name": "ipython",
        "version": 3
      },
      "file_extension": ".py",
      "mimetype": "text/x-python",
      "name": "python",
      "nbconvert_exporter": "python",
      "pygments_lexer": "ipython3",
      "version": "3.8.5"
    },
    "toc": {
      "base_numbering": 1,
      "nav_menu": {},
      "number_sections": true,
      "sideBar": true,
      "skip_h1_title": false,
      "title_cell": "Table of Contents",
      "title_sidebar": "Contents",
      "toc_cell": false,
      "toc_position": {},
      "toc_section_display": true,
      "toc_window_display": false
    }
  },
  "cells": [
    {
      "cell_type": "code",
      "metadata": {
        "id": "AoX3p78BNFwx"
      },
      "source": [
        "import torch\n",
        "import torch.optim as optim\n",
        "import torch.nn as nn\n",
        "import torch.nn.functional as F\n",
        "\n",
        "import torchvision\n",
        "\n",
        "from IPython import display\n",
        "from torch.autograd.variable import Variable\n",
        "import matplotlib.pyplot as plt\n",
        "import numpy as np"
      ],
      "execution_count": 1,
      "outputs": []
    },
    {
      "cell_type": "code",
      "metadata": {
        "id": "fss8rw0ZC2TY"
      },
      "source": [
        "device = \"cuda\" if torch.cuda.is_available() else \"cpu\""
      ],
      "execution_count": 2,
      "outputs": []
    },
    {
      "cell_type": "code",
      "metadata": {
        "id": "XRULv_wyNFwz"
      },
      "source": [
        "transform = torchvision.transforms.Compose([\n",
        "                torchvision.transforms.ToTensor(),\n",
        "                torchvision.transforms.Normalize((0.5,), (0.5,))\n",
        "    ])\n",
        "\n",
        "train_dataset = torchvision.datasets.MNIST(\n",
        "    root=\"~/torch_datasets\", train=True, transform=transform, download=True\n",
        ")\n",
        "\n",
        "test_dataset = torchvision.datasets.MNIST(\n",
        "    root=\"~/torch_datasets\", train=False, transform=transform, download=True\n",
        ")\n",
        "\n",
        "train_loader = torch.utils.data.DataLoader(\n",
        "    train_dataset, batch_size=128, shuffle=True, num_workers=4, pin_memory=True\n",
        ")\n",
        "\n",
        "test_loader = torch.utils.data.DataLoader(\n",
        "    test_dataset, batch_size=32, shuffle=False, num_workers=4\n",
        ")"
      ],
      "execution_count": 3,
      "outputs": []
    },
    {
      "cell_type": "code",
      "metadata": {
        "id": "dZ34qOilNFw0"
      },
      "source": [
        "num_batches = len(train_loader)"
      ],
      "execution_count": 4,
      "outputs": []
    },
    {
      "cell_type": "code",
      "metadata": {
        "id": "-yvn0TjxNFw1"
      },
      "source": [
        "# https://github.com/diegoalejogm/gans/blob/master/1.%20Vanilla%20GAN%20PyTorch.ipynb\n",
        "\n",
        "class DiscriminatorNet(torch.nn.Module):\n",
        "    \"\"\"\n",
        "    A three hidden-layer discriminative neural network\n",
        "    \"\"\"\n",
        "    def __init__(self):\n",
        "        super(DiscriminatorNet, self).__init__()\n",
        "        n_features = 784\n",
        "        n_out = 1\n",
        "        \n",
        "        self.hidden0 = nn.Sequential( \n",
        "            nn.Linear(n_features, 1024),\n",
        "            nn.LeakyReLU(0.2),\n",
        "            nn.Dropout(0.3)\n",
        "        )\n",
        "        self.hidden1 = nn.Sequential(\n",
        "            nn.Linear(1024, 512),\n",
        "            nn.LeakyReLU(0.2),\n",
        "            nn.Dropout(0.3)\n",
        "        )\n",
        "        self.hidden2 = nn.Sequential(\n",
        "            nn.Linear(512, 256),\n",
        "            nn.LeakyReLU(0.2),\n",
        "            nn.Dropout(0.3)\n",
        "        )\n",
        "        self.out = nn.Sequential(\n",
        "            torch.nn.Linear(256, n_out),\n",
        "            torch.nn.Sigmoid()\n",
        "        )\n",
        "\n",
        "    def forward(self, x):\n",
        "        x = self.hidden0(x)\n",
        "        x = self.hidden1(x)\n",
        "        x = self.hidden2(x)\n",
        "        x = self.out(x)\n",
        "        return x\n",
        "    \n",
        "    \n",
        "\n",
        "class GeneratorNet(torch.nn.Module):\n",
        "    \"\"\"\n",
        "    A three hidden-layer generative neural network\n",
        "    \"\"\"\n",
        "    def __init__(self):\n",
        "        super(GeneratorNet, self).__init__()\n",
        "        n_features = 100\n",
        "        n_out = 784\n",
        "        \n",
        "        self.hidden0 = nn.Sequential(\n",
        "            nn.Linear(n_features, 256),\n",
        "            nn.LeakyReLU(0.2)\n",
        "        )\n",
        "        self.hidden1 = nn.Sequential(            \n",
        "            nn.Linear(256, 512),\n",
        "            nn.LeakyReLU(0.2)\n",
        "        )\n",
        "        self.hidden2 = nn.Sequential(\n",
        "            nn.Linear(512, 1024),\n",
        "            nn.LeakyReLU(0.2)\n",
        "        )\n",
        "        \n",
        "        self.out = nn.Sequential(\n",
        "            nn.Linear(1024, n_out),\n",
        "            nn.Tanh()\n",
        "        )\n",
        "\n",
        "    def forward(self, x):\n",
        "        x = self.hidden0(x)\n",
        "        x = self.hidden1(x)\n",
        "        x = self.hidden2(x)\n",
        "        x = self.out(x)\n",
        "        return x"
      ],
      "execution_count": 5,
      "outputs": []
    },
    {
      "cell_type": "code",
      "metadata": {
        "id": "z28T4BNQNFw3"
      },
      "source": [
        "discriminator = DiscriminatorNet().to(device)\n",
        "generator = GeneratorNet().to(device)"
      ],
      "execution_count": 6,
      "outputs": []
    },
    {
      "cell_type": "code",
      "metadata": {
        "id": "r8eIO7DGNFw3"
      },
      "source": [
        "# Optimizers\n",
        "d_optimizer = optim.Adam(discriminator.parameters(), lr=0.0002)\n",
        "g_optimizer = optim.Adam(generator.parameters(), lr=0.0002)\n",
        "\n",
        "# Loss function\n",
        "loss = nn.BCELoss()\n",
        "\n",
        "# Number of steps to apply to the discriminator\n",
        "d_steps = 1  # In Goodfellow et. al 2014 this variable is assigned to 1\n",
        "# Number of epochs\n",
        "num_epochs = 201"
      ],
      "execution_count": 7,
      "outputs": []
    },
    {
      "cell_type": "code",
      "metadata": {
        "id": "XkPvcHelC2Td"
      },
      "source": [
        "  def images_to_vectors(images):\n",
        "    return images.view(images.size(0), 784)\n",
        "\n",
        "def vectors_to_images(vectors):\n",
        "    return vectors.view(vectors.size(0), 1, 28, 28)"
      ],
      "execution_count": 8,
      "outputs": []
    },
    {
      "cell_type": "code",
      "metadata": {
        "id": "n9-Y-9h0NFw4"
      },
      "source": [
        "def train_discriminator(optimizer, real_data, fake_data):\n",
        "    optimizer.zero_grad()\n",
        "    \n",
        "    prediction_real = discriminator(real_data)\n",
        "\n",
        "    error_real = loss(prediction_real, torch.ones(real_data.size(0),1,device=device))\n",
        "    error_real.backward()\n",
        "\n",
        "    prediction_fake = discriminator(fake_data)\n",
        "\n",
        "    error_fake = loss(prediction_fake, torch.zeros(real_data.size(0),1,device=device))\n",
        "    error_fake.backward()\n",
        "    \n",
        "    optimizer.step()\n",
        "    \n",
        "    return error_real + error_fake\n",
        "\n",
        "def train_generator(optimizer, fake_data):\n",
        "    optimizer.zero_grad()\n",
        "\n",
        "    prediction = discriminator(fake_data)\n",
        "    error = loss(prediction, torch.ones(real_data.size(0),1,device=device))\n",
        "    error.backward()\n",
        "\n",
        "    optimizer.step()\n",
        "\n",
        "    return error"
      ],
      "execution_count": 9,
      "outputs": []
    },
    {
      "cell_type": "code",
      "metadata": {
        "id": "MzB2WR9VOSkt"
      },
      "source": [
        "num_test_samples = 16\n",
        "d = 100\n",
        "test_noise = torch.randn(num_test_samples, 100, device=device)"
      ],
      "execution_count": 10,
      "outputs": []
    },
    {
      "cell_type": "code",
      "metadata": {
        "id": "NkFXhMpeNXUT"
      },
      "source": [
        "def val_test(test_image):\n",
        "    fig, ax = plt.subplots(2,8,figsize=(15,7))\n",
        "    for k in range(16):\n",
        "        i = k%2\n",
        "        j = k//2\n",
        "        ax[i,j].imshow(test_image[k][0],\"gray\")\n",
        "    plt.show()"
      ],
      "execution_count": 11,
      "outputs": []
    },
    {
      "cell_type": "code",
      "metadata": {
        "colab": {
          "base_uri": "https://localhost:8080/",
          "height": 347
        },
        "id": "q8jv9sOlNFw5",
        "outputId": "4561f7e6-50dd-4871-92e6-c465b5ff926f"
      },
      "source": [
        "for epoch in range(num_epochs):\n",
        "    g_loss = []\n",
        "    d_loss = []\n",
        "\n",
        "    for n_batch, (real_batch,_) in enumerate(train_loader):\n",
        "\n",
        "        # Train Discriminator\n",
        "        # real_data = Variable(images_to_vectors(real_batch)).to(device)\n",
        "        real_data = real_batch.view(-1,28*28).to(device)\n",
        "        fake_data = generator(torch.randn(real_data.size(0), 100, device=device)).detach()        \n",
        "        d_error = train_discriminator(d_optimizer, real_data, fake_data)\n",
        "\n",
        "        # Train Generator\n",
        "        fake_data = generator(torch.randn(real_batch.size(0), 100, device=device, requires_grad=True))\n",
        "        g_error = train_generator(g_optimizer, fake_data)\n",
        "\n",
        "        d_loss.append(d_error.item())\n",
        "        g_loss.append(g_error.item())\n",
        "\n",
        "    print(epoch, np.mean(d_loss), d_loss[-1], np.mean(g_loss), g_loss[-1])\n",
        "\n",
        "    if epoch % 50 == 0:\n",
        "        display.clear_output(True)\n",
        "        # test_images = vectors_to_images(generator(test_noise)).data.cpu()\n",
        "        test_images = generator(test_noise).view(-1,1,28,28).data.cpu()\n",
        "\n",
        "        val_test(test_images)\n"
      ],
      "execution_count": 12,
      "outputs": [
        {
          "output_type": "display_data",
          "data": {
            "image/png": "[encoded data removed]",
            "text/plain": [
              "<Figure size 1080x504 with 16 Axes>"
            ]
          },
          "metadata": {
            "tags": [],
            "needs_background": "light"
          }
        }
      ]
    },
    {
      "cell_type": "code",
      "metadata": {
        "id": "iRbfkRY1NFw6"
      },
      "source": [
        ""
      ],
      "execution_count": 12,
      "outputs": []
    },
    {
      "cell_type": "code",
      "metadata": {
        "id": "pNS7E6qKNFw7"
      },
      "source": [
        ""
      ],
      "execution_count": 12,
      "outputs": []
    },
    {
      "cell_type": "code",
      "metadata": {
        "id": "CuJpr5gCC5qj"
      },
      "source": [
        ""
      ],
      "execution_count": 12,
      "outputs": []
    }
  ]
}